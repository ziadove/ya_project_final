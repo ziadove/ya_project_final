{
 "cells": [
  {
   "cell_type": "markdown",
   "id": "6a14f824",
   "metadata": {},
   "source": [
    "# Задание по SQL"
   ]
  },
  {
   "cell_type": "markdown",
   "id": "3917f8a7",
   "metadata": {},
   "source": [
    "# Схема:"
   ]
  },
  {
   "cell_type": "markdown",
   "id": "2130dcae",
   "metadata": {},
   "source": [
    "<a href=\"https://ibb.co/X8D6k1P\"><img src=\"https://i.ibb.co/FVXcq21/image.png\" alt=\"image\" border=\"0\"></a>"
   ]
  },
  {
   "cell_type": "markdown",
   "id": "9c87d81f",
   "metadata": {},
   "source": [
    "# Описание данных:"
   ]
  },
  {
   "cell_type": "markdown",
   "id": "ad446148",
   "metadata": {},
   "source": [
    "<b>Таблица books</b>\n",
    "\n",
    "Содержит данные о книгах:\n",
    "- book_id — идентификатор книги;\n",
    "- author_id — идентификатор автора;\n",
    "- title — название книги;\n",
    "- num_pages — количество страниц;\n",
    "- publication_date — дата публикации книги;\n",
    "- publisher_id — идентификатор издателя.\n",
    "\n",
    "<b>Таблица authors</b>\n",
    "\n",
    "Содержит данные об авторах:\n",
    "- author_id — идентификатор автора;\n",
    "- author — имя автора.\n",
    "\n",
    "<b>Таблица publishers</b>\n",
    "\n",
    "Содержит данные об издательствах:\n",
    "- publisher_id — идентификатор издательства;\n",
    "- publisher — название издательства;\n",
    "\n",
    "<b>Таблица ratings</b>\n",
    "\n",
    "Содержит данные о пользовательских оценках книг:\n",
    "- rating_id — идентификатор оценки;\n",
    "- book_id — идентификатор книги;\n",
    "- username — имя пользователя, оставившего оценку;\n",
    "- rating — оценка книги.\n",
    "\n",
    "<b>Таблица reviews</b>\n",
    "\n",
    "Содержит данные о пользовательских обзорах на книги:\n",
    "- review_id — идентификатор обзора;\n",
    "- book_id — идентификатор книги;\n",
    "- username — имя пользователя, написавшего обзор;\n",
    "- text — текст обзора.\n"
   ]
  },
  {
   "cell_type": "markdown",
   "id": "092463d4",
   "metadata": {},
   "source": [
    "# Цель исследования:\n",
    "\n",
    "- загрузить таблицы, проанализировать их и ответить на вопросы \"заказчика\":\n",
    "1. сколько книг вышло после 1 января 2000 года;\n",
    "2. для каждой книги посчитайте количество обзоров и среднюю оценку;\n",
    "3. определите издательство, которое выпустило наибольшее число книг толще 50 страниц — так вы исключите из анализа брошюры;\n",
    "4. определите автора с самой высокой средней оценкой книг — учитывайте только книги с 50 и более оценками;\n",
    "5. посчитайте среднее количество обзоров от пользователей, которые поставили больше 48 оценок."
   ]
  },
  {
   "cell_type": "markdown",
   "id": "8e3e41a0",
   "metadata": {},
   "source": [
    "# Импорт библиотек. Подключение к базе."
   ]
  },
  {
   "cell_type": "code",
   "execution_count": 1,
   "id": "699229ea",
   "metadata": {},
   "outputs": [],
   "source": [
    "# импорт библиотек\n",
    "\n",
    "import pandas as pd\n",
    "from sqlalchemy import text, create_engine\n",
    "\n",
    "import matplotlib.pyplot as plt"
   ]
  },
  {
   "cell_type": "code",
   "execution_count": 2,
   "id": "75f60a38",
   "metadata": {},
   "outputs": [],
   "source": [
    "# устанавливаем параметры\n",
    "\n",
    "db_config = {'user': 'praktikum_student', # имя пользователя\n",
    "'pwd': 'Sdf4$2;d-d30pp', # пароль\n",
    "'host': 'rc1b-wcoijxj3yxfsf3fs.mdb.yandexcloud.net',\n",
    "'port': 6432, # порт подключения\n",
    "'db': 'data-analyst-final-project-db'} # название базы данных\n",
    "connection_string = 'postgresql://{user}:{pwd}@{host}:{port}/{db}'.format(**db_config)"
   ]
  },
  {
   "cell_type": "code",
   "execution_count": 3,
   "id": "4d5d5a9f",
   "metadata": {},
   "outputs": [],
   "source": [
    "# сохраняем коннектор\n",
    "\n",
    "engine = create_engine(connection_string, connect_args={'sslmode':'require'})"
   ]
  },
  {
   "cell_type": "markdown",
   "id": "adf71d37",
   "metadata": {},
   "source": [
    "# Исследуем таблицы."
   ]
  },
  {
   "cell_type": "code",
   "execution_count": 4,
   "id": "52e24466",
   "metadata": {},
   "outputs": [],
   "source": [
    "query_eda_1 = '''SELECT * FROM books'''\n",
    "\n",
    "query_eda_2 = '''SELECT * FROM authors'''\n",
    "\n",
    "query_eda_3 = '''SELECT * FROM publishers'''\n",
    "\n",
    "query_eda_4 = '''SELECT * FROM ratings '''\n",
    "\n",
    "query_eda_5 = '''SELECT * FROM reviews'''"
   ]
  },
  {
   "cell_type": "code",
   "execution_count": 5,
   "id": "58830064",
   "metadata": {},
   "outputs": [
    {
     "name": "stdout",
     "output_type": "stream",
     "text": [
      "1000\n"
     ]
    },
    {
     "data": {
      "text/html": [
       "<div>\n",
       "<style scoped>\n",
       "    .dataframe tbody tr th:only-of-type {\n",
       "        vertical-align: middle;\n",
       "    }\n",
       "\n",
       "    .dataframe tbody tr th {\n",
       "        vertical-align: top;\n",
       "    }\n",
       "\n",
       "    .dataframe thead th {\n",
       "        text-align: right;\n",
       "    }\n",
       "</style>\n",
       "<table border=\"1\" class=\"dataframe\">\n",
       "  <thead>\n",
       "    <tr style=\"text-align: right;\">\n",
       "      <th></th>\n",
       "      <th>book_id</th>\n",
       "      <th>author_id</th>\n",
       "      <th>title</th>\n",
       "      <th>num_pages</th>\n",
       "      <th>publication_date</th>\n",
       "      <th>publisher_id</th>\n",
       "    </tr>\n",
       "  </thead>\n",
       "  <tbody>\n",
       "    <tr>\n",
       "      <th>0</th>\n",
       "      <td>1</td>\n",
       "      <td>546</td>\n",
       "      <td>'Salem's Lot</td>\n",
       "      <td>594</td>\n",
       "      <td>2005-11-01</td>\n",
       "      <td>93</td>\n",
       "    </tr>\n",
       "    <tr>\n",
       "      <th>1</th>\n",
       "      <td>2</td>\n",
       "      <td>465</td>\n",
       "      <td>1 000 Places to See Before You Die</td>\n",
       "      <td>992</td>\n",
       "      <td>2003-05-22</td>\n",
       "      <td>336</td>\n",
       "    </tr>\n",
       "    <tr>\n",
       "      <th>2</th>\n",
       "      <td>3</td>\n",
       "      <td>407</td>\n",
       "      <td>13 Little Blue Envelopes (Little Blue Envelope...</td>\n",
       "      <td>322</td>\n",
       "      <td>2010-12-21</td>\n",
       "      <td>135</td>\n",
       "    </tr>\n",
       "    <tr>\n",
       "      <th>3</th>\n",
       "      <td>4</td>\n",
       "      <td>82</td>\n",
       "      <td>1491: New Revelations of the Americas Before C...</td>\n",
       "      <td>541</td>\n",
       "      <td>2006-10-10</td>\n",
       "      <td>309</td>\n",
       "    </tr>\n",
       "    <tr>\n",
       "      <th>4</th>\n",
       "      <td>5</td>\n",
       "      <td>125</td>\n",
       "      <td>1776</td>\n",
       "      <td>386</td>\n",
       "      <td>2006-07-04</td>\n",
       "      <td>268</td>\n",
       "    </tr>\n",
       "  </tbody>\n",
       "</table>\n",
       "</div>"
      ],
      "text/plain": [
       "   book_id  author_id                                              title  \\\n",
       "0        1        546                                       'Salem's Lot   \n",
       "1        2        465                 1 000 Places to See Before You Die   \n",
       "2        3        407  13 Little Blue Envelopes (Little Blue Envelope...   \n",
       "3        4         82  1491: New Revelations of the Americas Before C...   \n",
       "4        5        125                                               1776   \n",
       "\n",
       "   num_pages publication_date  publisher_id  \n",
       "0        594       2005-11-01            93  \n",
       "1        992       2003-05-22           336  \n",
       "2        322       2010-12-21           135  \n",
       "3        541       2006-10-10           309  \n",
       "4        386       2006-07-04           268  "
      ]
     },
     "execution_count": 5,
     "metadata": {},
     "output_type": "execute_result"
    }
   ],
   "source": [
    "# первые пять строк таблицы books\n",
    "\n",
    "books = pd.io.sql.read_sql(sql=text(query_eda_1), con = engine)\n",
    "\n",
    "print(books.shape[0])\n",
    "books.head(5)"
   ]
  },
  {
   "cell_type": "markdown",
   "id": "de5b6d17",
   "metadata": {},
   "source": [
    "По условию, в таблице books содержатся данные о книгах. В таблице 1 000 строк, 6 столбцов:\n",
    "- 4 столбца содержат числовые данные (int или smallint ?), \n",
    "- столбец title содержит символьные значение (varchar или text ?),\n",
    "- столбец publication_date - данные в формате date."
   ]
  },
  {
   "cell_type": "code",
   "execution_count": 6,
   "id": "2f86cc43",
   "metadata": {},
   "outputs": [
    {
     "name": "stdout",
     "output_type": "stream",
     "text": [
      "636\n"
     ]
    },
    {
     "data": {
      "text/html": [
       "<div>\n",
       "<style scoped>\n",
       "    .dataframe tbody tr th:only-of-type {\n",
       "        vertical-align: middle;\n",
       "    }\n",
       "\n",
       "    .dataframe tbody tr th {\n",
       "        vertical-align: top;\n",
       "    }\n",
       "\n",
       "    .dataframe thead th {\n",
       "        text-align: right;\n",
       "    }\n",
       "</style>\n",
       "<table border=\"1\" class=\"dataframe\">\n",
       "  <thead>\n",
       "    <tr style=\"text-align: right;\">\n",
       "      <th></th>\n",
       "      <th>author_id</th>\n",
       "      <th>author</th>\n",
       "    </tr>\n",
       "  </thead>\n",
       "  <tbody>\n",
       "    <tr>\n",
       "      <th>0</th>\n",
       "      <td>1</td>\n",
       "      <td>A.S. Byatt</td>\n",
       "    </tr>\n",
       "    <tr>\n",
       "      <th>1</th>\n",
       "      <td>2</td>\n",
       "      <td>Aesop/Laura Harris/Laura Gibbs</td>\n",
       "    </tr>\n",
       "    <tr>\n",
       "      <th>2</th>\n",
       "      <td>3</td>\n",
       "      <td>Agatha Christie</td>\n",
       "    </tr>\n",
       "    <tr>\n",
       "      <th>3</th>\n",
       "      <td>4</td>\n",
       "      <td>Alan Brennert</td>\n",
       "    </tr>\n",
       "    <tr>\n",
       "      <th>4</th>\n",
       "      <td>5</td>\n",
       "      <td>Alan Moore/David   Lloyd</td>\n",
       "    </tr>\n",
       "  </tbody>\n",
       "</table>\n",
       "</div>"
      ],
      "text/plain": [
       "   author_id                          author\n",
       "0          1                      A.S. Byatt\n",
       "1          2  Aesop/Laura Harris/Laura Gibbs\n",
       "2          3                 Agatha Christie\n",
       "3          4                   Alan Brennert\n",
       "4          5        Alan Moore/David   Lloyd"
      ]
     },
     "execution_count": 6,
     "metadata": {},
     "output_type": "execute_result"
    }
   ],
   "source": [
    "# первые пять строк таблицы authors\n",
    "\n",
    "author = pd.io.sql.read_sql(sql=text(query_eda_2), con = engine)\n",
    "\n",
    "print(author.shape[0])\n",
    "author.head(5)"
   ]
  },
  {
   "cell_type": "markdown",
   "id": "65eb652f",
   "metadata": {},
   "source": [
    "В таблице author - 636 строк и 2 столбца - один из них содержит числовые значение, другой - символьные."
   ]
  },
  {
   "cell_type": "code",
   "execution_count": 7,
   "id": "193226c7",
   "metadata": {},
   "outputs": [
    {
     "name": "stdout",
     "output_type": "stream",
     "text": [
      "340\n"
     ]
    },
    {
     "data": {
      "text/html": [
       "<div>\n",
       "<style scoped>\n",
       "    .dataframe tbody tr th:only-of-type {\n",
       "        vertical-align: middle;\n",
       "    }\n",
       "\n",
       "    .dataframe tbody tr th {\n",
       "        vertical-align: top;\n",
       "    }\n",
       "\n",
       "    .dataframe thead th {\n",
       "        text-align: right;\n",
       "    }\n",
       "</style>\n",
       "<table border=\"1\" class=\"dataframe\">\n",
       "  <thead>\n",
       "    <tr style=\"text-align: right;\">\n",
       "      <th></th>\n",
       "      <th>publisher_id</th>\n",
       "      <th>publisher</th>\n",
       "    </tr>\n",
       "  </thead>\n",
       "  <tbody>\n",
       "    <tr>\n",
       "      <th>0</th>\n",
       "      <td>1</td>\n",
       "      <td>Ace</td>\n",
       "    </tr>\n",
       "    <tr>\n",
       "      <th>1</th>\n",
       "      <td>2</td>\n",
       "      <td>Ace Book</td>\n",
       "    </tr>\n",
       "    <tr>\n",
       "      <th>2</th>\n",
       "      <td>3</td>\n",
       "      <td>Ace Books</td>\n",
       "    </tr>\n",
       "    <tr>\n",
       "      <th>3</th>\n",
       "      <td>4</td>\n",
       "      <td>Ace Hardcover</td>\n",
       "    </tr>\n",
       "    <tr>\n",
       "      <th>4</th>\n",
       "      <td>5</td>\n",
       "      <td>Addison Wesley Publishing Company</td>\n",
       "    </tr>\n",
       "  </tbody>\n",
       "</table>\n",
       "</div>"
      ],
      "text/plain": [
       "   publisher_id                          publisher\n",
       "0             1                                Ace\n",
       "1             2                           Ace Book\n",
       "2             3                          Ace Books\n",
       "3             4                      Ace Hardcover\n",
       "4             5  Addison Wesley Publishing Company"
      ]
     },
     "execution_count": 7,
     "metadata": {},
     "output_type": "execute_result"
    }
   ],
   "source": [
    "# первые пять строк таблицы books\n",
    "\n",
    "publisher = pd.io.sql.read_sql(sql=text(query_eda_3), con = engine)\n",
    "\n",
    "print(publisher.shape[0])\n",
    "publisher.head(5)"
   ]
  },
  {
   "cell_type": "markdown",
   "id": "26f08789",
   "metadata": {},
   "source": [
    "В publisher - 340 строк, содержание схоже с таблицей author (один столбец - числовой, второй - строка)."
   ]
  },
  {
   "cell_type": "code",
   "execution_count": 8,
   "id": "fb139167",
   "metadata": {},
   "outputs": [
    {
     "name": "stdout",
     "output_type": "stream",
     "text": [
      "6456\n"
     ]
    },
    {
     "data": {
      "text/html": [
       "<div>\n",
       "<style scoped>\n",
       "    .dataframe tbody tr th:only-of-type {\n",
       "        vertical-align: middle;\n",
       "    }\n",
       "\n",
       "    .dataframe tbody tr th {\n",
       "        vertical-align: top;\n",
       "    }\n",
       "\n",
       "    .dataframe thead th {\n",
       "        text-align: right;\n",
       "    }\n",
       "</style>\n",
       "<table border=\"1\" class=\"dataframe\">\n",
       "  <thead>\n",
       "    <tr style=\"text-align: right;\">\n",
       "      <th></th>\n",
       "      <th>rating_id</th>\n",
       "      <th>book_id</th>\n",
       "      <th>username</th>\n",
       "      <th>rating</th>\n",
       "    </tr>\n",
       "  </thead>\n",
       "  <tbody>\n",
       "    <tr>\n",
       "      <th>0</th>\n",
       "      <td>1</td>\n",
       "      <td>1</td>\n",
       "      <td>ryanfranco</td>\n",
       "      <td>4</td>\n",
       "    </tr>\n",
       "    <tr>\n",
       "      <th>1</th>\n",
       "      <td>2</td>\n",
       "      <td>1</td>\n",
       "      <td>grantpatricia</td>\n",
       "      <td>2</td>\n",
       "    </tr>\n",
       "    <tr>\n",
       "      <th>2</th>\n",
       "      <td>3</td>\n",
       "      <td>1</td>\n",
       "      <td>brandtandrea</td>\n",
       "      <td>5</td>\n",
       "    </tr>\n",
       "    <tr>\n",
       "      <th>3</th>\n",
       "      <td>4</td>\n",
       "      <td>2</td>\n",
       "      <td>lorichen</td>\n",
       "      <td>3</td>\n",
       "    </tr>\n",
       "    <tr>\n",
       "      <th>4</th>\n",
       "      <td>5</td>\n",
       "      <td>2</td>\n",
       "      <td>mariokeller</td>\n",
       "      <td>2</td>\n",
       "    </tr>\n",
       "  </tbody>\n",
       "</table>\n",
       "</div>"
      ],
      "text/plain": [
       "   rating_id  book_id       username  rating\n",
       "0          1        1     ryanfranco       4\n",
       "1          2        1  grantpatricia       2\n",
       "2          3        1   brandtandrea       5\n",
       "3          4        2       lorichen       3\n",
       "4          5        2    mariokeller       2"
      ]
     },
     "execution_count": 8,
     "metadata": {},
     "output_type": "execute_result"
    }
   ],
   "source": [
    "# первые пять строк таблицы ratings\n",
    "\n",
    "rating = pd.io.sql.read_sql(sql=text(query_eda_4), con = engine)\n",
    "\n",
    "print(rating.shape[0])\n",
    "rating.head(5)"
   ]
  },
  {
   "cell_type": "markdown",
   "id": "63714962",
   "metadata": {},
   "source": [
    "На данный момент, таблица rating - самая длинная из имеющихся.\n",
    "Хранит в себе данные о пользовательских оценках книг - 6 456 строк и 4 стобца, три из которых - числые, один - текстовый."
   ]
  },
  {
   "cell_type": "code",
   "execution_count": 9,
   "id": "73655f58",
   "metadata": {},
   "outputs": [
    {
     "name": "stdout",
     "output_type": "stream",
     "text": [
      "2793\n"
     ]
    },
    {
     "data": {
      "text/html": [
       "<div>\n",
       "<style scoped>\n",
       "    .dataframe tbody tr th:only-of-type {\n",
       "        vertical-align: middle;\n",
       "    }\n",
       "\n",
       "    .dataframe tbody tr th {\n",
       "        vertical-align: top;\n",
       "    }\n",
       "\n",
       "    .dataframe thead th {\n",
       "        text-align: right;\n",
       "    }\n",
       "</style>\n",
       "<table border=\"1\" class=\"dataframe\">\n",
       "  <thead>\n",
       "    <tr style=\"text-align: right;\">\n",
       "      <th></th>\n",
       "      <th>review_id</th>\n",
       "      <th>book_id</th>\n",
       "      <th>username</th>\n",
       "      <th>text</th>\n",
       "    </tr>\n",
       "  </thead>\n",
       "  <tbody>\n",
       "    <tr>\n",
       "      <th>0</th>\n",
       "      <td>1</td>\n",
       "      <td>1</td>\n",
       "      <td>brandtandrea</td>\n",
       "      <td>Mention society tell send professor analysis. ...</td>\n",
       "    </tr>\n",
       "    <tr>\n",
       "      <th>1</th>\n",
       "      <td>2</td>\n",
       "      <td>1</td>\n",
       "      <td>ryanfranco</td>\n",
       "      <td>Foot glass pretty audience hit themselves. Amo...</td>\n",
       "    </tr>\n",
       "    <tr>\n",
       "      <th>2</th>\n",
       "      <td>3</td>\n",
       "      <td>2</td>\n",
       "      <td>lorichen</td>\n",
       "      <td>Listen treat keep worry. Miss husband tax but ...</td>\n",
       "    </tr>\n",
       "    <tr>\n",
       "      <th>3</th>\n",
       "      <td>4</td>\n",
       "      <td>3</td>\n",
       "      <td>johnsonamanda</td>\n",
       "      <td>Finally month interesting blue could nature cu...</td>\n",
       "    </tr>\n",
       "    <tr>\n",
       "      <th>4</th>\n",
       "      <td>5</td>\n",
       "      <td>3</td>\n",
       "      <td>scotttamara</td>\n",
       "      <td>Nation purpose heavy give wait song will. List...</td>\n",
       "    </tr>\n",
       "  </tbody>\n",
       "</table>\n",
       "</div>"
      ],
      "text/plain": [
       "   review_id  book_id       username  \\\n",
       "0          1        1   brandtandrea   \n",
       "1          2        1     ryanfranco   \n",
       "2          3        2       lorichen   \n",
       "3          4        3  johnsonamanda   \n",
       "4          5        3    scotttamara   \n",
       "\n",
       "                                                text  \n",
       "0  Mention society tell send professor analysis. ...  \n",
       "1  Foot glass pretty audience hit themselves. Amo...  \n",
       "2  Listen treat keep worry. Miss husband tax but ...  \n",
       "3  Finally month interesting blue could nature cu...  \n",
       "4  Nation purpose heavy give wait song will. List...  "
      ]
     },
     "execution_count": 9,
     "metadata": {},
     "output_type": "execute_result"
    }
   ],
   "source": [
    "# первые пять строк таблицы reviews\n",
    "\n",
    "reviews = pd.io.sql.read_sql(sql=text(query_eda_5), con = engine)\n",
    "\n",
    "print(reviews.shape[0])\n",
    "reviews.head(5)"
   ]
  },
  {
   "cell_type": "markdown",
   "id": "8c0e9c50",
   "metadata": {},
   "source": [
    "reviews содержит данные о пользовательских обзорах на книги:\n",
    "- всего - 2 793 строки,\n",
    "- 4 столбца, из которых два числовых и два текстовых (типы которых - varchar и text)."
   ]
  },
  {
   "cell_type": "markdown",
   "id": "c99cc753",
   "metadata": {},
   "source": [
    "# Задание № 1\n",
    "\n",
    "<b>Посчитайте, сколько книг вышло после 1 января 2000 года.</b>"
   ]
  },
  {
   "cell_type": "code",
   "execution_count": 11,
   "id": "51a1130c",
   "metadata": {},
   "outputs": [],
   "source": [
    "query_1 = '''\n",
    "           SELECT COUNT(book_id)\n",
    "           FROM books\n",
    "           WHERE publication_date > '2000-01-01'\n",
    "           '''"
   ]
  },
  {
   "cell_type": "code",
   "execution_count": 12,
   "id": "6b58775a",
   "metadata": {},
   "outputs": [
    {
     "data": {
      "text/html": [
       "<div>\n",
       "<style scoped>\n",
       "    .dataframe tbody tr th:only-of-type {\n",
       "        vertical-align: middle;\n",
       "    }\n",
       "\n",
       "    .dataframe tbody tr th {\n",
       "        vertical-align: top;\n",
       "    }\n",
       "\n",
       "    .dataframe thead th {\n",
       "        text-align: right;\n",
       "    }\n",
       "</style>\n",
       "<table border=\"1\" class=\"dataframe\">\n",
       "  <thead>\n",
       "    <tr style=\"text-align: right;\">\n",
       "      <th></th>\n",
       "      <th>count</th>\n",
       "    </tr>\n",
       "  </thead>\n",
       "  <tbody>\n",
       "    <tr>\n",
       "      <th>0</th>\n",
       "      <td>819</td>\n",
       "    </tr>\n",
       "  </tbody>\n",
       "</table>\n",
       "</div>"
      ],
      "text/plain": [
       "   count\n",
       "0    819"
      ]
     },
     "execution_count": 12,
     "metadata": {},
     "output_type": "execute_result"
    }
   ],
   "source": [
    "con=engine.connect()\n",
    "\n",
    "pd.io.sql.read_sql(sql=text(query_1), con = con)"
   ]
  },
  {
   "cell_type": "markdown",
   "id": "f92ef7d0",
   "metadata": {},
   "source": [
    "В период с 1 января 2000 года по 31 марта 2020 года (максимальное значение даты из таблицы books) вышло 819 книг."
   ]
  },
  {
   "cell_type": "markdown",
   "id": "697c7611",
   "metadata": {},
   "source": [
    "# Задание № 2\n",
    "\n",
    "<b>Для каждой книги посчитайте количество обзоров и среднюю оценку.</b>"
   ]
  },
  {
   "cell_type": "code",
   "execution_count": 13,
   "id": "e46ecbfb",
   "metadata": {},
   "outputs": [],
   "source": [
    "query_2 = '''\n",
    "           WITH b_re AS\n",
    "           (SELECT DISTINCT b.book_id, b.title, \n",
    "           COUNT(re.review_id) OVER (PARTITION BY b.book_id) AS review_count\n",
    "           FROM books AS b\n",
    "           LEFT JOIN reviews AS re ON b.book_id=re.book_id),\n",
    "           \n",
    "           ra AS\n",
    "           (SELECT DISTINCT book_id, \n",
    "           ROUND(AVG(rating) OVER (PARTITION BY book_id), 2)  AS avg_rating\n",
    "           FROM ratings)\n",
    "           \n",
    "           SELECT b_re.book_id, b_re.title, b_re.review_count,\n",
    "           ra.avg_rating\n",
    "           FROM b_re\n",
    "           JOIN ra ON b_re.book_id = ra.book_id\n",
    "           '''"
   ]
  },
  {
   "cell_type": "code",
   "execution_count": 14,
   "id": "edc3a2c0",
   "metadata": {},
   "outputs": [
    {
     "data": {
      "text/html": [
       "<div>\n",
       "<style scoped>\n",
       "    .dataframe tbody tr th:only-of-type {\n",
       "        vertical-align: middle;\n",
       "    }\n",
       "\n",
       "    .dataframe tbody tr th {\n",
       "        vertical-align: top;\n",
       "    }\n",
       "\n",
       "    .dataframe thead th {\n",
       "        text-align: right;\n",
       "    }\n",
       "</style>\n",
       "<table border=\"1\" class=\"dataframe\">\n",
       "  <thead>\n",
       "    <tr style=\"text-align: right;\">\n",
       "      <th></th>\n",
       "      <th>book_id</th>\n",
       "      <th>title</th>\n",
       "      <th>review_count</th>\n",
       "      <th>avg_rating</th>\n",
       "    </tr>\n",
       "  </thead>\n",
       "  <tbody>\n",
       "    <tr>\n",
       "      <th>0</th>\n",
       "      <td>1</td>\n",
       "      <td>'Salem's Lot</td>\n",
       "      <td>2</td>\n",
       "      <td>3.67</td>\n",
       "    </tr>\n",
       "    <tr>\n",
       "      <th>1</th>\n",
       "      <td>2</td>\n",
       "      <td>1 000 Places to See Before You Die</td>\n",
       "      <td>1</td>\n",
       "      <td>2.50</td>\n",
       "    </tr>\n",
       "    <tr>\n",
       "      <th>2</th>\n",
       "      <td>3</td>\n",
       "      <td>13 Little Blue Envelopes (Little Blue Envelope...</td>\n",
       "      <td>3</td>\n",
       "      <td>4.67</td>\n",
       "    </tr>\n",
       "    <tr>\n",
       "      <th>3</th>\n",
       "      <td>4</td>\n",
       "      <td>1491: New Revelations of the Americas Before C...</td>\n",
       "      <td>2</td>\n",
       "      <td>4.50</td>\n",
       "    </tr>\n",
       "    <tr>\n",
       "      <th>4</th>\n",
       "      <td>5</td>\n",
       "      <td>1776</td>\n",
       "      <td>4</td>\n",
       "      <td>4.00</td>\n",
       "    </tr>\n",
       "    <tr>\n",
       "      <th>...</th>\n",
       "      <td>...</td>\n",
       "      <td>...</td>\n",
       "      <td>...</td>\n",
       "      <td>...</td>\n",
       "    </tr>\n",
       "    <tr>\n",
       "      <th>995</th>\n",
       "      <td>996</td>\n",
       "      <td>Wyrd Sisters (Discworld  #6; Witches #2)</td>\n",
       "      <td>3</td>\n",
       "      <td>3.67</td>\n",
       "    </tr>\n",
       "    <tr>\n",
       "      <th>996</th>\n",
       "      <td>997</td>\n",
       "      <td>Xenocide (Ender's Saga  #3)</td>\n",
       "      <td>3</td>\n",
       "      <td>3.40</td>\n",
       "    </tr>\n",
       "    <tr>\n",
       "      <th>997</th>\n",
       "      <td>998</td>\n",
       "      <td>Year of Wonders</td>\n",
       "      <td>4</td>\n",
       "      <td>3.20</td>\n",
       "    </tr>\n",
       "    <tr>\n",
       "      <th>998</th>\n",
       "      <td>999</td>\n",
       "      <td>You Suck (A Love Story  #2)</td>\n",
       "      <td>2</td>\n",
       "      <td>4.50</td>\n",
       "    </tr>\n",
       "    <tr>\n",
       "      <th>999</th>\n",
       "      <td>1000</td>\n",
       "      <td>Zen and the Art of Motorcycle Maintenance: An ...</td>\n",
       "      <td>4</td>\n",
       "      <td>3.83</td>\n",
       "    </tr>\n",
       "  </tbody>\n",
       "</table>\n",
       "<p>1000 rows × 4 columns</p>\n",
       "</div>"
      ],
      "text/plain": [
       "     book_id                                              title  review_count  \\\n",
       "0          1                                       'Salem's Lot             2   \n",
       "1          2                 1 000 Places to See Before You Die             1   \n",
       "2          3  13 Little Blue Envelopes (Little Blue Envelope...             3   \n",
       "3          4  1491: New Revelations of the Americas Before C...             2   \n",
       "4          5                                               1776             4   \n",
       "..       ...                                                ...           ...   \n",
       "995      996           Wyrd Sisters (Discworld  #6; Witches #2)             3   \n",
       "996      997                        Xenocide (Ender's Saga  #3)             3   \n",
       "997      998                                    Year of Wonders             4   \n",
       "998      999                        You Suck (A Love Story  #2)             2   \n",
       "999     1000  Zen and the Art of Motorcycle Maintenance: An ...             4   \n",
       "\n",
       "     avg_rating  \n",
       "0          3.67  \n",
       "1          2.50  \n",
       "2          4.67  \n",
       "3          4.50  \n",
       "4          4.00  \n",
       "..          ...  \n",
       "995        3.67  \n",
       "996        3.40  \n",
       "997        3.20  \n",
       "998        4.50  \n",
       "999        3.83  \n",
       "\n",
       "[1000 rows x 4 columns]"
      ]
     },
     "execution_count": 14,
     "metadata": {},
     "output_type": "execute_result"
    }
   ],
   "source": [
    "con = engine.connect()\n",
    "\n",
    "request_query_2 = pd.io.sql.read_sql(sql=text(query_2), con = con)\n",
    "request_query_2"
   ]
  },
  {
   "cell_type": "code",
   "execution_count": 15,
   "id": "15445b12",
   "metadata": {},
   "outputs": [
    {
     "data": {
      "image/png": "[encoded data removed]",
      "text/plain": [
       "<Figure size 936x216 with 2 Axes>"
      ]
     },
     "metadata": {
      "needs_background": "light"
     },
     "output_type": "display_data"
    }
   ],
   "source": [
    "# визуализируем \n",
    "\n",
    "bins_rewiew = request_query_2['review_count'].max()\n",
    "\n",
    "plt.figure(figsize=(13,3))\n",
    "plt.subplots_adjust(wspace=0.3, hspace=0.3)\n",
    "\n",
    "ax1 = plt.subplot(1, 2, 1)\n",
    "plt.title('средняя оценка книг')\n",
    "request_query_2['avg_rating'].hist()\n",
    "plt.axvline(x=request_query_2['avg_rating'].median(), color='red')\n",
    "\n",
    "\n",
    "ax2 = plt.subplot(1, 2, 2)\n",
    "plt.title('количество обзоров ')\n",
    "request_query_2['review_count'].hist(bins=bins_rewiew)\n",
    "plt.axvline(x=request_query_2['review_count'].median(), color='red')\n",
    "\n",
    "plt.show()"
   ]
  },
  {
   "cell_type": "markdown",
   "id": "1047b463",
   "metadata": {},
   "source": [
    "Медианное значение оценки книг - около 4, в датасете есть данные как о бесцеллерах, так и о посредственных книгах (оценки меньше двух).\n",
    "\n",
    "Медианное значение количества обзоров - три обзора.\n"
   ]
  },
  {
   "cell_type": "markdown",
   "id": "b6f2a112",
   "metadata": {},
   "source": [
    "# Задание № 3\n",
    "\n",
    "<b>Определите издательство, которое выпустило наибольшее число книг толще\n",
    "50 страниц — так вы исключите из анализа брошюры.</b>"
   ]
  },
  {
   "cell_type": "code",
   "execution_count": 16,
   "id": "9deed7c5",
   "metadata": {},
   "outputs": [],
   "source": [
    "query_3 = '''\n",
    "           SELECT DISTINCT p. publisher, \n",
    "           COUNT(b.book_id) OVER (PARTITION BY p.publisher)\n",
    "           FROM books AS b\n",
    "           LEFT JOIN publishers AS p ON b.publisher_id = p.publisher_id\n",
    "           WHERE b.num_pages > 50\n",
    "           ORDER BY count DESC\n",
    "           LIMIT 1\n",
    "           '''"
   ]
  },
  {
   "cell_type": "code",
   "execution_count": 17,
   "id": "80ed29ae",
   "metadata": {},
   "outputs": [
    {
     "data": {
      "text/html": [
       "<div>\n",
       "<style scoped>\n",
       "    .dataframe tbody tr th:only-of-type {\n",
       "        vertical-align: middle;\n",
       "    }\n",
       "\n",
       "    .dataframe tbody tr th {\n",
       "        vertical-align: top;\n",
       "    }\n",
       "\n",
       "    .dataframe thead th {\n",
       "        text-align: right;\n",
       "    }\n",
       "</style>\n",
       "<table border=\"1\" class=\"dataframe\">\n",
       "  <thead>\n",
       "    <tr style=\"text-align: right;\">\n",
       "      <th></th>\n",
       "      <th>publisher</th>\n",
       "      <th>count</th>\n",
       "    </tr>\n",
       "  </thead>\n",
       "  <tbody>\n",
       "    <tr>\n",
       "      <th>0</th>\n",
       "      <td>Penguin Books</td>\n",
       "      <td>42</td>\n",
       "    </tr>\n",
       "  </tbody>\n",
       "</table>\n",
       "</div>"
      ],
      "text/plain": [
       "       publisher  count\n",
       "0  Penguin Books     42"
      ]
     },
     "execution_count": 17,
     "metadata": {},
     "output_type": "execute_result"
    }
   ],
   "source": [
    "con = engine.connect()\n",
    "\n",
    "pd.io.sql.read_sql(sql=text(query_3), con = con)"
   ]
  },
  {
   "cell_type": "markdown",
   "id": "871b9355",
   "metadata": {},
   "source": [
    "Издатель-рекордсмен, выпустивших больше всего книг (толщиной более 50 страниц - не брошюр) - это Penguin Books (42 полноценных издания)."
   ]
  },
  {
   "cell_type": "markdown",
   "id": "5c52671b",
   "metadata": {},
   "source": [
    "# Задание № 4\n",
    "\n",
    "<b>Определите автора с самой высокой средней оценкой книг — учитывайте\n",
    "только книги с 50 и более оценками.</b>"
   ]
  },
  {
   "cell_type": "code",
   "execution_count": 18,
   "id": "fe711b96",
   "metadata": {},
   "outputs": [],
   "source": [
    "query_4 = '''\n",
    "          WITH ra AS\n",
    "          (SELECT DISTINCT book_id, \n",
    "          COUNT(rating_id) OVER (PARTITION BY book_id) AS rating_count,\n",
    "          ROUND(AVG(rating) OVER (PARTITION BY book_id), 2) AS rating_avg\n",
    "          FROM ratings),\n",
    "          \n",
    "          b as\n",
    "          (SELECT ra.*, b.author_id\n",
    "          FROM ra\n",
    "          JOIN books as b ON ra.book_id=b.book_id\n",
    "          WHERE ra.rating_count >= 50)\n",
    "          \n",
    "          SELECT DISTINCT b.author_id, a.author, \n",
    "          ROUND(AVG(b.rating_avg) OVER (PARTITION BY a.author_id), 6) as author_avg\n",
    "          FROM b\n",
    "          JOIN authors AS a ON a.author_id = b.author_id \n",
    "          ORDER BY author_avg DESC\n",
    "          LIMIT 1\n",
    "          '''"
   ]
  },
  {
   "cell_type": "code",
   "execution_count": 19,
   "id": "d612e0bf",
   "metadata": {
    "scrolled": false
   },
   "outputs": [
    {
     "data": {
      "text/html": [
       "<div>\n",
       "<style scoped>\n",
       "    .dataframe tbody tr th:only-of-type {\n",
       "        vertical-align: middle;\n",
       "    }\n",
       "\n",
       "    .dataframe tbody tr th {\n",
       "        vertical-align: top;\n",
       "    }\n",
       "\n",
       "    .dataframe thead th {\n",
       "        text-align: right;\n",
       "    }\n",
       "</style>\n",
       "<table border=\"1\" class=\"dataframe\">\n",
       "  <thead>\n",
       "    <tr style=\"text-align: right;\">\n",
       "      <th></th>\n",
       "      <th>author_id</th>\n",
       "      <th>author</th>\n",
       "      <th>author_avg</th>\n",
       "    </tr>\n",
       "  </thead>\n",
       "  <tbody>\n",
       "    <tr>\n",
       "      <th>0</th>\n",
       "      <td>236</td>\n",
       "      <td>J.K. Rowling/Mary GrandPré</td>\n",
       "      <td>4.285</td>\n",
       "    </tr>\n",
       "  </tbody>\n",
       "</table>\n",
       "</div>"
      ],
      "text/plain": [
       "   author_id                      author  author_avg\n",
       "0        236  J.K. Rowling/Mary GrandPré       4.285"
      ]
     },
     "execution_count": 19,
     "metadata": {},
     "output_type": "execute_result"
    }
   ],
   "source": [
    "con = engine.connect()\n",
    "\n",
    "pd.io.sql.read_sql(sql=text(query_4), con = con)"
   ]
  },
  {
   "cell_type": "markdown",
   "id": "a7fd430d",
   "metadata": {},
   "source": [
    "Автор с самой высокой средней оценкой книг - Дж. Роулинг."
   ]
  },
  {
   "cell_type": "markdown",
   "id": "ef575d36",
   "metadata": {},
   "source": [
    "# Задание № 5\n",
    "\n",
    "<b>Посчитайте среднее количество обзоров от пользователей, которые поставили\n",
    "больше 48 оценок.</b>"
   ]
  },
  {
   "cell_type": "code",
   "execution_count": 20,
   "id": "88a66bcb",
   "metadata": {},
   "outputs": [],
   "source": [
    "query_5 = '''\n",
    "           WITH t AS\n",
    "           (SELECT DISTINCT username,\n",
    "           COUNT(rating_id) OVER (PARTITION BY username)\n",
    "           FROM ratings),\n",
    "           \n",
    "           re AS\n",
    "           (SELECT DISTINCT t.username, t.count as rating_count,\n",
    "           COUNT(r.review_id) OVER (PARTITION BY t.username) as review_count\n",
    "           FROM t\n",
    "           INNER JOIN reviews AS r ON r.username=t.username\n",
    "           WHERE t.count > 48)\n",
    "           \n",
    "           SELECT AVG(re.review_count)\n",
    "           FROM re\n",
    "           \n",
    "           '''"
   ]
  },
  {
   "cell_type": "code",
   "execution_count": 21,
   "id": "d33d5305",
   "metadata": {},
   "outputs": [
    {
     "data": {
      "text/html": [
       "<div>\n",
       "<style scoped>\n",
       "    .dataframe tbody tr th:only-of-type {\n",
       "        vertical-align: middle;\n",
       "    }\n",
       "\n",
       "    .dataframe tbody tr th {\n",
       "        vertical-align: top;\n",
       "    }\n",
       "\n",
       "    .dataframe thead th {\n",
       "        text-align: right;\n",
       "    }\n",
       "</style>\n",
       "<table border=\"1\" class=\"dataframe\">\n",
       "  <thead>\n",
       "    <tr style=\"text-align: right;\">\n",
       "      <th></th>\n",
       "      <th>avg</th>\n",
       "    </tr>\n",
       "  </thead>\n",
       "  <tbody>\n",
       "    <tr>\n",
       "      <th>0</th>\n",
       "      <td>24.0</td>\n",
       "    </tr>\n",
       "  </tbody>\n",
       "</table>\n",
       "</div>"
      ],
      "text/plain": [
       "    avg\n",
       "0  24.0"
      ]
     },
     "execution_count": 21,
     "metadata": {},
     "output_type": "execute_result"
    }
   ],
   "source": [
    "con = engine.connect()\n",
    "\n",
    "pd.io.sql.read_sql(sql=text(query_5), con = con)"
   ]
  },
  {
   "cell_type": "markdown",
   "id": "f3ec1b0c",
   "metadata": {},
   "source": [
    "Агрегация необходимых данных была выполнена в несколько этапов:\n",
    "- с начала мы посчитали сколько оценок ставил каждый пользователей и отобрали среди них тех, кто поставил более 48 оценок,\n",
    "- полученный список пользователей мы соединили с таблицей reviews, посчитали сколько обзоров написали пользователи-рекордсмены по оценкам.\n",
    "\n",
    "Среднее количество обзоров от этих пользователей гораздо меньше среднего количеста оценок, это логично - оценки ставить проще."
   ]
  },
  {
   "cell_type": "markdown",
   "id": "301b0ebf",
   "metadata": {},
   "source": [
    "# Вывод по проделанной работе:\n",
    "\n",
    "Для исследования нам было доступно пять таблиц с информацией о книгах, авторах, издательствах, пользовательских оценках и обзорах на эти книги - в датасетах хранится информация о 1 000 книгах и их 636 авторах. Данные книги выпускаются в 340 издательствах.\n",
    "\n",
    "Мы провели исследовательскую работу и ответили на интересующие нас вопросы:\n",
    "- в период с 1 января 2000 года по 31 марта 2020 года на рынок выпущено 819 книг;\n",
    "- средняя пользовательская оценка на книги из датасета колеблется от 1.5 до 5, с медианным значением 4 балла;\n",
    "- количество обзоров - от 0 до 7, медианное значение - 3 обзора;\n",
    "- издательство-рекордсмен, которое выпустило наибольшее число книг толще 50 страниц - Penguin Books, 42 полноценных издания;\n",
    "- автор-рекодсмен с самой высокой средней оценкой книг - Дж. К. Роулинг;\n",
    "- пользователи, которые выставили более 48 оценок, написали в среднем по 24 обзора."
   ]
  }
 ],
 "metadata": {
  "ExecuteTimeLog": [
   {
    "duration": 786,
    "start_time": "2023-08-13T10:31:30.070Z"
   },
   {
    "duration": 6,
    "start_time": "2023-08-13T10:31:30.858Z"
   },
   {
    "duration": 16468,
    "start_time": "2023-08-13T10:31:30.871Z"
   },
   {
    "duration": 3,
    "start_time": "2023-08-13T10:31:47.341Z"
   },
   {
    "duration": 97,
    "start_time": "2023-08-13T10:31:47.347Z"
   },
   {
    "duration": 0,
    "start_time": "2023-08-13T10:31:47.446Z"
   },
   {
    "duration": 0,
    "start_time": "2023-08-13T10:31:47.447Z"
   },
   {
    "duration": 0,
    "start_time": "2023-08-13T10:31:47.448Z"
   },
   {
    "duration": 0,
    "start_time": "2023-08-13T10:31:47.449Z"
   },
   {
    "duration": 0,
    "start_time": "2023-08-13T10:31:47.450Z"
   },
   {
    "duration": 0,
    "start_time": "2023-08-13T10:31:47.451Z"
   },
   {
    "duration": 0,
    "start_time": "2023-08-13T10:31:47.452Z"
   },
   {
    "duration": 0,
    "start_time": "2023-08-13T10:31:47.453Z"
   },
   {
    "duration": 0,
    "start_time": "2023-08-13T10:31:47.453Z"
   },
   {
    "duration": 0,
    "start_time": "2023-08-13T10:31:47.454Z"
   },
   {
    "duration": 0,
    "start_time": "2023-08-13T10:31:47.454Z"
   },
   {
    "duration": 0,
    "start_time": "2023-08-13T10:31:47.455Z"
   },
   {
    "duration": 0,
    "start_time": "2023-08-13T10:31:47.455Z"
   },
   {
    "duration": 0,
    "start_time": "2023-08-13T10:31:47.456Z"
   },
   {
    "duration": 0,
    "start_time": "2023-08-13T10:31:47.459Z"
   },
   {
    "duration": 0,
    "start_time": "2023-08-13T10:31:47.459Z"
   },
   {
    "duration": 386,
    "start_time": "2023-08-13T10:32:57.345Z"
   },
   {
    "duration": 3,
    "start_time": "2023-08-13T10:33:06.892Z"
   },
   {
    "duration": 48,
    "start_time": "2023-08-13T10:33:06.897Z"
   },
   {
    "duration": 2,
    "start_time": "2023-08-13T10:33:06.947Z"
   },
   {
    "duration": 218,
    "start_time": "2023-08-13T10:33:06.951Z"
   },
   {
    "duration": 472,
    "start_time": "2023-08-13T10:33:07.175Z"
   },
   {
    "duration": 23,
    "start_time": "2023-08-13T10:33:07.649Z"
   },
   {
    "duration": 122,
    "start_time": "2023-08-13T10:33:07.674Z"
   },
   {
    "duration": 3,
    "start_time": "2023-08-13T10:33:07.798Z"
   },
   {
    "duration": 133,
    "start_time": "2023-08-13T10:33:07.803Z"
   },
   {
    "duration": 3,
    "start_time": "2023-08-13T10:33:07.937Z"
   },
   {
    "duration": 83,
    "start_time": "2023-08-13T10:33:07.942Z"
   },
   {
    "duration": 979,
    "start_time": "2023-08-14T07:47:54.555Z"
   },
   {
    "duration": 75,
    "start_time": "2023-08-14T07:48:35.306Z"
   },
   {
    "duration": 3,
    "start_time": "2023-08-14T07:48:41.584Z"
   },
   {
    "duration": 12591,
    "start_time": "2023-08-14T07:48:41.954Z"
   },
   {
    "duration": 5,
    "start_time": "2023-08-14T07:48:58.028Z"
   },
   {
    "duration": 72,
    "start_time": "2023-08-14T07:49:03.210Z"
   },
   {
    "duration": 10,
    "start_time": "2023-08-14T07:50:36.154Z"
   },
   {
    "duration": 18,
    "start_time": "2023-08-14T07:50:46.792Z"
   },
   {
    "duration": 20,
    "start_time": "2023-08-14T07:50:50.428Z"
   },
   {
    "duration": 95,
    "start_time": "2023-08-14T07:50:52.927Z"
   },
   {
    "duration": 21,
    "start_time": "2023-08-14T07:50:55.775Z"
   },
   {
    "duration": 40,
    "start_time": "2023-08-14T07:51:02.206Z"
   },
   {
    "duration": 2,
    "start_time": "2023-08-14T07:51:08.143Z"
   },
   {
    "duration": 11,
    "start_time": "2023-08-14T07:51:22.221Z"
   },
   {
    "duration": 2,
    "start_time": "2023-08-14T07:53:35.870Z"
   },
   {
    "duration": 97,
    "start_time": "2023-08-14T07:53:36.245Z"
   },
   {
    "duration": 3,
    "start_time": "2023-08-14T07:54:13.095Z"
   },
   {
    "duration": 49,
    "start_time": "2023-08-14T07:54:13.606Z"
   },
   {
    "duration": 4,
    "start_time": "2023-08-14T07:54:53.704Z"
   },
   {
    "duration": 6,
    "start_time": "2023-08-14T07:55:30.966Z"
   },
   {
    "duration": 28,
    "start_time": "2023-08-14T07:55:31.236Z"
   },
   {
    "duration": 3,
    "start_time": "2023-08-14T07:56:27.723Z"
   },
   {
    "duration": 3,
    "start_time": "2023-08-14T07:56:35.604Z"
   },
   {
    "duration": 24,
    "start_time": "2023-08-14T07:56:35.872Z"
   },
   {
    "duration": 3,
    "start_time": "2023-08-14T07:57:14.697Z"
   },
   {
    "duration": 26,
    "start_time": "2023-08-14T07:57:15.549Z"
   },
   {
    "duration": 3,
    "start_time": "2023-08-14T07:58:00.519Z"
   },
   {
    "duration": 24,
    "start_time": "2023-08-14T07:58:01.064Z"
   },
   {
    "duration": 5,
    "start_time": "2023-08-14T07:58:19.756Z"
   },
   {
    "duration": 32,
    "start_time": "2023-08-14T07:58:20.943Z"
   },
   {
    "duration": 3,
    "start_time": "2023-08-14T07:58:28.927Z"
   },
   {
    "duration": 21,
    "start_time": "2023-08-14T07:58:29.931Z"
   },
   {
    "duration": 1836,
    "start_time": "2023-08-14T07:58:44.641Z"
   },
   {
    "duration": 1848,
    "start_time": "2023-08-14T07:59:03.679Z"
   },
   {
    "duration": 64,
    "start_time": "2023-08-14T07:59:09.731Z"
   },
   {
    "duration": 15,
    "start_time": "2023-08-14T07:59:16.357Z"
   },
   {
    "duration": 4,
    "start_time": "2023-08-14T07:59:20.531Z"
   },
   {
    "duration": 3,
    "start_time": "2023-08-14T07:59:41.507Z"
   },
   {
    "duration": 39,
    "start_time": "2023-08-14T07:59:41.853Z"
   },
   {
    "duration": 3,
    "start_time": "2023-08-14T08:00:26.505Z"
   },
   {
    "duration": 23,
    "start_time": "2023-08-14T08:00:26.979Z"
   },
   {
    "duration": 3,
    "start_time": "2023-08-14T08:00:44.031Z"
   },
   {
    "duration": 159,
    "start_time": "2023-08-14T08:00:45.046Z"
   },
   {
    "duration": 6,
    "start_time": "2023-08-14T08:01:04.832Z"
   },
   {
    "duration": 3,
    "start_time": "2023-08-14T08:01:55.317Z"
   },
   {
    "duration": 23,
    "start_time": "2023-08-14T08:01:55.497Z"
   },
   {
    "duration": 5,
    "start_time": "2023-08-14T08:03:19.712Z"
   },
   {
    "duration": 14,
    "start_time": "2023-08-14T08:03:27.357Z"
   },
   {
    "duration": 5,
    "start_time": "2023-08-14T08:03:47.870Z"
   },
   {
    "duration": 30,
    "start_time": "2023-08-14T08:03:48.871Z"
   },
   {
    "duration": 3,
    "start_time": "2023-08-14T08:04:45.645Z"
   },
   {
    "duration": 23,
    "start_time": "2023-08-14T08:04:46.083Z"
   },
   {
    "duration": 2,
    "start_time": "2023-08-14T08:04:55.505Z"
   },
   {
    "duration": 31,
    "start_time": "2023-08-14T08:04:55.861Z"
   },
   {
    "duration": 3,
    "start_time": "2023-08-14T08:05:23.638Z"
   },
   {
    "duration": 51,
    "start_time": "2023-08-14T08:05:24.014Z"
   },
   {
    "duration": 4,
    "start_time": "2023-08-14T08:05:36.106Z"
   },
   {
    "duration": 30,
    "start_time": "2023-08-14T08:05:36.418Z"
   },
   {
    "duration": 3,
    "start_time": "2023-08-14T08:06:27.633Z"
   },
   {
    "duration": 35,
    "start_time": "2023-08-14T08:06:28.995Z"
   },
   {
    "duration": 2,
    "start_time": "2023-08-14T08:06:44.285Z"
   },
   {
    "duration": 79,
    "start_time": "2023-08-14T08:06:44.491Z"
   },
   {
    "duration": 3,
    "start_time": "2023-08-14T08:06:52.054Z"
   },
   {
    "duration": 61,
    "start_time": "2023-08-14T08:06:52.436Z"
   },
   {
    "duration": 5,
    "start_time": "2023-08-14T08:07:29.192Z"
   },
   {
    "duration": 3,
    "start_time": "2023-08-14T08:07:43.938Z"
   },
   {
    "duration": 108,
    "start_time": "2023-08-14T08:07:44.482Z"
   },
   {
    "duration": 3,
    "start_time": "2023-08-14T08:07:53.496Z"
   },
   {
    "duration": 43,
    "start_time": "2023-08-14T08:07:53.829Z"
   },
   {
    "duration": 3,
    "start_time": "2023-08-14T08:08:03.184Z"
   },
   {
    "duration": 23,
    "start_time": "2023-08-14T08:08:03.877Z"
   },
   {
    "duration": 3,
    "start_time": "2023-08-14T08:08:51.776Z"
   },
   {
    "duration": 36,
    "start_time": "2023-08-14T08:08:52.287Z"
   },
   {
    "duration": 2,
    "start_time": "2023-08-14T08:10:00.295Z"
   },
   {
    "duration": 60,
    "start_time": "2023-08-14T08:10:00.299Z"
   },
   {
    "duration": 13751,
    "start_time": "2023-08-14T08:10:24.726Z"
   },
   {
    "duration": 3,
    "start_time": "2023-08-14T08:10:54.261Z"
   },
   {
    "duration": 33,
    "start_time": "2023-08-14T08:10:54.698Z"
   },
   {
    "duration": 2363,
    "start_time": "2023-08-14T08:10:58.177Z"
   },
   {
    "duration": 3,
    "start_time": "2023-08-14T08:11:36.306Z"
   },
   {
    "duration": 30,
    "start_time": "2023-08-14T08:11:36.844Z"
   },
   {
    "duration": 385,
    "start_time": "2023-08-14T08:11:39.734Z"
   },
   {
    "duration": 2,
    "start_time": "2023-08-14T08:13:07.602Z"
   },
   {
    "duration": 28,
    "start_time": "2023-08-14T08:13:07.999Z"
   },
   {
    "duration": 3,
    "start_time": "2023-08-14T08:13:42.122Z"
   },
   {
    "duration": 24,
    "start_time": "2023-08-14T08:13:43.102Z"
   },
   {
    "duration": 3,
    "start_time": "2023-08-14T08:13:47.762Z"
   },
   {
    "duration": 102,
    "start_time": "2023-08-14T08:13:48.158Z"
   },
   {
    "duration": 2,
    "start_time": "2023-08-14T08:13:54.770Z"
   },
   {
    "duration": 19,
    "start_time": "2023-08-14T08:13:54.935Z"
   },
   {
    "duration": 3,
    "start_time": "2023-08-14T08:14:27.744Z"
   },
   {
    "duration": 22,
    "start_time": "2023-08-14T08:14:27.981Z"
   },
   {
    "duration": 2,
    "start_time": "2023-08-14T08:14:32.853Z"
   },
   {
    "duration": 22,
    "start_time": "2023-08-14T08:14:33.273Z"
   },
   {
    "duration": 3,
    "start_time": "2023-08-14T08:15:05.612Z"
   },
   {
    "duration": 16,
    "start_time": "2023-08-14T08:15:05.952Z"
   },
   {
    "duration": 3,
    "start_time": "2023-08-14T08:15:25.564Z"
   },
   {
    "duration": 19,
    "start_time": "2023-08-14T08:15:26.212Z"
   },
   {
    "duration": 3,
    "start_time": "2023-08-14T08:15:54.362Z"
   },
   {
    "duration": 23,
    "start_time": "2023-08-14T08:15:55.578Z"
   },
   {
    "duration": 3,
    "start_time": "2023-08-14T08:16:10.186Z"
   },
   {
    "duration": 24,
    "start_time": "2023-08-14T08:16:10.770Z"
   },
   {
    "duration": 2,
    "start_time": "2023-08-14T08:16:39.983Z"
   },
   {
    "duration": 21,
    "start_time": "2023-08-14T08:16:41.483Z"
   },
   {
    "duration": 3,
    "start_time": "2023-08-14T08:17:03.352Z"
   },
   {
    "duration": 22,
    "start_time": "2023-08-14T08:17:03.905Z"
   },
   {
    "duration": 3,
    "start_time": "2023-08-14T08:17:14.216Z"
   },
   {
    "duration": 19,
    "start_time": "2023-08-14T08:17:16.187Z"
   },
   {
    "duration": 2,
    "start_time": "2023-08-14T08:17:48.452Z"
   },
   {
    "duration": 24,
    "start_time": "2023-08-14T08:17:48.692Z"
   },
   {
    "duration": 3,
    "start_time": "2023-08-14T08:17:53.161Z"
   },
   {
    "duration": 18,
    "start_time": "2023-08-14T08:17:53.478Z"
   },
   {
    "duration": 3,
    "start_time": "2023-08-14T08:18:34.930Z"
   },
   {
    "duration": 21,
    "start_time": "2023-08-14T08:18:35.254Z"
   },
   {
    "duration": 3,
    "start_time": "2023-08-14T08:19:47.698Z"
   },
   {
    "duration": 20,
    "start_time": "2023-08-14T08:19:48.578Z"
   },
   {
    "duration": 3,
    "start_time": "2023-08-14T08:21:01.799Z"
   },
   {
    "duration": 23,
    "start_time": "2023-08-14T08:21:01.988Z"
   },
   {
    "duration": 3,
    "start_time": "2023-08-14T08:23:20.675Z"
   },
   {
    "duration": 20,
    "start_time": "2023-08-14T08:23:21.050Z"
   },
   {
    "duration": 749,
    "start_time": "2023-08-14T08:24:06.257Z"
   },
   {
    "duration": 3,
    "start_time": "2023-08-14T08:24:07.009Z"
   },
   {
    "duration": 12326,
    "start_time": "2023-08-14T08:24:07.717Z"
   },
   {
    "duration": 3,
    "start_time": "2023-08-14T08:25:37.604Z"
   },
   {
    "duration": 56,
    "start_time": "2023-08-14T08:25:38.079Z"
   },
   {
    "duration": 16,
    "start_time": "2023-08-14T08:25:44.230Z"
   },
   {
    "duration": 14,
    "start_time": "2023-08-14T08:25:44.723Z"
   },
   {
    "duration": 95,
    "start_time": "2023-08-14T08:25:45.358Z"
   },
   {
    "duration": 22,
    "start_time": "2023-08-14T08:25:45.760Z"
   },
   {
    "duration": 36,
    "start_time": "2023-08-14T08:25:46.809Z"
   },
   {
    "duration": 3,
    "start_time": "2023-08-14T08:25:52.758Z"
   },
   {
    "duration": 11,
    "start_time": "2023-08-14T08:25:53.377Z"
   },
   {
    "duration": 3,
    "start_time": "2023-08-14T08:25:56.233Z"
   },
   {
    "duration": 59,
    "start_time": "2023-08-14T08:25:56.429Z"
   },
   {
    "duration": 450,
    "start_time": "2023-08-14T08:25:56.988Z"
   },
   {
    "duration": 3,
    "start_time": "2023-08-14T08:25:57.915Z"
   },
   {
    "duration": 37,
    "start_time": "2023-08-14T08:25:58.373Z"
   },
   {
    "duration": 4,
    "start_time": "2023-08-14T08:25:59.690Z"
   },
   {
    "duration": 19,
    "start_time": "2023-08-14T08:26:00.196Z"
   },
   {
    "duration": 3,
    "start_time": "2023-08-14T08:26:02.725Z"
   },
   {
    "duration": 21,
    "start_time": "2023-08-14T08:26:02.981Z"
   },
   {
    "duration": 813,
    "start_time": "2023-08-14T08:33:08.835Z"
   },
   {
    "duration": 5,
    "start_time": "2023-08-14T08:33:09.651Z"
   },
   {
    "duration": 12719,
    "start_time": "2023-08-14T08:33:09.658Z"
   },
   {
    "duration": 2,
    "start_time": "2023-08-14T08:33:22.380Z"
   },
   {
    "duration": 64,
    "start_time": "2023-08-14T08:33:22.384Z"
   },
   {
    "duration": 14,
    "start_time": "2023-08-14T08:33:22.450Z"
   },
   {
    "duration": 13,
    "start_time": "2023-08-14T08:33:22.466Z"
   },
   {
    "duration": 106,
    "start_time": "2023-08-14T08:33:22.481Z"
   },
   {
    "duration": 22,
    "start_time": "2023-08-14T08:33:22.589Z"
   },
   {
    "duration": 35,
    "start_time": "2023-08-14T08:33:22.612Z"
   },
   {
    "duration": 7,
    "start_time": "2023-08-14T08:33:22.650Z"
   },
   {
    "duration": 10,
    "start_time": "2023-08-14T08:33:22.658Z"
   },
   {
    "duration": 3,
    "start_time": "2023-08-14T08:33:22.669Z"
   },
   {
    "duration": 85,
    "start_time": "2023-08-14T08:33:22.674Z"
   },
   {
    "duration": 477,
    "start_time": "2023-08-14T08:33:23.457Z"
   },
   {
    "duration": 3,
    "start_time": "2023-08-14T08:33:25.234Z"
   },
   {
    "duration": 14,
    "start_time": "2023-08-14T08:33:25.666Z"
   },
   {
    "duration": 3,
    "start_time": "2023-08-14T08:33:28.134Z"
   },
   {
    "duration": 20,
    "start_time": "2023-08-14T08:33:28.619Z"
   },
   {
    "duration": 2,
    "start_time": "2023-08-14T08:33:31.365Z"
   },
   {
    "duration": 22,
    "start_time": "2023-08-14T08:33:31.865Z"
   },
   {
    "duration": 832,
    "start_time": "2023-08-14T09:31:23.768Z"
   },
   {
    "duration": 3,
    "start_time": "2023-08-14T09:31:24.603Z"
   },
   {
    "duration": 11538,
    "start_time": "2023-08-14T09:31:24.609Z"
   },
   {
    "duration": 3,
    "start_time": "2023-08-14T09:31:36.150Z"
   },
   {
    "duration": 322,
    "start_time": "2023-08-14T09:31:36.155Z"
   },
   {
    "duration": 80,
    "start_time": "2023-08-14T09:31:36.478Z"
   },
   {
    "duration": 111,
    "start_time": "2023-08-14T09:31:36.562Z"
   },
   {
    "duration": 193,
    "start_time": "2023-08-14T09:31:36.675Z"
   },
   {
    "duration": 95,
    "start_time": "2023-08-14T09:31:36.871Z"
   },
   {
    "duration": 162,
    "start_time": "2023-08-14T09:31:36.970Z"
   },
   {
    "duration": 3,
    "start_time": "2023-08-14T09:31:37.134Z"
   },
   {
    "duration": 55,
    "start_time": "2023-08-14T09:31:37.138Z"
   },
   {
    "duration": 3,
    "start_time": "2023-08-14T09:31:37.195Z"
   },
   {
    "duration": 193,
    "start_time": "2023-08-14T09:31:37.199Z"
   },
   {
    "duration": 473,
    "start_time": "2023-08-14T09:31:37.394Z"
   },
   {
    "duration": 2,
    "start_time": "2023-08-14T09:31:37.870Z"
   },
   {
    "duration": 69,
    "start_time": "2023-08-14T09:31:37.874Z"
   },
   {
    "duration": 3,
    "start_time": "2023-08-14T09:31:37.945Z"
   },
   {
    "duration": 78,
    "start_time": "2023-08-14T09:31:37.949Z"
   },
   {
    "duration": 3,
    "start_time": "2023-08-14T09:31:38.029Z"
   },
   {
    "duration": 86,
    "start_time": "2023-08-14T09:31:38.034Z"
   },
   {
    "duration": 1049,
    "start_time": "2023-08-14T12:43:00.910Z"
   },
   {
    "duration": 3,
    "start_time": "2023-08-14T12:43:01.961Z"
   },
   {
    "duration": 13822,
    "start_time": "2023-08-14T12:43:01.966Z"
   },
   {
    "duration": 3,
    "start_time": "2023-08-14T12:43:15.791Z"
   },
   {
    "duration": 359,
    "start_time": "2023-08-14T12:43:15.795Z"
   },
   {
    "duration": 83,
    "start_time": "2023-08-14T12:43:16.156Z"
   },
   {
    "duration": 86,
    "start_time": "2023-08-14T12:43:16.241Z"
   },
   {
    "duration": 198,
    "start_time": "2023-08-14T12:43:16.329Z"
   },
   {
    "duration": 102,
    "start_time": "2023-08-14T12:43:16.529Z"
   },
   {
    "duration": 174,
    "start_time": "2023-08-14T12:43:16.632Z"
   },
   {
    "duration": 3,
    "start_time": "2023-08-14T12:43:16.808Z"
   },
   {
    "duration": 68,
    "start_time": "2023-08-14T12:43:16.813Z"
   },
   {
    "duration": 26,
    "start_time": "2023-08-14T12:43:16.883Z"
   },
   {
    "duration": 199,
    "start_time": "2023-08-14T12:43:16.912Z"
   },
   {
    "duration": 566,
    "start_time": "2023-08-14T12:43:17.113Z"
   },
   {
    "duration": 3,
    "start_time": "2023-08-14T12:43:36.348Z"
   },
   {
    "duration": 57,
    "start_time": "2023-08-14T12:43:36.743Z"
   },
   {
    "duration": 3,
    "start_time": "2023-08-14T12:43:38.294Z"
   },
   {
    "duration": 74,
    "start_time": "2023-08-14T12:43:39.696Z"
   },
   {
    "duration": 3,
    "start_time": "2023-08-14T12:44:27.183Z"
   },
   {
    "duration": 78,
    "start_time": "2023-08-14T12:44:27.670Z"
   },
   {
    "duration": 3,
    "start_time": "2023-08-14T12:45:05.234Z"
   },
   {
    "duration": 162,
    "start_time": "2023-08-14T12:45:06.728Z"
   },
   {
    "duration": 3,
    "start_time": "2023-08-14T12:45:20.503Z"
   },
   {
    "duration": 76,
    "start_time": "2023-08-14T12:45:20.971Z"
   },
   {
    "duration": 3,
    "start_time": "2023-08-14T12:45:25.323Z"
   },
   {
    "duration": 3,
    "start_time": "2023-08-14T12:45:26.941Z"
   },
   {
    "duration": 155,
    "start_time": "2023-08-14T12:45:27.178Z"
   },
   {
    "duration": 3,
    "start_time": "2023-08-14T12:46:51.741Z"
   },
   {
    "duration": 82,
    "start_time": "2023-08-14T12:46:52.347Z"
   },
   {
    "duration": 3,
    "start_time": "2023-08-14T12:47:15.925Z"
   },
   {
    "duration": 69,
    "start_time": "2023-08-14T12:47:17.124Z"
   },
   {
    "duration": 3,
    "start_time": "2023-08-14T12:47:55.035Z"
   },
   {
    "duration": 2,
    "start_time": "2023-08-14T12:48:04.974Z"
   },
   {
    "duration": 171,
    "start_time": "2023-08-14T12:48:05.400Z"
   },
   {
    "duration": 3,
    "start_time": "2023-08-14T12:48:12.374Z"
   },
   {
    "duration": 73,
    "start_time": "2023-08-14T12:48:12.888Z"
   },
   {
    "duration": 3,
    "start_time": "2023-08-14T12:48:19.374Z"
   },
   {
    "duration": 3,
    "start_time": "2023-08-14T12:48:28.024Z"
   },
   {
    "duration": 158,
    "start_time": "2023-08-14T12:48:31.021Z"
   },
   {
    "duration": 54,
    "start_time": "2023-08-14T12:48:44.805Z"
   },
   {
    "duration": 60,
    "start_time": "2023-08-14T12:48:47.771Z"
   },
   {
    "duration": 60,
    "start_time": "2023-08-14T12:49:15.407Z"
   },
   {
    "duration": 63,
    "start_time": "2023-08-14T12:49:24.578Z"
   },
   {
    "duration": 53,
    "start_time": "2023-08-14T12:49:31.175Z"
   },
   {
    "duration": 62,
    "start_time": "2023-08-14T12:49:35.866Z"
   },
   {
    "duration": 51,
    "start_time": "2023-08-14T12:49:40.805Z"
   },
   {
    "duration": 53,
    "start_time": "2023-08-14T12:49:52.874Z"
   },
   {
    "duration": 3,
    "start_time": "2023-08-14T12:50:10.794Z"
   },
   {
    "duration": 66,
    "start_time": "2023-08-14T12:50:11.139Z"
   },
   {
    "duration": 3,
    "start_time": "2023-08-14T12:50:21.431Z"
   },
   {
    "duration": 69,
    "start_time": "2023-08-14T12:50:21.897Z"
   },
   {
    "duration": 3,
    "start_time": "2023-08-14T12:50:26.478Z"
   },
   {
    "duration": 72,
    "start_time": "2023-08-14T12:50:28.296Z"
   },
   {
    "duration": 2,
    "start_time": "2023-08-14T12:51:42.078Z"
   },
   {
    "duration": 78,
    "start_time": "2023-08-14T12:51:42.606Z"
   },
   {
    "duration": 3,
    "start_time": "2023-08-14T12:51:53.530Z"
   },
   {
    "duration": 55,
    "start_time": "2023-08-14T12:51:54.044Z"
   },
   {
    "duration": 3,
    "start_time": "2023-08-14T12:52:02.474Z"
   },
   {
    "duration": 84,
    "start_time": "2023-08-14T12:52:02.873Z"
   },
   {
    "duration": 3,
    "start_time": "2023-08-14T12:52:07.777Z"
   },
   {
    "duration": 73,
    "start_time": "2023-08-14T12:52:09.145Z"
   },
   {
    "duration": 3,
    "start_time": "2023-08-14T12:52:35.598Z"
   },
   {
    "duration": 80,
    "start_time": "2023-08-14T12:52:35.858Z"
   },
   {
    "duration": 4,
    "start_time": "2023-08-14T12:53:28.893Z"
   },
   {
    "duration": 88,
    "start_time": "2023-08-14T12:53:29.075Z"
   },
   {
    "duration": 6,
    "start_time": "2023-08-14T12:53:36.532Z"
   },
   {
    "duration": 62,
    "start_time": "2023-08-14T12:53:36.938Z"
   },
   {
    "duration": 3,
    "start_time": "2023-08-14T12:53:40.946Z"
   },
   {
    "duration": 81,
    "start_time": "2023-08-14T12:53:42.194Z"
   },
   {
    "duration": 3,
    "start_time": "2023-08-14T12:54:48.278Z"
   },
   {
    "duration": 92,
    "start_time": "2023-08-14T12:54:48.508Z"
   },
   {
    "duration": 4,
    "start_time": "2023-08-14T12:55:02.339Z"
   },
   {
    "duration": 63,
    "start_time": "2023-08-14T12:55:02.576Z"
   },
   {
    "duration": 4,
    "start_time": "2023-08-14T12:55:41.537Z"
   },
   {
    "duration": 76,
    "start_time": "2023-08-14T12:55:41.963Z"
   },
   {
    "duration": 3,
    "start_time": "2023-08-14T12:55:48.072Z"
   },
   {
    "duration": 63,
    "start_time": "2023-08-14T12:55:48.735Z"
   },
   {
    "duration": 796,
    "start_time": "2023-08-14T12:56:49.774Z"
   },
   {
    "duration": 3,
    "start_time": "2023-08-14T12:56:50.572Z"
   },
   {
    "duration": 13100,
    "start_time": "2023-08-14T12:56:50.576Z"
   },
   {
    "duration": 4,
    "start_time": "2023-08-14T12:57:03.678Z"
   },
   {
    "duration": 387,
    "start_time": "2023-08-14T12:57:03.683Z"
   },
   {
    "duration": 101,
    "start_time": "2023-08-14T12:57:04.072Z"
   },
   {
    "duration": 98,
    "start_time": "2023-08-14T12:57:04.175Z"
   },
   {
    "duration": 220,
    "start_time": "2023-08-14T12:57:04.274Z"
   },
   {
    "duration": 123,
    "start_time": "2023-08-14T12:57:04.496Z"
   },
   {
    "duration": 214,
    "start_time": "2023-08-14T12:57:04.625Z"
   },
   {
    "duration": 2,
    "start_time": "2023-08-14T12:57:04.841Z"
   },
   {
    "duration": 62,
    "start_time": "2023-08-14T12:57:04.846Z"
   },
   {
    "duration": 3,
    "start_time": "2023-08-14T12:57:04.911Z"
   },
   {
    "duration": 243,
    "start_time": "2023-08-14T12:57:04.916Z"
   },
   {
    "duration": 505,
    "start_time": "2023-08-14T12:57:05.162Z"
   },
   {
    "duration": 3,
    "start_time": "2023-08-14T12:57:05.668Z"
   },
   {
    "duration": 139,
    "start_time": "2023-08-14T12:57:05.673Z"
   },
   {
    "duration": 27,
    "start_time": "2023-08-14T12:57:05.815Z"
   },
   {
    "duration": 154,
    "start_time": "2023-08-14T12:57:05.845Z"
   },
   {
    "duration": 9,
    "start_time": "2023-08-14T12:57:06.001Z"
   },
   {
    "duration": 104,
    "start_time": "2023-08-14T12:57:06.012Z"
   },
   {
    "duration": 446,
    "start_time": "2023-08-14T12:58:09.280Z"
   },
   {
    "duration": 445,
    "start_time": "2023-08-14T12:58:22.703Z"
   },
   {
    "duration": 494,
    "start_time": "2023-08-14T12:58:28.896Z"
   },
   {
    "duration": 534,
    "start_time": "2023-08-14T12:59:33.867Z"
   },
   {
    "duration": 675,
    "start_time": "2023-08-14T18:55:12.241Z"
   },
   {
    "duration": 3,
    "start_time": "2023-08-14T18:55:12.918Z"
   },
   {
    "duration": 11697,
    "start_time": "2023-08-14T18:55:12.922Z"
   },
   {
    "duration": 3,
    "start_time": "2023-08-14T18:55:24.620Z"
   },
   {
    "duration": 309,
    "start_time": "2023-08-14T18:55:24.626Z"
   },
   {
    "duration": 75,
    "start_time": "2023-08-14T18:55:24.937Z"
   },
   {
    "duration": 74,
    "start_time": "2023-08-14T18:55:25.014Z"
   },
   {
    "duration": 157,
    "start_time": "2023-08-14T18:55:25.090Z"
   },
   {
    "duration": 92,
    "start_time": "2023-08-14T18:55:25.249Z"
   },
   {
    "duration": 158,
    "start_time": "2023-08-14T18:55:25.343Z"
   },
   {
    "duration": 4,
    "start_time": "2023-08-14T18:55:25.503Z"
   },
   {
    "duration": 50,
    "start_time": "2023-08-14T18:55:25.508Z"
   },
   {
    "duration": 3,
    "start_time": "2023-08-14T18:55:25.560Z"
   },
   {
    "duration": 177,
    "start_time": "2023-08-14T18:55:25.565Z"
   },
   {
    "duration": 458,
    "start_time": "2023-08-14T18:55:25.744Z"
   },
   {
    "duration": 3,
    "start_time": "2023-08-14T18:55:26.204Z"
   },
   {
    "duration": 61,
    "start_time": "2023-08-14T18:55:26.210Z"
   },
   {
    "duration": 3,
    "start_time": "2023-08-14T18:55:26.273Z"
   },
   {
    "duration": 75,
    "start_time": "2023-08-14T18:55:26.277Z"
   },
   {
    "duration": 4,
    "start_time": "2023-08-14T18:55:26.355Z"
   },
   {
    "duration": 68,
    "start_time": "2023-08-14T18:55:26.361Z"
   },
   {
    "duration": 676,
    "start_time": "2023-08-14T18:55:47.228Z"
   },
   {
    "duration": 3,
    "start_time": "2023-08-14T18:55:47.905Z"
   },
   {
    "duration": 9144,
    "start_time": "2023-08-14T18:55:47.910Z"
   },
   {
    "duration": 4,
    "start_time": "2023-08-14T18:55:57.056Z"
   },
   {
    "duration": 280,
    "start_time": "2023-08-14T18:55:57.062Z"
   },
   {
    "duration": 76,
    "start_time": "2023-08-14T18:55:57.344Z"
   },
   {
    "duration": 74,
    "start_time": "2023-08-14T18:55:57.422Z"
   },
   {
    "duration": 153,
    "start_time": "2023-08-14T18:55:57.498Z"
   },
   {
    "duration": 90,
    "start_time": "2023-08-14T18:55:57.653Z"
   },
   {
    "duration": 159,
    "start_time": "2023-08-14T18:55:57.745Z"
   },
   {
    "duration": 2,
    "start_time": "2023-08-14T18:55:57.906Z"
   },
   {
    "duration": 47,
    "start_time": "2023-08-14T18:55:57.910Z"
   },
   {
    "duration": 3,
    "start_time": "2023-08-14T18:55:57.959Z"
   },
   {
    "duration": 151,
    "start_time": "2023-08-14T18:55:57.965Z"
   },
   {
    "duration": 437,
    "start_time": "2023-08-14T18:55:58.117Z"
   },
   {
    "duration": 3,
    "start_time": "2023-08-14T18:55:58.556Z"
   },
   {
    "duration": 75,
    "start_time": "2023-08-14T18:55:58.561Z"
   },
   {
    "duration": 3,
    "start_time": "2023-08-14T18:55:58.638Z"
   },
   {
    "duration": 72,
    "start_time": "2023-08-14T18:55:58.642Z"
   },
   {
    "duration": 3,
    "start_time": "2023-08-14T18:55:58.716Z"
   },
   {
    "duration": 77,
    "start_time": "2023-08-14T18:55:58.720Z"
   },
   {
    "duration": 38,
    "start_time": "2023-08-14T18:56:19.470Z"
   },
   {
    "duration": 39,
    "start_time": "2023-08-14T18:56:26.641Z"
   }
  ],
  "kernelspec": {
   "display_name": "Python 3",
   "language": "python",
   "name": "python3"
  },
  "language_info": {
   "codemirror_mode": {
    "name": "ipython",
    "version": 3
   },
   "file_extension": ".py",
   "mimetype": "text/x-python",
   "name": "python",
   "nbconvert_exporter": "python",
   "pygments_lexer": "ipython3",
   "version": "3.8.8"
  },
  "toc": {
   "base_numbering": 1,
   "nav_menu": {},
   "number_sections": true,
   "sideBar": true,
   "skip_h1_title": true,
   "title_cell": "Table of Contents",
   "title_sidebar": "Contents",
   "toc_cell": false,
   "toc_position": {},
   "toc_section_display": true,
   "toc_window_display": false
  }
 },
 "nbformat": 4,
 "nbformat_minor": 5
}
