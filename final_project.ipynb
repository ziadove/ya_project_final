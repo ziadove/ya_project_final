{
 "cells": [
  {
   "cell_type": "markdown",
   "id": "2ce03dfb",
   "metadata": {},
   "source": [
    "# Финальный проект.\n",
    "# Банки — Анализ оттока клиентов"
   ]
  },
  {
   "cell_type": "markdown",
   "id": "e7449264",
   "metadata": {},
   "source": [
    "# Материалы:\n",
    "[Ссылка на дашборд (Tableau)](https://public.tableau.com/app/profile/anasatasia3818/viz/Book1_metan/Dashboard1?publish=yes)"
   ]
  },
  {
   "cell_type": "markdown",
   "id": "940b9995",
   "metadata": {},
   "source": [
    "# Описание данных:\n",
    "Датасет содержит данные о клиентах банка «Метанпром». Банк располагается в\n",
    "Ярославле и областных городах: Ростов Великий и Рыбинск.\n",
    "\n",
    "Колонки:\n",
    "- userid — идентификатор пользователя,\n",
    "- score — баллы кредитного скоринга,\n",
    "- City — город,\n",
    "- Gender — пол,\n",
    "- Age — возраст,\n",
    "- Objects — количество объектов в собственности / equity — количество баллов собственности\n",
    "- Balance — баланс на счёте,\n",
    "- Products — количество продуктов, которыми пользуется клиент,\n",
    "- CreditCard — есть ли кредитная карта,\n",
    "- Loyalty / last_activity — активный клиент,\n",
    "- estimated_salary — заработная плата клиента,\n",
    "- Churn — ушёл или нет."
   ]
  },
  {
   "cell_type": "markdown",
   "id": "e6c94610",
   "metadata": {},
   "source": [
    "# Задача (исходная версия от \"заказчика\"):\n",
    "- Проанализируйте клиентов регионального банка и выделите сегменты клиентов, которые склонны уходить из банка.\n",
    "- Проведите исследовательский анализ данных, определите все значимые признаки отточности (интервалы значений характеристик, которые связаны с повышенным оттоком, сравните портреты типичных клиентов, которые склонны и не склонны уходить из банка и т.д)\n",
    "- Сформулируйте и проверьте статистические гипотезы:\n",
    "1. Проверьте гипотезу различия дохода между теми клиентами, которые ушли и теми, которые остались.\n",
    "2. Сформулируйте и проверьте статистическую гипотезу относительно представленных данных, которая поможет внести ясность в исследование\n",
    "- Объединяя признаки отточности, сформируйте сегменты, отберите из них лучшие и дайте по ним рекомендации"
   ]
  },
  {
   "cell_type": "markdown",
   "id": "445e2a34",
   "metadata": {},
   "source": [
    "# Ход работы:\n",
    "[1.1. Загрузка бибилиотек, импорт данных.](#import)\n",
    "\n",
    "[1.2. Предобработка. Работа с пропущенными значениями.](#preprocessing)\n",
    "\n",
    "[2. Исследовательский анализ данных.](#eda)\n",
    "\n",
    "[Промежуточный итог.](#subtotal)\n",
    "\n",
    "[3. Сегментация на основе стратегических показателей.](#segment)\n",
    "\n",
    "[4. Машинное обучение.](#ml)\n",
    "\n",
    "[5. Формулирование и проверка статистических гипотез.](#stat)\n",
    "\n",
    "[Выводы и рекомендации для заказчика.](#conclusion)"
   ]
  },
  {
   "cell_type": "markdown",
   "id": "c77eed1a",
   "metadata": {},
   "source": [
    "<a id=\"import\"> </a>\n",
    "# 1.1. Загрузка бибилиотек, импорт данных."
   ]
  },
  {
   "cell_type": "code",
   "execution_count": 1,
   "id": "9516379c",
   "metadata": {},
   "outputs": [
    {
     "name": "stdout",
     "output_type": "stream",
     "text": [
      "Collecting phik\n",
      "  Downloading phik-0.12.3-cp39-cp39-manylinux_2_17_x86_64.manylinux2014_x86_64.whl (679 kB)\n",
      "\u001b[K     |████████████████████████████████| 679 kB 2.1 MB/s eta 0:00:01\n",
      "\u001b[?25hRequirement already satisfied: numpy>=1.18.0 in /opt/conda/lib/python3.9/site-packages (from phik) (1.21.1)\n",
      "Requirement already satisfied: joblib>=0.14.1 in /opt/conda/lib/python3.9/site-packages (from phik) (1.1.0)\n",
      "Requirement already satisfied: scipy>=1.5.2 in /opt/conda/lib/python3.9/site-packages (from phik) (1.9.1)\n",
      "Requirement already satisfied: pandas>=0.25.1 in /opt/conda/lib/python3.9/site-packages (from phik) (1.2.4)\n",
      "Requirement already satisfied: matplotlib>=2.2.3 in /opt/conda/lib/python3.9/site-packages (from phik) (3.3.4)\n",
      "Requirement already satisfied: pyparsing!=2.0.4,!=2.1.2,!=2.1.6,>=2.0.3 in /opt/conda/lib/python3.9/site-packages (from matplotlib>=2.2.3->phik) (2.4.7)\n",
      "Requirement already satisfied: python-dateutil>=2.1 in /opt/conda/lib/python3.9/site-packages (from matplotlib>=2.2.3->phik) (2.8.1)\n",
      "Requirement already satisfied: cycler>=0.10 in /opt/conda/lib/python3.9/site-packages (from matplotlib>=2.2.3->phik) (0.11.0)\n",
      "Requirement already satisfied: kiwisolver>=1.0.1 in /opt/conda/lib/python3.9/site-packages (from matplotlib>=2.2.3->phik) (1.4.4)\n",
      "Requirement already satisfied: pillow>=6.2.0 in /opt/conda/lib/python3.9/site-packages (from matplotlib>=2.2.3->phik) (8.4.0)\n",
      "Requirement already satisfied: pytz>=2017.3 in /opt/conda/lib/python3.9/site-packages (from pandas>=0.25.1->phik) (2021.1)\n",
      "Requirement already satisfied: six>=1.5 in /opt/conda/lib/python3.9/site-packages (from python-dateutil>=2.1->matplotlib>=2.2.3->phik) (1.16.0)\n",
      "Installing collected packages: phik\n",
      "Successfully installed phik-0.12.3\n"
     ]
    }
   ],
   "source": [
    "! pip install phik"
   ]
  },
  {
   "cell_type": "code",
   "execution_count": 2,
   "id": "8b0f511d",
   "metadata": {},
   "outputs": [],
   "source": [
    "import pandas as pd\n",
    "from pandas import option_context\n",
    "import numpy as np\n",
    "\n",
    "import itertools\n",
    "\n",
    "import phik\n",
    "\n",
    "import matplotlib.pyplot as plt\n",
    "import seaborn as sns\n",
    "\n",
    "from scipy.stats import ttest_ind, mannwhitneyu\n",
    "\n",
    "from sklearn.model_selection import train_test_split\n",
    "\n",
    "from sklearn.preprocessing import StandardScaler\n",
    "\n",
    "from sklearn.linear_model import LogisticRegression\n",
    "from sklearn.tree import DecisionTreeClassifier, plot_tree\n",
    "from sklearn.ensemble import RandomForestClassifier\n",
    "\n",
    "from sklearn.metrics import precision_score, recall_score, f1_score, roc_auc_score, confusion_matrix"
   ]
  },
  {
   "cell_type": "code",
   "execution_count": 3,
   "id": "d7b53766",
   "metadata": {},
   "outputs": [],
   "source": [
    "bank = pd.read_csv('https://code.s3.yandex.net/datasets/bank_scrooge.csv')"
   ]
  },
  {
   "cell_type": "code",
   "execution_count": 4,
   "id": "88bf55f1",
   "metadata": {},
   "outputs": [
    {
     "data": {
      "text/html": [
       "<div>\n",
       "<style scoped>\n",
       "    .dataframe tbody tr th:only-of-type {\n",
       "        vertical-align: middle;\n",
       "    }\n",
       "\n",
       "    .dataframe tbody tr th {\n",
       "        vertical-align: top;\n",
       "    }\n",
       "\n",
       "    .dataframe thead th {\n",
       "        text-align: right;\n",
       "    }\n",
       "</style>\n",
       "<table border=\"1\" class=\"dataframe\">\n",
       "  <thead>\n",
       "    <tr style=\"text-align: right;\">\n",
       "      <th></th>\n",
       "      <th>USERID</th>\n",
       "      <th>score</th>\n",
       "      <th>city</th>\n",
       "      <th>gender</th>\n",
       "      <th>age</th>\n",
       "      <th>equity</th>\n",
       "      <th>balance</th>\n",
       "      <th>products</th>\n",
       "      <th>credit_card</th>\n",
       "      <th>last_activity</th>\n",
       "      <th>EST_SALARY</th>\n",
       "      <th>churn</th>\n",
       "    </tr>\n",
       "  </thead>\n",
       "  <tbody>\n",
       "    <tr>\n",
       "      <th>0</th>\n",
       "      <td>183012</td>\n",
       "      <td>850.0</td>\n",
       "      <td>Рыбинск</td>\n",
       "      <td>Ж</td>\n",
       "      <td>25.0</td>\n",
       "      <td>1</td>\n",
       "      <td>59214.82</td>\n",
       "      <td>2</td>\n",
       "      <td>0</td>\n",
       "      <td>1</td>\n",
       "      <td>75719.14</td>\n",
       "      <td>1</td>\n",
       "    </tr>\n",
       "    <tr>\n",
       "      <th>1</th>\n",
       "      <td>146556</td>\n",
       "      <td>861.0</td>\n",
       "      <td>Рыбинск</td>\n",
       "      <td>Ж</td>\n",
       "      <td>37.0</td>\n",
       "      <td>5</td>\n",
       "      <td>850594.33</td>\n",
       "      <td>3</td>\n",
       "      <td>1</td>\n",
       "      <td>0</td>\n",
       "      <td>86621.77</td>\n",
       "      <td>0</td>\n",
       "    </tr>\n",
       "    <tr>\n",
       "      <th>2</th>\n",
       "      <td>120722</td>\n",
       "      <td>892.0</td>\n",
       "      <td>Рыбинск</td>\n",
       "      <td>Ж</td>\n",
       "      <td>30.0</td>\n",
       "      <td>0</td>\n",
       "      <td>NaN</td>\n",
       "      <td>1</td>\n",
       "      <td>1</td>\n",
       "      <td>1</td>\n",
       "      <td>107683.34</td>\n",
       "      <td>0</td>\n",
       "    </tr>\n",
       "    <tr>\n",
       "      <th>3</th>\n",
       "      <td>225363</td>\n",
       "      <td>866.0</td>\n",
       "      <td>Ярославль</td>\n",
       "      <td>Ж</td>\n",
       "      <td>51.0</td>\n",
       "      <td>5</td>\n",
       "      <td>1524746.26</td>\n",
       "      <td>2</td>\n",
       "      <td>0</td>\n",
       "      <td>1</td>\n",
       "      <td>174423.53</td>\n",
       "      <td>1</td>\n",
       "    </tr>\n",
       "    <tr>\n",
       "      <th>4</th>\n",
       "      <td>157978</td>\n",
       "      <td>730.0</td>\n",
       "      <td>Ярославль</td>\n",
       "      <td>М</td>\n",
       "      <td>34.0</td>\n",
       "      <td>5</td>\n",
       "      <td>174.00</td>\n",
       "      <td>1</td>\n",
       "      <td>1</td>\n",
       "      <td>0</td>\n",
       "      <td>67353.16</td>\n",
       "      <td>1</td>\n",
       "    </tr>\n",
       "  </tbody>\n",
       "</table>\n",
       "</div>"
      ],
      "text/plain": [
       "   USERID  score       city gender   age  equity     balance  products  \\\n",
       "0  183012  850.0    Рыбинск      Ж  25.0       1    59214.82         2   \n",
       "1  146556  861.0    Рыбинск      Ж  37.0       5   850594.33         3   \n",
       "2  120722  892.0    Рыбинск      Ж  30.0       0         NaN         1   \n",
       "3  225363  866.0  Ярославль      Ж  51.0       5  1524746.26         2   \n",
       "4  157978  730.0  Ярославль      М  34.0       5      174.00         1   \n",
       "\n",
       "   credit_card  last_activity  EST_SALARY  churn  \n",
       "0            0              1    75719.14      1  \n",
       "1            1              0    86621.77      0  \n",
       "2            1              1   107683.34      0  \n",
       "3            0              1   174423.53      1  \n",
       "4            1              0    67353.16      1  "
      ]
     },
     "execution_count": 4,
     "metadata": {},
     "output_type": "execute_result"
    }
   ],
   "source": [
    "bank.head(5)"
   ]
  },
  {
   "cell_type": "code",
   "execution_count": 5,
   "id": "9e5b0da6",
   "metadata": {},
   "outputs": [],
   "source": [
    "def base_info(data):\n",
    "    \n",
    "    '''Функция на вход принимает датасет,\n",
    "    выводит общую информацию о датасете - метод info(),\n",
    "    количество пропусков в датасете и количество явных дубликатов,\n",
    "    дополнительно - явные дубликаты удаляются методом drop_duplicates()\n",
    "    '''\n",
    "    \n",
    "    print('общая информация о датасете:')\n",
    "    print(data.info())\n",
    "    print('\\nпропусков в датасете:')\n",
    "    print(data.isnull().sum())\n",
    "    print(f'\\nявных дубликатов в датасете:', data.duplicated().sum())\n",
    "    data = data.drop_duplicates()"
   ]
  },
  {
   "cell_type": "code",
   "execution_count": 7,
   "id": "3b5d8b42",
   "metadata": {},
   "outputs": [
    {
     "name": "stdout",
     "output_type": "stream",
     "text": [
      "общая информация о датасете:\n",
      "<class 'pandas.core.frame.DataFrame'>\n",
      "RangeIndex: 10000 entries, 0 to 9999\n",
      "Data columns (total 12 columns):\n",
      " #   Column         Non-Null Count  Dtype  \n",
      "---  ------         --------------  -----  \n",
      " 0   USERID         10000 non-null  int64  \n",
      " 1   score          10000 non-null  float64\n",
      " 2   city           10000 non-null  object \n",
      " 3   gender         10000 non-null  object \n",
      " 4   age            9974 non-null   float64\n",
      " 5   equity         10000 non-null  int64  \n",
      " 6   balance        7705 non-null   float64\n",
      " 7   products       10000 non-null  int64  \n",
      " 8   credit_card    10000 non-null  int64  \n",
      " 9   last_activity  10000 non-null  int64  \n",
      " 10  EST_SALARY     10000 non-null  float64\n",
      " 11  churn          10000 non-null  int64  \n",
      "dtypes: float64(4), int64(6), object(2)\n",
      "memory usage: 937.6+ KB\n",
      "None\n",
      "\n",
      "пропусков в датасете:\n",
      "USERID              0\n",
      "score               0\n",
      "city                0\n",
      "gender              0\n",
      "age                26\n",
      "equity              0\n",
      "balance          2295\n",
      "products            0\n",
      "credit_card         0\n",
      "last_activity       0\n",
      "EST_SALARY          0\n",
      "churn               0\n",
      "dtype: int64\n",
      "\n",
      "явных дубликатов в датасете: 0\n"
     ]
    }
   ],
   "source": [
    "base_info(bank)"
   ]
  },
  {
   "cell_type": "code",
   "execution_count": 8,
   "id": "bfac69c3",
   "metadata": {},
   "outputs": [
    {
     "name": "stdout",
     "output_type": "stream",
     "text": [
      "[ 850.  861.  892.  866.  730.  856.  807.  825.  923.  906.  927.  921.\n",
      "  845.  837.  815.  731.  829.  793.  876.  922.  772.  896.  871.  732.\n",
      "  898.  806.  766.  776.  868.  946.  828.  786.  944.  863.  822.  794.\n",
      "  924.  811.  814.  956.  935.  826.  849.  901.  893.  792.  888.  831.\n",
      "  748.  820.  860.  914.  930.  948.  789.  737.  812.  933.  809.  749.\n",
      "  873.  859.  950.  937.  835.  768.  767.  785.  846.  750.  816.  894.\n",
      "  891.  788.  758.  787.  821.  855.  779.  791.  838.  971.  797.  841.\n",
      "  915.  985.  870.  897.  763.  774.  686. 1000.  875.  819.  869.  854.\n",
      "  810.  761.  802.  958.  917.  745.  736.  908.  928.  884.  853.  780.\n",
      "  726.  881.  975.  852.  965.  899.  890.  836.  818.  880.  795.  916.\n",
      "  775.  902.  918.  842.  771.  895.  801.  721.  966.  804.  885.  986.\n",
      "  753.  832.  979.  798.  754.  756.  823.  658.  734.  954.  827.  929.\n",
      "  760.  688.  659.  817.  718.  705.  920.  652.  649.  862.  770.  824.\n",
      "  934.  952.  977.  840.  709.  878.  808.  900.  778.  800.  813.  905.\n",
      "  925.  697.  942.  848.  717.  712.  973.  879.  987.  805.  872.  904.\n",
      "  939.  993.  790.  799.  943.  903.  839.  882.  765.  883.  964.  833.\n",
      "  739.  911.  926.  751.  803.  762.  907.  910.  694.  867.  877.  706.\n",
      "  708.  691.  742.  889.  919.  864.  663.  913.  940.  887.  953.  746.\n",
      "  699.  858.  834.  847.  727.  782.  720.  938.  711.  725.  912.  851.\n",
      "  743.  685.  830.  701.  733.  777.  784.  949.  724.  769.  687.  773.\n",
      "  857.  963.  741.  931.  974.  764.  886.  844.  874.  909.  951.  947.\n",
      "  689.  715.  865.  945.  796.  682.  714.  976.  992.  707.  713.  781.\n",
      "  668.  843.  932.  752.  962.  759.  757.  967.  646.  738.  722.  936.\n",
      "  664.  661.  728.  997.  755.  673.  703.  941.  988.  695.  961.  960.\n",
      "  651.  696.  653.  983.  972.  716.  692.  959.  783.  735.  968.  702.\n",
      "  740.  747.  955.  970.  990.  681.  744.  729.  982.  969.  980.  978.\n",
      "  710.  719.  655.  650.  991.  642.  700.  981.  657.  996.  669.  999.\n",
      "  698.  989.  957.  666.  671.  678.  693.  648.  690.  684.  994.  984.\n",
      "  723.  667.  654.  680.  998.  660.  670.  656.  665.  662.  704.  995.]\n",
      "[25. 37. 30. 51. 34. 56. 39. 38. 54. 67. 52. 41. 31. 28. 35. 42. 45. 53.\n",
      " 40. 43. 47. 48. 61. 62. 36. 26. 27. 60. 72. 50. 46. 55. 58. 71. 44. 49.\n",
      " 33. 32. 66. 29. 68. 73. 69. 59. 21. 65. 57. 63. 80. 24. 70. 77. 64. 23.\n",
      " 20. 18. 19. 78. 74. 76. 22. 75. nan 83. 82. 81. 84. 79. 86.]\n",
      "['Рыбинск' 'Ярославль' 'Ростов']\n"
     ]
    }
   ],
   "source": [
    "# проверим данные, хранящиеся в столбцах 'score', 'age' и 'city'\n",
    "# в столбцах 'score' и 'age' нас интересует, есть ли значения с плавающей точкой\n",
    "\n",
    "print(bank['score'].unique())\n",
    "\n",
    "print(bank['age'].unique())\n",
    "\n",
    "print(bank['city'].unique())"
   ]
  },
  {
   "cell_type": "markdown",
   "id": "e92466bd",
   "metadata": {},
   "source": [
    "В имеющеймся датасете 10 000 строк, 12 столбцов.\n",
    "\n",
    "Явных дубликатов - нет.\n",
    "\n",
    "Пропущенные значения:\n",
    "\n",
    "в столбце 'age' - 26 строк (слишком мало пропущенных значений на фоне общего количества строк - можно просто удалить),\n",
    "в столбце 'balance' - 2 295 строк (необходимо подумать, как можно заполнить).\n",
    "Названия столбцов 'USERID' и 'EST_SALARY' необходимо привести к нижнему регистру.\n",
    "\n",
    "Значения в столбцах bank['score'] и bank['age'] представлены целыми числами, можно изменить тип данных с 'float' на 'int' (но можно оставить - это ничего не поменяет).\n",
    "\n",
    "Согласно условию, нам необходимо обучить модель классификации, поэтому категориальные столбцы 'city' и 'gender' необходимо перекодировать."
   ]
  },
  {
   "cell_type": "markdown",
   "id": "5cd23b2d",
   "metadata": {},
   "source": [
    "<a id=\"preprocessing\"> </a>\n",
    "# 1.2. Предобработка. Работа с пропущенными значениями."
   ]
  },
  {
   "cell_type": "markdown",
   "id": "1cc7b6dd",
   "metadata": {},
   "source": [
    "На предыдущем шаге мы выяснили, что в столбце 'balance' пропущено ~23% данных. Попробуем воостановить их с опорой на непустые строки."
   ]
  },
  {
   "cell_type": "markdown",
   "id": "f86978e0",
   "metadata": {},
   "source": [
    "# Исследование пропусков."
   ]
  },
  {
   "cell_type": "code",
   "execution_count": 9,
   "id": "593bc228",
   "metadata": {},
   "outputs": [],
   "source": [
    "# для дальнейшего исследования сохраним\n",
    "# исходный столбец balance (с незаполненными пропущенными значениями)\n",
    "\n",
    "bank['balance_with_na'] = bank['balance']"
   ]
  },
  {
   "cell_type": "markdown",
   "id": "a2ef756a",
   "metadata": {},
   "source": [
    "Визуализируем распределение переменных в двух группах - группе без пропусков и группе с пропусками в переменной 'balance'. Сравним их между собой, если распределения будут схожи - заполним средней или медианой (Missing At Random). Если распределения отличаются только в разрезе нескольких переменных, то мы можем заполнить пропуски средним значением по группам (Missing At Random). \n",
    "\n",
    "В противном случае мы предполагаем, что пропуски возникли из-за неизвестных факторов. В этом случае пропущенные значения лучше удалить."
   ]
  },
  {
   "cell_type": "code",
   "execution_count": 10,
   "id": "4b2ac815",
   "metadata": {},
   "outputs": [
    {
     "data": {
      "image/png": "[encoded data removed]",
      "text/plain": [
       "<Figure size 864x864 with 3 Axes>"
      ]
     },
     "metadata": {
      "needs_background": "light"
     },
     "output_type": "display_data"
    }
   ],
   "source": [
    "plt.figure(figsize=(12,12))\n",
    "plt.subplots_adjust(wspace=0.3, hspace=0.3)\n",
    "\n",
    "plt.suptitle('распределение переменных в двух группах - с пропусками в balance и без')\n",
    "ax1 = plt.subplot(4, 1, 1)\n",
    "plt.title('переменная score')\n",
    "plt.hist(bank[bank['balance'].isna() == True]['score'], alpha = 0.5, bins=50, label='переменная с пропусками')\n",
    "plt.hist(bank[bank['balance'].isna() == False]['score'], alpha = 0.5, bins=50, label='переменная без пропусков')\n",
    "plt.legend(loc='upper right')\n",
    "\n",
    "ax2 = plt.subplot(4, 1, 2)\n",
    "plt.title('переменная age')\n",
    "plt.hist(bank[bank['balance'].isna() == True]['age'], alpha = 0.5, bins=50, label='переменная с пропусками')\n",
    "plt.hist(bank[bank['balance'].isna() == False]['age'], alpha = 0.5, bins=50, label='переменная без пропусков')\n",
    "plt.legend(loc='upper right')\n",
    "\n",
    "ax3 = plt.subplot(4, 1, 3)\n",
    "plt.title('переменная est_salary')\n",
    "plt.hist(bank[bank['balance'].isna() == True]['EST_SALARY'], alpha = 0.5, bins=50, label='переменная с пропусками')\n",
    "plt.hist(bank[bank['balance'].isna() == False]['EST_SALARY'], alpha = 0.5, bins=50, label='переменная без пропусков')\n",
    "plt.legend(loc='upper right')\n",
    "\n",
    "plt.show()"
   ]
  },
  {
   "cell_type": "code",
   "execution_count": 11,
   "id": "1cab1085",
   "metadata": {},
   "outputs": [],
   "source": [
    "city_value_counts_na = pd.concat([pd.DataFrame(bank[bank['balance'].isna() == True]['city'].value_counts(normalize=True)\\\n",
    "                                 .round(2)).T.rename(index={'city': 'with_na'}),\n",
    "                               pd.DataFrame(bank[bank['balance'].isna() == False]['city'].value_counts(normalize=True)\\\n",
    "                                 .round(2)).T.rename(index={'city': 'without_na'})], axis=0)\n",
    "\n",
    "gender_value_counts_na = pd.concat([pd.DataFrame(bank[bank['balance'].isna() == True]['gender'].value_counts(normalize=True)\\\n",
    "                                 .round(2)).T.rename(index={'gender': 'with_na'}),\n",
    "                               pd.DataFrame(bank[bank['balance'].isna() == False]['gender'].value_counts(normalize=True)\\\n",
    "                                 .round(2)).T.rename(index={'gender': 'without_na'})], axis=0)"
   ]
  },
  {
   "cell_type": "code",
   "execution_count": 12,
   "id": "6a3841a9",
   "metadata": {},
   "outputs": [
    {
     "name": "stdout",
     "output_type": "stream",
     "text": [
      "\n",
      "соотношение клиентов в двух группах по городам и полу:\n",
      "            Ярославль  Рыбинск  Ростов     М     Ж\n",
      "with_na          0.64     0.26    0.10  0.56  0.44\n",
      "without_na       0.57     0.27    0.15  0.48  0.52\n",
      "\n",
      "соотношение клиентов в двух группах по количеству недвижимости:\n",
      "               0     1     2    3     4     5     6     7    8    9\n",
      "with_na     0.95  0.05   NaN  0.0   NaN   NaN   NaN   NaN  NaN  NaN\n",
      "without_na  0.05  0.09  0.14  0.2  0.24  0.25  0.02  0.01  0.0  0.0\n",
      "\n",
      "соотношение клиентов в двух группах по количеству продуктов:\n",
      "              0     1     2     3     4    5\n",
      "with_na     0.0  0.85  0.14  0.01   NaN  NaN\n",
      "without_na  NaN  0.18  0.62  0.13  0.06  0.0\n"
     ]
    }
   ],
   "source": [
    "print('\\nсоотношение клиентов в двух группах по городам и полу:')\n",
    "print(pd.concat([city_value_counts_na, gender_value_counts_na], axis=1))\n",
    "\n",
    "print('\\nсоотношение клиентов в двух группах по количеству недвижимости:')\n",
    "print(pd.concat([pd.DataFrame(bank[bank['balance'].isna() == True]['equity'].value_counts(normalize=True)\\\n",
    "             .round(2)).T.rename(index={'equity': 'with_na'}),\n",
    "           pd.DataFrame(bank[bank['balance'].isna() == False]['equity'].value_counts(normalize=True)\\\n",
    "             .round(2)).T.rename(index={'equity': 'without_na'})], axis=0))\n",
    "\n",
    "print('\\nсоотношение клиентов в двух группах по количеству продуктов:')\n",
    "print(pd.concat([pd.DataFrame(bank[bank['balance'].isna() == True]['products'].value_counts(normalize=True)\\\n",
    "             .round(2)).T.rename(index={'products': 'with_na'}),\n",
    "           pd.DataFrame(bank[bank['balance'].isna() == False]['products'].value_counts(normalize=True)\\\n",
    "             .round(2)).T.rename(index={'products': 'without_na'})], axis=0))"
   ]
  },
  {
   "cell_type": "markdown",
   "id": "61cb1bc9",
   "metadata": {},
   "source": [
    "В двух группах (с пропусками и без) мы наблюдаем схожее распредление переменных age, city, gender."
   ]
  },
  {
   "cell_type": "markdown",
   "id": "2d2a5326",
   "metadata": {},
   "source": [
    "Изучим корреляцию, найдем переменные связанные с balance."
   ]
  },
  {
   "cell_type": "code",
   "execution_count": 13,
   "id": "8e226b55",
   "metadata": {},
   "outputs": [],
   "source": [
    "# создадим фиктивную переменную, где 0 будет отмечен пропуск в балансе, а 1 - не пропуск\n",
    "\n",
    "bank['balance_dummy'] = bank['balance_with_na'].fillna(0)\n",
    "\n",
    "bank.loc[(bank['balance_dummy'] != 0), ('balance_dummy')] = 1"
   ]
  },
  {
   "cell_type": "code",
   "execution_count": 14,
   "id": "e570d4fe",
   "metadata": {},
   "outputs": [],
   "source": [
    "# закодируем категориальные переменные \n",
    "# для дальнейшего исследования сохраним исходные значения переменных\n",
    "\n",
    "bank = pd.concat([bank, pd.get_dummies(bank[['city', 'gender']], drop_first=True)], axis=1)"
   ]
  },
  {
   "cell_type": "code",
   "execution_count": 15,
   "id": "98bdb6c5",
   "metadata": {},
   "outputs": [
    {
     "name": "stdout",
     "output_type": "stream",
     "text": [
      "interval columns not set, guessing: ['score', 'age', 'equity', 'products', 'credit_card', 'last_activity', 'EST_SALARY', 'churn', 'balance_dummy', 'city_Рыбинск', 'city_Ярославль', 'gender_М']\n"
     ]
    },
    {
     "data": {
      "text/plain": [
       "balance_dummy     1.00\n",
       "equity            0.98\n",
       "products          0.79\n",
       "score             0.75\n",
       "EST_SALARY        0.43\n",
       "churn             0.38\n",
       "credit_card       0.25\n",
       "gender            0.10\n",
       "gender_М          0.10\n",
       "city_Ярославль    0.09\n",
       "age               0.05\n",
       "city              0.04\n",
       "last_activity     0.04\n",
       "city_Рыбинск      0.01\n",
       "Name: balance_dummy, dtype: float64"
      ]
     },
     "execution_count": 15,
     "metadata": {},
     "output_type": "execute_result"
    }
   ],
   "source": [
    "bank_balance_phik = round(bank.drop(['USERID', 'balance', 'balance_with_na'], axis=1).phik_matrix(), 2)\n",
    "\n",
    "bank_balance_phik['balance_dummy'].sort_values(ascending=False)"
   ]
  },
  {
   "cell_type": "markdown",
   "id": "0998ea91",
   "metadata": {},
   "source": [
    "Баланс коррелирует с баллами недвижимости, количеством продуктов, скорингом, зарплатой, фактом оттока и кредитной картой. \n",
    "\n",
    "Попробуем заполнить пропуски двумя способами:\n",
    "- наивным - при помощи возраста, города и пола,\n",
    "- и при помощи корреляции."
   ]
  },
  {
   "cell_type": "markdown",
   "id": "076338d1",
   "metadata": {},
   "source": [
    "# Заполнение пропусков."
   ]
  },
  {
   "cell_type": "code",
   "execution_count": 17,
   "id": "dbd238c7",
   "metadata": {},
   "outputs": [],
   "source": [
    "# посчитаем медианные значения зарплаты в разрезе города, пола и возраста\n",
    "\n",
    "naive_balance = bank.groupby(['age', 'city', 'gender'])['balance'].median()"
   ]
  },
  {
   "cell_type": "code",
   "execution_count": 18,
   "id": "4e9cdaad",
   "metadata": {},
   "outputs": [],
   "source": [
    "# разобьем на отрезки score и  est_salary\n",
    "\n",
    "bank['est_salary_qcut'] = pd.qcut(bank['EST_SALARY'], 15)\n",
    "bank['score_qcut'] = pd.qcut(bank['score'], 15)"
   ]
  },
  {
   "cell_type": "code",
   "execution_count": 19,
   "id": "cd7294c8",
   "metadata": {},
   "outputs": [],
   "source": [
    "balance_corr = bank.groupby(['equity', 'products', 'score_qcut', 'est_salary_qcut', \n",
    "                             'churn', 'credit_card'])['balance'].median().round(2).reset_index()"
   ]
  },
  {
   "cell_type": "code",
   "execution_count": 21,
   "id": "86d212ac",
   "metadata": {},
   "outputs": [],
   "source": [
    "# объединим датафрейм и сводные таблицы\n",
    "\n",
    "bank = bank.merge(naive_balance, how='left', on=['age', 'city', 'gender'], \n",
    "                  suffixes=('', '_pivot_naive'))\n",
    "\n",
    "\n",
    "bank = bank.merge(balance_corr, how='left', on=['equity', 'products', 'score_qcut', 'est_salary_qcut', \n",
    "                                                'churn', 'credit_card'], \n",
    "                  suffixes=('', '_pivot_corr'))"
   ]
  },
  {
   "cell_type": "code",
   "execution_count": 22,
   "id": "2b9f3d9f",
   "metadata": {},
   "outputs": [],
   "source": [
    "# заполним пропуски данными из сводных таблиц\n",
    "\n",
    "bank['balance_fill_naive'] = bank['balance_with_na'].fillna(bank['balance_pivot_naive'], axis=0)\n",
    "\n",
    "bank['balance_fill_corr'] = bank['balance_with_na'].fillna(bank['balance_pivot_corr'], axis=0)"
   ]
  },
  {
   "cell_type": "code",
   "execution_count": 23,
   "id": "0e1f4be1",
   "metadata": {},
   "outputs": [
    {
     "data": {
      "image/png": "[encoded data removed]",
      "text/plain": [
       "<Figure size 1080x360 with 2 Axes>"
      ]
     },
     "metadata": {
      "needs_background": "light"
     },
     "output_type": "display_data"
    }
   ],
   "source": [
    "# визуализируем и сравним распределение исходной переменной balance с заполненными двумя способами\n",
    "\n",
    "plt.figure(figsize=(15,5))\n",
    "plt.subplots_adjust(wspace=0.3, hspace=0.6)\n",
    "\n",
    "plt.suptitle('распределение переменной balance - до заполнения пропусков и после')\n",
    "\n",
    "ax1 = plt.subplot(2, 2, 1)\n",
    "plt.title('наивное заполнение: city, gender, age')\n",
    "plt.hist(bank[bank['balance_fill_naive'] <= np.nanpercentile(bank['balance_fill_naive'], 95)]['balance_fill_naive'], \n",
    "         alpha = 0.5, bins=50, label='переменная без пропусков')\n",
    "plt.hist(bank[bank['balance'] <= np.nanpercentile(bank['balance'], 95)]['balance'], \n",
    "         alpha = 0.5, bins=50, label='переменная с пропусками')\n",
    "plt.legend(loc='upper right')\n",
    "\n",
    "ax2 = plt.subplot(2, 2, 2)\n",
    "plt.title('заполнение при помощи корреляции')\n",
    "plt.hist(bank[bank['balance_fill_corr'] <= np.nanpercentile(bank['balance_fill_corr'], 95)]['balance_fill_corr'], \n",
    "         alpha = 0.5, bins=50, label='переменная без пропусков')\n",
    "plt.hist(bank[bank['balance'] <= np.nanpercentile(bank['balance'], 95)]['balance'], \n",
    "         alpha = 0.5, bins=50, label='переменная с пропусками')\n",
    "plt.legend(loc='upper right')\n",
    "\n",
    "plt.show()"
   ]
  },
  {
   "cell_type": "markdown",
   "id": "5e6813c1",
   "metadata": {},
   "source": [
    "Второй вариант сработал лучше - новое распределение во многом повторяет исходное, необъяснимых пиков - нет."
   ]
  },
  {
   "cell_type": "code",
   "execution_count": 24,
   "id": "ccb4b0d2",
   "metadata": {},
   "outputs": [
    {
     "name": "stdout",
     "output_type": "stream",
     "text": [
      "пропусков в balance: 2068\n",
      "пропусков в age: 26\n"
     ]
    }
   ],
   "source": [
    "print('пропусков в balance:', bank['balance_fill_corr'].isnull().sum())\n",
    "print('пропусков в age:', bank['age'].isnull().sum())"
   ]
  },
  {
   "cell_type": "markdown",
   "id": "25e5d0ba",
   "metadata": {},
   "source": [
    "Итого: мы имеем 2068 пропуска в balance и 26 - в age.\n",
    "    \n",
    "Удалим пропущенные значения в age, а так же вспомогательный столбцы, незаполненные строки в balance оставим без изменения:"
   ]
  },
  {
   "cell_type": "code",
   "execution_count": 25,
   "id": "397dbc0b",
   "metadata": {},
   "outputs": [],
   "source": [
    "bank['balance'] = bank['balance_fill_corr']\n",
    "\n",
    "bank = bank.dropna(subset=['age']).drop(columns=['balance_dummy', 'est_salary_qcut', 'score_qcut', 'balance_pivot_naive',\n",
    "                                               'balance_pivot_corr', 'balance_fill_naive', 'balance_fill_corr'])"
   ]
  },
  {
   "cell_type": "code",
   "execution_count": 26,
   "id": "edea1a88",
   "metadata": {},
   "outputs": [],
   "source": [
    "# переименуем необходимые столбцы\n",
    "\n",
    "bank = bank.rename(columns={'USERID': 'user_id', 'EST_SALARY': 'est_salary',\n",
    "                           'city_Рыбинск': 'city_rybinsk', 'city_Ярославль': 'city_yaroslavl', \n",
    "                            'gender_М': 'gender_m'})"
   ]
  },
  {
   "cell_type": "code",
   "execution_count": 27,
   "id": "882cb510",
   "metadata": {},
   "outputs": [
    {
     "name": "stdout",
     "output_type": "stream",
     "text": [
      "длина датасета после удаления пропусков: 9974\n"
     ]
    }
   ],
   "source": [
    "print('длина датасета после удаления пропусков:', bank.shape[0])"
   ]
  },
  {
   "cell_type": "markdown",
   "id": "5837eadd",
   "metadata": {},
   "source": [
    "В исходных данных мы наблюдали пропуски в столбцах age и balance (~23% пропущенных значений). Пропуски в age было решено оставить без изменения и просто удалить.\n",
    "\n",
    "Пропуски в balance были частично заполнены медианными значениями в разрезе количества недвижимости и продуктов, факта оттока, наличия кредитной карты и разбитых на отрезки 'score' и 'est_salary'.\n",
    "\n",
    "После удаления оставшихся пропущенных значений в датасете осталось 9 974 строк."
   ]
  },
  {
   "cell_type": "markdown",
   "id": "81cf254f",
   "metadata": {},
   "source": [
    "<a id=\"eda\"> </a>\n",
    "# 2. Исследовательский анализ данных."
   ]
  },
  {
   "cell_type": "markdown",
   "id": "a3a86260",
   "metadata": {},
   "source": [
    "# min, max, median"
   ]
  },
  {
   "cell_type": "code",
   "execution_count": 28,
   "id": "f990db27",
   "metadata": {},
   "outputs": [
    {
     "data": {
      "text/html": [
       "<div>\n",
       "<style scoped>\n",
       "    .dataframe tbody tr th:only-of-type {\n",
       "        vertical-align: middle;\n",
       "    }\n",
       "\n",
       "    .dataframe tbody tr th {\n",
       "        vertical-align: top;\n",
       "    }\n",
       "\n",
       "    .dataframe thead th {\n",
       "        text-align: right;\n",
       "    }\n",
       "</style>\n",
       "<table border=\"1\" class=\"dataframe\">\n",
       "  <thead>\n",
       "    <tr style=\"text-align: right;\">\n",
       "      <th></th>\n",
       "      <th>score</th>\n",
       "      <th>age</th>\n",
       "      <th>equity</th>\n",
       "      <th>balance</th>\n",
       "      <th>products</th>\n",
       "      <th>est_salary</th>\n",
       "    </tr>\n",
       "  </thead>\n",
       "  <tbody>\n",
       "    <tr>\n",
       "      <th>min</th>\n",
       "      <td>642.0</td>\n",
       "      <td>18.0</td>\n",
       "      <td>0.0</td>\n",
       "      <td>0.000000e+00</td>\n",
       "      <td>0.0</td>\n",
       "      <td>2546.300</td>\n",
       "    </tr>\n",
       "    <tr>\n",
       "      <th>median</th>\n",
       "      <td>853.0</td>\n",
       "      <td>40.0</td>\n",
       "      <td>3.0</td>\n",
       "      <td>5.069249e+05</td>\n",
       "      <td>2.0</td>\n",
       "      <td>119626.795</td>\n",
       "    </tr>\n",
       "    <tr>\n",
       "      <th>max</th>\n",
       "      <td>1000.0</td>\n",
       "      <td>86.0</td>\n",
       "      <td>9.0</td>\n",
       "      <td>1.191136e+08</td>\n",
       "      <td>5.0</td>\n",
       "      <td>1395064.450</td>\n",
       "    </tr>\n",
       "  </tbody>\n",
       "</table>\n",
       "</div>"
      ],
      "text/plain": [
       "         score   age  equity       balance  products   est_salary\n",
       "min      642.0  18.0     0.0  0.000000e+00       0.0     2546.300\n",
       "median   853.0  40.0     3.0  5.069249e+05       2.0   119626.795\n",
       "max     1000.0  86.0     9.0  1.191136e+08       5.0  1395064.450"
      ]
     },
     "execution_count": 28,
     "metadata": {},
     "output_type": "execute_result"
    }
   ],
   "source": [
    "# проверим минимальные, медианные и максимальные значения переменных\n",
    "# бинарные переменные пока не учитываем\n",
    "\n",
    "bank[['score', 'age', 'equity', 'balance', 'products', 'est_salary']].agg(['min', 'median', 'max'])"
   ]
  },
  {
   "cell_type": "code",
   "execution_count": 29,
   "id": "fb356a82",
   "metadata": {},
   "outputs": [
    {
     "data": {
      "text/html": [
       "<div>\n",
       "<style scoped>\n",
       "    .dataframe tbody tr th:only-of-type {\n",
       "        vertical-align: middle;\n",
       "    }\n",
       "\n",
       "    .dataframe tbody tr th {\n",
       "        vertical-align: top;\n",
       "    }\n",
       "\n",
       "    .dataframe thead th {\n",
       "        text-align: right;\n",
       "    }\n",
       "</style>\n",
       "<table border=\"1\" class=\"dataframe\">\n",
       "  <thead>\n",
       "    <tr style=\"text-align: right;\">\n",
       "      <th></th>\n",
       "      <th>churn</th>\n",
       "      <th>credit_card</th>\n",
       "      <th>last_activity</th>\n",
       "    </tr>\n",
       "  </thead>\n",
       "  <tbody>\n",
       "    <tr>\n",
       "      <th>0</th>\n",
       "      <td>8155</td>\n",
       "      <td>3190</td>\n",
       "      <td>4759</td>\n",
       "    </tr>\n",
       "    <tr>\n",
       "      <th>1</th>\n",
       "      <td>1819</td>\n",
       "      <td>6784</td>\n",
       "      <td>5215</td>\n",
       "    </tr>\n",
       "  </tbody>\n",
       "</table>\n",
       "</div>"
      ],
      "text/plain": [
       "   churn  credit_card  last_activity\n",
       "0   8155         3190           4759\n",
       "1   1819         6784           5215"
      ]
     },
     "execution_count": 29,
     "metadata": {},
     "output_type": "execute_result"
    }
   ],
   "source": [
    "# изучим бинарные переменные\n",
    "\n",
    "pd.concat([bank['churn'].value_counts(), bank['credit_card'].value_counts(), bank['last_activity'].value_counts()], axis=1)"
   ]
  },
  {
   "cell_type": "markdown",
   "id": "c70ea7e6",
   "metadata": {},
   "source": [
    "Целевая переменная ('churn') несбалансированна - неотточных клиентов больше, чем отточных (~80/20).\n",
    "\n",
    "Клиенты, имеющие кредитную карту, составляют треть от имеющейся выборки.\n",
    "\n",
    "Активных и неактивных клиентов примерно поровну. Согласно условию, клиенты промаркированные как активные (last_activity = 1) явно сообщают нам о желании покинуть банк, но пока не уходят."
   ]
  },
  {
   "cell_type": "markdown",
   "id": "39589288",
   "metadata": {},
   "source": [
    "# Корреляция"
   ]
  },
  {
   "cell_type": "markdown",
   "id": "feb21e15",
   "metadata": {},
   "source": [
    "Изучим корреляцию между признаками и визуализируем ее. Для удобства на графиках подсветим только умеренную корреляцию (|0.1| и выше)."
   ]
  },
  {
   "cell_type": "code",
   "execution_count": 30,
   "id": "fd540a37",
   "metadata": {},
   "outputs": [
    {
     "name": "stdout",
     "output_type": "stream",
     "text": [
      "interval columns not set, guessing: ['score', 'age', 'equity', 'balance', 'products', 'credit_card', 'last_activity', 'est_salary', 'churn', 'balance_with_na', 'city_rybinsk', 'city_yaroslavl', 'gender_m']\n"
     ]
    }
   ],
   "source": [
    "bank_phik = round(bank.drop(['user_id', 'city', 'gender'], axis=1).phik_matrix(), 2)"
   ]
  },
  {
   "cell_type": "code",
   "execution_count": 31,
   "id": "22470439",
   "metadata": {},
   "outputs": [
    {
     "data": {
      "image/png": "[encoded data removed]",
      "text/plain": [
       "<Figure size 720x504 with 2 Axes>"
      ]
     },
     "metadata": {
      "needs_background": "light"
     },
     "output_type": "display_data"
    }
   ],
   "source": [
    "# визуализируем матрицу phik-корреляции и \"подсветим\" переменные с корреляцией 0.1 и выше\n",
    "\n",
    "plt.subplots(figsize=(10, 7))\n",
    "sns.heatmap(bank_phik[bank_phik > 0.1], annot=True, cmap='coolwarm', center=0)\n",
    "plt.title('матрица корреляции (нелинейная зависимость)')\n",
    "plt.show();"
   ]
  },
  {
   "cell_type": "code",
   "execution_count": 32,
   "id": "b3175608",
   "metadata": {},
   "outputs": [
    {
     "data": {
      "text/plain": [
       "churn            1.00\n",
       "products         0.44\n",
       "equity           0.35\n",
       "last_activity    0.26\n",
       "score            0.23\n",
       "gender_m         0.22\n",
       "credit_card      0.20\n",
       "age              0.18\n",
       "Name: churn, dtype: float64"
      ]
     },
     "execution_count": 32,
     "metadata": {},
     "output_type": "execute_result"
    }
   ],
   "source": [
    "# выделим из phik-матрицы столбец с перменной 'churn'\n",
    "\n",
    "bank_phik[bank_phik['churn'] > 0.1]['churn'].sort_values(ascending=False)"
   ]
  },
  {
   "cell_type": "markdown",
   "id": "8083c4d9",
   "metadata": {},
   "source": [
    "Phik нашла взимосвязь факта оттока с количеством продуктов и баллами недвижимости, а так же с активность, скорингом, полом, наличием кредитной карты и возрастом.\n",
    "\n",
    "Мы можем предположить, что мы сможем сегментировать наших пользователей по этим переменным."
   ]
  },
  {
   "cell_type": "markdown",
   "id": "4d6800e1",
   "metadata": {},
   "source": [
    "# Визуализация переменных: числовые значения"
   ]
  },
  {
   "cell_type": "markdown",
   "id": "853d5551",
   "metadata": {},
   "source": [
    "Все графики дополним вертикальными линиями, которые будут отмечать пороговые значения для повышенного оттока."
   ]
  },
  {
   "cell_type": "code",
   "execution_count": 33,
   "id": "93eb82cf",
   "metadata": {},
   "outputs": [],
   "source": [
    "score_bins = [i for i in range(int(bank['score'].min()), int(bank['score'].max()) + 1, 5)]\n",
    "\n",
    "age_bins = [i for i in range(int(bank['age'].min()), int(bank['age'].max()) + 1, 2)]"
   ]
  },
  {
   "cell_type": "code",
   "execution_count": 34,
   "id": "bfeea404",
   "metadata": {},
   "outputs": [
    {
     "data": {
      "image/png": "[encoded data removed]",
      "text/plain": [
       "<Figure size 864x648 with 2 Axes>"
      ]
     },
     "metadata": {
      "needs_background": "light"
     },
     "output_type": "display_data"
    }
   ],
   "source": [
    "# визуализируем переменные score, age в разрезе факта оттока\n",
    "\n",
    "plt.figure(figsize=(12,9))\n",
    "plt.subplots_adjust(wspace=0.3, hspace=0.5)\n",
    "\n",
    "ax1 = plt.subplot(2, 1, 1)\n",
    "plt.title('переменная score')\n",
    "plt.hist(bank[bank['churn'] == 0]['score'], alpha = 0.4, label='неотточные клиенты', density=True, bins=score_bins)\n",
    "plt.hist(bank[bank['churn'] == 1]['score'], alpha = 0.6, label='отточные клиенты', density=True, bins=score_bins)\n",
    "plt.axvline(x=820, color='red', linestyle='--', label='высокооточный сегмент') \n",
    "plt.axvline(x=906, color='red', linestyle='--')\n",
    "plt.axvline(x=918, color='green', linestyle='--', label='высокооточный сегмент') \n",
    "plt.axvline(x=942, color='green', linestyle='--')\n",
    "plt.legend(loc='upper right')\n",
    "\n",
    "\n",
    "ax2 = plt.subplot(2, 1, 2)\n",
    "plt.title('переменная age')\n",
    "plt.hist(bank[bank['churn'] == 0]['age'], alpha = 0.4, label='неотточные клиенты', density=True, bins=age_bins)\n",
    "plt.hist(bank[bank['churn'] == 1]['age'], alpha = 0.6, label='отточные клиенты', density=True, bins=age_bins)\n",
    "plt.axvline(x=24, color='red', linestyle='--', label='высокооточный сегмент', c='r') \n",
    "plt.axvline(x=36, color='red', linestyle='--', c='r')\n",
    "plt.axvline(x=50, color='red', linestyle='--', c='g', label='высокооточный сегмент',)\n",
    "plt.axvline(x=60, color='red', linestyle='--', c='g')\n",
    "plt.legend(loc='upper right')\n",
    "plt.show()"
   ]
  },
  {
   "cell_type": "markdown",
   "id": "178268f7",
   "metadata": {},
   "source": [
    "На графике видны наиболее отточные сегменты - это клиентом с рейтингом ~820-906 и 918-942 и возрастые группы 24-36 и 50-60."
   ]
  },
  {
   "cell_type": "code",
   "execution_count": 35,
   "id": "54f5d109",
   "metadata": {},
   "outputs": [],
   "source": [
    "# для удобства (и сокращения длины кода) в отдельную переменную строки с непустыми значения баланса\n",
    "\n",
    "balance_without_na = bank.copy()\n",
    "balance_without_na = balance_without_na[balance_without_na['balance'].isna() == False]"
   ]
  },
  {
   "cell_type": "code",
   "execution_count": 36,
   "id": "763bc433",
   "metadata": {},
   "outputs": [
    {
     "data": {
      "image/png": "[encoded data removed]",
      "text/plain": [
       "<Figure size 864x648 with 2 Axes>"
      ]
     },
     "metadata": {
      "needs_background": "light"
     },
     "output_type": "display_data"
    }
   ],
   "source": [
    "# визуализируем переменные balance, est_salary в разрезе факта оттока\n",
    "# \"обрежем\" для удобства значения до 99 перцентиля\n",
    "\n",
    "\n",
    "plt.figure(figsize=(12,9))\n",
    "plt.subplots_adjust(wspace=0.3, hspace=0.5)\n",
    "\n",
    "ax1 = plt.subplot(2, 1, 1)\n",
    "plt.title('переменная balance')\n",
    "plt.ticklabel_format(axis='both', style='plain')\n",
    "plt.hist(balance_without_na[(balance_without_na['churn'] == 0) & \n",
    "                            (balance_without_na['balance'] <= np.percentile(balance_without_na['balance'], 99))]['balance'],\n",
    "         alpha = 0.6, label='неотточные клиенты', density=True, bins=150)\n",
    "plt.hist(balance_without_na[(balance_without_na['churn'] == 1) \n",
    "                            & (balance_without_na['balance'] <= np.percentile(balance_without_na['balance'], 99))]['balance'],\n",
    "         alpha = 0.6, label='отточные клиенты', density=True, bins=150)\n",
    "plt.axvline(x=750000, color='red', linestyle='--', label='высокооточный сегмент') \n",
    "plt.legend(loc='upper right')\n",
    "\n",
    "ax2 = plt.subplot(2, 1, 2)\n",
    "plt.title('переменная est_salary')\n",
    "plt.ticklabel_format(axis='both', style='plain')\n",
    "plt.hist(bank[(bank['churn'] == 0) & (bank['est_salary'] <= np.percentile(bank['est_salary'], 99))]['est_salary'],\n",
    "         alpha = 0.6, label='неотточные клиенты', density=True, bins=150)\n",
    "plt.hist(bank[(bank['churn'] == 1) & (bank['est_salary'] <= np.percentile(bank['est_salary'], 99))]['est_salary'],\n",
    "         alpha = 0.6, label='отточные клиенты', density=True, bins=150)\n",
    "plt.axvline(x=95000, color='red', linestyle='--', label='высокооточный сегмент') \n",
    "plt.legend(loc='upper right')\n",
    "\n",
    "plt.show()"
   ]
  },
  {
   "cell_type": "markdown",
   "id": "4ac90962",
   "metadata": {},
   "source": [
    "Чем выше у клиента зарплата и баланс, тем выше шанс того, что он попадет в категорию отточных.\n",
    "\n",
    "При подсчете минимума и максимума, мы увидели аномально большие максимальные значения переменных, график выше это подтверждает - распределения признаков скошены вправо."
   ]
  },
  {
   "cell_type": "markdown",
   "id": "daab2989",
   "metadata": {},
   "source": [
    "Повышенный отток мы ожидаем у групп клиентов с балансом более 750 000 и зарплатой ~ 95 000."
   ]
  },
  {
   "cell_type": "markdown",
   "id": "7668fc39",
   "metadata": {},
   "source": [
    "Рассмотрим переменные при помощи боксплота:"
   ]
  },
  {
   "cell_type": "code",
   "execution_count": 37,
   "id": "aee1c4a0",
   "metadata": {},
   "outputs": [
    {
     "data": {
      "image/png": "[encoded data removed]",
      "text/plain": [
       "<Figure size 1440x576 with 4 Axes>"
      ]
     },
     "metadata": {
      "needs_background": "light"
     },
     "output_type": "display_data"
    }
   ],
   "source": [
    "# визуализируем переменные balance, est_salary в разрезе факта оттока\n",
    "# \"обрежем\" для удобства значения до 99 перцентиля\n",
    "\n",
    "plt.figure(figsize=(20, 8))\n",
    "plt.subplots_adjust(wspace=1, hspace=1)\n",
    "plt.suptitle('\"ящик с усами\":')\n",
    "ax1 = plt.subplot(4, 1, 1)\n",
    "plt.title('переменная balance (churn=0)')\n",
    "plt.ticklabel_format(style = 'plain')\n",
    "plt.boxplot(balance_without_na[(balance_without_na['churn'] == 0) \n",
    "                            & (balance_without_na['balance'] <= np.percentile(balance_without_na['balance'], 99))]['balance'], \n",
    "            vert=False)\n",
    "\n",
    "ax2 = plt.subplot(4, 1, 2)\n",
    "plt.title('переменная balance (churn=1)')\n",
    "plt.ticklabel_format(style = 'plain')\n",
    "plt.boxplot(balance_without_na[(balance_without_na['churn'] == 1) \n",
    "                             & (balance_without_na['balance'] <= np.percentile(balance_without_na['balance'], 99))]['balance'], \n",
    "            vert=False)\n",
    "\n",
    "ax3 = plt.subplot(4, 1, 3)\n",
    "plt.title('переменная est_salary (churn=0)')\n",
    "plt.ticklabel_format(style = 'plain')\n",
    "plt.boxplot(bank[(bank['churn'] == 0) & (bank['est_salary'] <= np.percentile(bank['est_salary'], 99))]['est_salary'], \n",
    "            vert=False)\n",
    "\n",
    "ax4 = plt.subplot(4, 1, 4)\n",
    "plt.title('переменная est_salary (churn=1)')\n",
    "plt.ticklabel_format(style = 'plain')\n",
    "plt.boxplot(bank[(bank['churn'] == 1) & (bank['est_salary'] <= np.percentile(bank['est_salary'], 99))]['est_salary'], \n",
    "            vert=False)\n",
    "\n",
    "\n",
    "plt.show();"
   ]
  },
  {
   "cell_type": "markdown",
   "id": "8fb7b787",
   "metadata": {},
   "source": [
    "Для двух переменных (зарплата и баланс) мы можем наблюдать схожие черты:\n",
    "- в группе неотточных клиентов медиана меньше, чем в группе отточных,\n",
    "- максимальные значения переменных больше в группе отточных клинетов, но у неотточных больше выбросов,\n",
    "- межквартильный размах шире в группах отточных клиентов."
   ]
  },
  {
   "cell_type": "markdown",
   "id": "6e4ed793",
   "metadata": {},
   "source": [
    "# Визуализация переменных: категориальные переменные"
   ]
  },
  {
   "cell_type": "markdown",
   "id": "090241b2",
   "metadata": {},
   "source": [
    "Для визуализации проведем небольшую подгтовительную работу:\n",
    "- посчитаем процент оттока по банку,\n",
    "- для переменных city, gender, credit_card, last_activity, equity и products построим сводные таблицы, посчитаем значения с разбивкой по факту оттока (методом value_counts), дополнительно - для каждой категории подсчитаем процент оттока и сравним его с общебанковским. Если процент оттока в какой-либо категории будет сильно отличаться от остальных - отметим его в качестве потенциального признака для сегментации,\n",
    "- визуализируем полученные таблицы."
   ]
  },
  {
   "cell_type": "code",
   "execution_count": 38,
   "id": "369487aa",
   "metadata": {},
   "outputs": [
    {
     "data": {
      "text/html": [
       "<div>\n",
       "<style scoped>\n",
       "    .dataframe tbody tr th:only-of-type {\n",
       "        vertical-align: middle;\n",
       "    }\n",
       "\n",
       "    .dataframe tbody tr th {\n",
       "        vertical-align: top;\n",
       "    }\n",
       "\n",
       "    .dataframe thead th {\n",
       "        text-align: right;\n",
       "    }\n",
       "</style>\n",
       "<table border=\"1\" class=\"dataframe\">\n",
       "  <thead>\n",
       "    <tr style=\"text-align: right;\">\n",
       "      <th></th>\n",
       "      <th>churn_perc</th>\n",
       "    </tr>\n",
       "    <tr>\n",
       "      <th>city</th>\n",
       "      <th></th>\n",
       "    </tr>\n",
       "  </thead>\n",
       "  <tbody>\n",
       "    <tr>\n",
       "      <th>Ярославль</th>\n",
       "      <td>19.01</td>\n",
       "    </tr>\n",
       "    <tr>\n",
       "      <th>Ростов</th>\n",
       "      <td>18.71</td>\n",
       "    </tr>\n",
       "    <tr>\n",
       "      <th>Рыбинск</th>\n",
       "      <td>16.29</td>\n",
       "    </tr>\n",
       "  </tbody>\n",
       "</table>\n",
       "</div>"
      ],
      "text/plain": [
       "           churn_perc\n",
       "city                 \n",
       "Ярославль       19.01\n",
       "Ростов          18.71\n",
       "Рыбинск         16.29"
      ]
     },
     "execution_count": 38,
     "metadata": {},
     "output_type": "execute_result"
    }
   ],
   "source": [
    "city_value_counts =\\\n",
    "    [[city, round(bank[bank['city'] == city]['churn'].mean() * 100, 2)] for city in bank['city'].unique()]\n",
    "\n",
    "\n",
    "city_churn_perc = pd.DataFrame(city_value_counts, columns=['city', 'churn_perc'])\\\n",
    "                    .sort_values(by='churn_perc', ascending=False)\n",
    "city_churn_perc.set_index('city', inplace=True)\n",
    "city_churn_perc"
   ]
  },
  {
   "cell_type": "markdown",
   "id": "b86f4498",
   "metadata": {},
   "source": [
    "Процент оттока по городам примерно одинаковый, в Ярославле чуть выше."
   ]
  },
  {
   "cell_type": "code",
   "execution_count": 39,
   "id": "328beea1",
   "metadata": {},
   "outputs": [
    {
     "data": {
      "text/html": [
       "<div>\n",
       "<style scoped>\n",
       "    .dataframe tbody tr th:only-of-type {\n",
       "        vertical-align: middle;\n",
       "    }\n",
       "\n",
       "    .dataframe tbody tr th {\n",
       "        vertical-align: top;\n",
       "    }\n",
       "\n",
       "    .dataframe thead th {\n",
       "        text-align: right;\n",
       "    }\n",
       "</style>\n",
       "<table border=\"1\" class=\"dataframe\">\n",
       "  <thead>\n",
       "    <tr style=\"text-align: right;\">\n",
       "      <th></th>\n",
       "      <th>churn_perc</th>\n",
       "    </tr>\n",
       "    <tr>\n",
       "      <th>gender</th>\n",
       "      <th></th>\n",
       "    </tr>\n",
       "  </thead>\n",
       "  <tbody>\n",
       "    <tr>\n",
       "      <th>М</th>\n",
       "      <td>23.70</td>\n",
       "    </tr>\n",
       "    <tr>\n",
       "      <th>Ж</th>\n",
       "      <td>12.76</td>\n",
       "    </tr>\n",
       "  </tbody>\n",
       "</table>\n",
       "</div>"
      ],
      "text/plain": [
       "        churn_perc\n",
       "gender            \n",
       "М            23.70\n",
       "Ж            12.76"
      ]
     },
     "execution_count": 39,
     "metadata": {},
     "output_type": "execute_result"
    }
   ],
   "source": [
    "gender_value_counts =\\\n",
    "    [[gender, round(bank[bank['gender'] == gender]['churn'].mean() * 100, 2)] for gender in bank['gender'].unique()]\n",
    "\n",
    "    \n",
    "gender_churn_perc = pd.DataFrame(gender_value_counts, columns=['gender', 'churn_perc'])\\\n",
    "                      .sort_values(by='churn_perc', ascending=False)\n",
    "gender_churn_perc.set_index('gender', inplace=True)\n",
    "gender_churn_perc"
   ]
  },
  {
   "cell_type": "markdown",
   "id": "aa71a3fe",
   "metadata": {},
   "source": [
    "Мужчины покидают банк почти в два раза чаще, чем женщины."
   ]
  },
  {
   "cell_type": "code",
   "execution_count": 40,
   "id": "f33c9bd2",
   "metadata": {},
   "outputs": [
    {
     "data": {
      "text/html": [
       "<div>\n",
       "<style scoped>\n",
       "    .dataframe tbody tr th:only-of-type {\n",
       "        vertical-align: middle;\n",
       "    }\n",
       "\n",
       "    .dataframe tbody tr th {\n",
       "        vertical-align: top;\n",
       "    }\n",
       "\n",
       "    .dataframe thead th {\n",
       "        text-align: right;\n",
       "    }\n",
       "</style>\n",
       "<table border=\"1\" class=\"dataframe\">\n",
       "  <thead>\n",
       "    <tr style=\"text-align: right;\">\n",
       "      <th></th>\n",
       "      <th>card_churn</th>\n",
       "    </tr>\n",
       "    <tr>\n",
       "      <th>card_bool</th>\n",
       "      <th></th>\n",
       "    </tr>\n",
       "  </thead>\n",
       "  <tbody>\n",
       "    <tr>\n",
       "      <th>0</th>\n",
       "      <td>25.58</td>\n",
       "    </tr>\n",
       "    <tr>\n",
       "      <th>1</th>\n",
       "      <td>14.78</td>\n",
       "    </tr>\n",
       "  </tbody>\n",
       "</table>\n",
       "</div>"
      ],
      "text/plain": [
       "           card_churn\n",
       "card_bool            \n",
       "0               25.58\n",
       "1               14.78"
      ]
     },
     "execution_count": 40,
     "metadata": {},
     "output_type": "execute_result"
    }
   ],
   "source": [
    "card_value_counts =\\\n",
    "    [[card, round(bank[bank['credit_card'] == card]['churn'].mean() * 100, 2)] for card in bank['credit_card'].unique()]\n",
    "\n",
    "activ_value_counts =\\\n",
    "    [[activ, round(bank[bank['last_activity'] == activ]['churn'].mean() * 100, 2)] for activ in bank['last_activity'].unique()]\n",
    "\n",
    "card_churn_perc = pd.DataFrame(card_value_counts, columns=['card_bool', 'card_churn'])\n",
    "activ_churn_perc = pd.DataFrame(activ_value_counts, columns=['last_activity_bool', 'activ_churn'])\n",
    "\n",
    "card_churn_perc.set_index('card_bool', inplace=True)\n",
    "card_churn_perc"
   ]
  },
  {
   "cell_type": "markdown",
   "id": "85712bfc",
   "metadata": {},
   "source": [
    "Клиенты без кредитной карты чаще покидают банк."
   ]
  },
  {
   "cell_type": "code",
   "execution_count": 41,
   "id": "e4129019",
   "metadata": {},
   "outputs": [
    {
     "data": {
      "text/html": [
       "<div>\n",
       "<style scoped>\n",
       "    .dataframe tbody tr th:only-of-type {\n",
       "        vertical-align: middle;\n",
       "    }\n",
       "\n",
       "    .dataframe tbody tr th {\n",
       "        vertical-align: top;\n",
       "    }\n",
       "\n",
       "    .dataframe thead th {\n",
       "        text-align: right;\n",
       "    }\n",
       "</style>\n",
       "<table border=\"1\" class=\"dataframe\">\n",
       "  <thead>\n",
       "    <tr style=\"text-align: right;\">\n",
       "      <th></th>\n",
       "      <th>activ_churn</th>\n",
       "    </tr>\n",
       "    <tr>\n",
       "      <th>last_activity_bool</th>\n",
       "      <th></th>\n",
       "    </tr>\n",
       "  </thead>\n",
       "  <tbody>\n",
       "    <tr>\n",
       "      <th>1</th>\n",
       "      <td>24.49</td>\n",
       "    </tr>\n",
       "    <tr>\n",
       "      <th>0</th>\n",
       "      <td>11.39</td>\n",
       "    </tr>\n",
       "  </tbody>\n",
       "</table>\n",
       "</div>"
      ],
      "text/plain": [
       "                    activ_churn\n",
       "last_activity_bool             \n",
       "1                         24.49\n",
       "0                         11.39"
      ]
     },
     "execution_count": 41,
     "metadata": {},
     "output_type": "execute_result"
    }
   ],
   "source": [
    "activ_churn_perc.set_index('last_activity_bool', inplace=True)\n",
    "activ_churn_perc"
   ]
  },
  {
   "cell_type": "markdown",
   "id": "fe742ba7",
   "metadata": {},
   "source": [
    "Клиенты, проявлявшие в последнее время активность, уходят в два раза чаще."
   ]
  },
  {
   "cell_type": "code",
   "execution_count": 42,
   "id": "9e6f5fd1",
   "metadata": {},
   "outputs": [
    {
     "data": {
      "text/html": [
       "<div>\n",
       "<style scoped>\n",
       "    .dataframe tbody tr th:only-of-type {\n",
       "        vertical-align: middle;\n",
       "    }\n",
       "\n",
       "    .dataframe tbody tr th {\n",
       "        vertical-align: top;\n",
       "    }\n",
       "\n",
       "    .dataframe thead th {\n",
       "        text-align: right;\n",
       "    }\n",
       "</style>\n",
       "<table border=\"1\" class=\"dataframe\">\n",
       "  <thead>\n",
       "    <tr style=\"text-align: right;\">\n",
       "      <th></th>\n",
       "      <th>equity_churn</th>\n",
       "    </tr>\n",
       "    <tr>\n",
       "      <th>equity_count</th>\n",
       "      <th></th>\n",
       "    </tr>\n",
       "  </thead>\n",
       "  <tbody>\n",
       "    <tr>\n",
       "      <th>1</th>\n",
       "      <td>12.03</td>\n",
       "    </tr>\n",
       "    <tr>\n",
       "      <th>5</th>\n",
       "      <td>30.08</td>\n",
       "    </tr>\n",
       "    <tr>\n",
       "      <th>0</th>\n",
       "      <td>3.49</td>\n",
       "    </tr>\n",
       "    <tr>\n",
       "      <th>4</th>\n",
       "      <td>25.12</td>\n",
       "    </tr>\n",
       "    <tr>\n",
       "      <th>3</th>\n",
       "      <td>20.90</td>\n",
       "    </tr>\n",
       "    <tr>\n",
       "      <th>2</th>\n",
       "      <td>15.79</td>\n",
       "    </tr>\n",
       "    <tr>\n",
       "      <th>6</th>\n",
       "      <td>36.02</td>\n",
       "    </tr>\n",
       "    <tr>\n",
       "      <th>7</th>\n",
       "      <td>46.25</td>\n",
       "    </tr>\n",
       "    <tr>\n",
       "      <th>8</th>\n",
       "      <td>35.29</td>\n",
       "    </tr>\n",
       "    <tr>\n",
       "      <th>9</th>\n",
       "      <td>53.85</td>\n",
       "    </tr>\n",
       "  </tbody>\n",
       "</table>\n",
       "</div>"
      ],
      "text/plain": [
       "              equity_churn\n",
       "equity_count              \n",
       "1                    12.03\n",
       "5                    30.08\n",
       "0                     3.49\n",
       "4                    25.12\n",
       "3                    20.90\n",
       "2                    15.79\n",
       "6                    36.02\n",
       "7                    46.25\n",
       "8                    35.29\n",
       "9                    53.85"
      ]
     },
     "execution_count": 42,
     "metadata": {},
     "output_type": "execute_result"
    }
   ],
   "source": [
    "equity_value_counts =\\\n",
    "    [[equity, round(bank[bank['equity'] == equity]['churn'].mean() * 100, 2)] for equity in bank['equity'].unique()]\n",
    "\n",
    "equity_churn_perc = pd.DataFrame(equity_value_counts, columns=['equity_count', 'equity_churn'])\n",
    "equity_churn_perc.sort_values(by='equity_churn', ascending=False)\n",
    "\n",
    "equity_churn_perc.set_index('equity_count', inplace=True)\n",
    "equity_churn_perc"
   ]
  },
  {
   "cell_type": "markdown",
   "id": "1c34934b",
   "metadata": {},
   "source": [
    "С ростом числа недвижимости, процент оттока растет."
   ]
  },
  {
   "cell_type": "code",
   "execution_count": 43,
   "id": "6a56d04c",
   "metadata": {},
   "outputs": [
    {
     "data": {
      "text/html": [
       "<div>\n",
       "<style scoped>\n",
       "    .dataframe tbody tr th:only-of-type {\n",
       "        vertical-align: middle;\n",
       "    }\n",
       "\n",
       "    .dataframe tbody tr th {\n",
       "        vertical-align: top;\n",
       "    }\n",
       "\n",
       "    .dataframe thead th {\n",
       "        text-align: right;\n",
       "    }\n",
       "</style>\n",
       "<table border=\"1\" class=\"dataframe\">\n",
       "  <thead>\n",
       "    <tr style=\"text-align: right;\">\n",
       "      <th></th>\n",
       "      <th>products_churn</th>\n",
       "    </tr>\n",
       "    <tr>\n",
       "      <th>products_count</th>\n",
       "      <th></th>\n",
       "    </tr>\n",
       "  </thead>\n",
       "  <tbody>\n",
       "    <tr>\n",
       "      <th>1</th>\n",
       "      <td>7.07</td>\n",
       "    </tr>\n",
       "    <tr>\n",
       "      <th>2</th>\n",
       "      <td>19.11</td>\n",
       "    </tr>\n",
       "    <tr>\n",
       "      <th>3</th>\n",
       "      <td>28.61</td>\n",
       "    </tr>\n",
       "    <tr>\n",
       "      <th>4</th>\n",
       "      <td>63.29</td>\n",
       "    </tr>\n",
       "    <tr>\n",
       "      <th>5</th>\n",
       "      <td>42.11</td>\n",
       "    </tr>\n",
       "  </tbody>\n",
       "</table>\n",
       "</div>"
      ],
      "text/plain": [
       "                products_churn\n",
       "products_count                \n",
       "1                         7.07\n",
       "2                        19.11\n",
       "3                        28.61\n",
       "4                        63.29\n",
       "5                        42.11"
      ]
     },
     "execution_count": 43,
     "metadata": {},
     "output_type": "execute_result"
    }
   ],
   "source": [
    "products_value_counts =\\\n",
    "    [[products, round(bank[bank['products'] == products]['churn'].mean() * 100, 2)] for products in bank['products'].unique()]\n",
    "\n",
    "products_churn_perc = pd.DataFrame(products_value_counts, columns=['products_count', 'products_churn'])\n",
    "products_churn_perc = products_churn_perc[products_churn_perc['products_count'] != 0]\\\n",
    "            .sort_values(by='products_count', ascending=True).set_index('products_count')\n",
    "products_churn_perc"
   ]
  },
  {
   "cell_type": "markdown",
   "id": "d9d3c284",
   "metadata": {},
   "source": [
    "Чаще всего банк покидают владельцы 2 и более продуктов."
   ]
  },
  {
   "cell_type": "code",
   "execution_count": 65,
   "id": "e5892ae6",
   "metadata": {},
   "outputs": [],
   "source": [
    "# в отдельную переменную сохраним средний отток по банку\n",
    "\n",
    "bank_churn_mean = bank['churn'].mean() * 100"
   ]
  },
  {
   "cell_type": "code",
   "execution_count": 66,
   "id": "915dec15",
   "metadata": {},
   "outputs": [
    {
     "data": {
      "image/png": "[encoded data removed]",
      "text/plain": [
       "<Figure size 1080x1584 with 6 Axes>"
      ]
     },
     "metadata": {
      "needs_background": "light"
     },
     "output_type": "display_data"
    }
   ],
   "source": [
    "# визуализируем категориальные переменные\n",
    "\n",
    "plt.figure(figsize=(15, 22))\n",
    "plt.subplots_adjust(wspace=0.3, hspace=0.5)\n",
    "\n",
    "ax1 = plt.subplot(6, 2, 1)\n",
    "city_churn_perc.plot(kind = 'bar', rot=0, title='city', ax=ax1, ylabel='отток')\n",
    "plt.axhline(y=bank_churn_mean, linestyle='--', color='r', label='уровень оттока по банку')\n",
    "plt.legend(loc='upper right')\n",
    "plt.ylim(0, 25)\n",
    "\n",
    "ax2 = plt.subplot(6, 2, 2)\n",
    "gender_churn_perc.plot(kind = 'bar', rot=0, title='gender', ax=ax2, ylabel='отток')\n",
    "plt.axhline(y=bank_churn_mean, linestyle='--', color='r', label='уровень оттока по банку')\n",
    "plt.legend()\n",
    "plt.ylim(0, 25)\n",
    "\n",
    "\n",
    "ax3 = plt.subplot(6, 2, 3)\n",
    "card_churn_perc.sort_index().plot(kind = 'bar', rot=0, title='credit_card', ax=ax3, ylabel='отток')\n",
    "plt.axhline(y=bank_churn_mean, linestyle='--', color='r', label='уровень оттока по банку')\n",
    "plt.legend()\n",
    "\n",
    "\n",
    "ax4 = plt.subplot(6, 2, 4)\n",
    "activ_churn_perc.sort_index().plot(kind = 'bar', rot=0, title='last_activ', ax=ax4, ylabel='отток')\n",
    "plt.axhline(y=bank_churn_mean, linestyle='--', color='r', label='уровень оттока по банку')\n",
    "plt.legend()\n",
    "\n",
    "\n",
    "ax5 = plt.subplot(6, 2, 5)\n",
    "equity_churn_perc.sort_index().plot(kind = 'bar', rot=0, title='equity', ax=ax5, ylabel='отток')\n",
    "plt.axhline(y=bank_churn_mean, linestyle='--', color='r', label='уровень оттока по банку')\n",
    "plt.legend()\n",
    "\n",
    "\n",
    "ax6 = plt.subplot(6, 2, 6)\n",
    "products_churn_perc.sort_index().plot(kind = 'bar', rot=0, title='products', ax=ax6, ylabel='отток')\n",
    "plt.axhline(y=bank_churn_mean, linestyle='--', color='r', label='уровень оттока по банку')\n",
    "plt.legend()\n",
    "\n",
    "plt.show()"
   ]
  },
  {
   "cell_type": "markdown",
   "id": "51f52a20",
   "metadata": {},
   "source": [
    "Вернемся к score, age, balance и est_salary - посчитаем процент оттока в группах, которые мы смогли обнаружить на графиках:\n",
    "- возраст - 24-36 и 50-60.\n",
    "- кредитный рейтинг - ~820-906 и ~918-942\n",
    "- баланс - более 750 000,\n",
    "- зарплата - более 95 000.\n",
    "\n",
    "Посчитаем отток в каждой группе, сравним с остальными"
   ]
  },
  {
   "cell_type": "code",
   "execution_count": 45,
   "id": "b7d9f78c",
   "metadata": {},
   "outputs": [
    {
     "name": "stdout",
     "output_type": "stream",
     "text": [
      "age \n",
      "отток в группе < 24: 12.24 \n",
      "отток в группе 24 - 36 (отток): 20.74 \n",
      "отток в группе 37 - 49: 15.22 \n",
      "отток в группе 50 - 60 (отток): 26.47 \n",
      "отток в группе > 60: 6.49\n"
     ]
    }
   ],
   "source": [
    "print(\\\n",
    "    'age', '\\nотток в группе < 24:',\n",
    "    round(bank[bank['age'] < 24]['churn'].mean() * 100, 2),\n",
    "    '\\nотток в группе 24 - 36 (отток):',\n",
    "    round(bank[(bank['age'] >= 24) & (bank['age'] <= 36)]['churn'].mean() * 100, 2),\n",
    "    '\\nотток в группе 37 - 49:',\n",
    "    round(bank[(bank['age'] >= 37) & (bank['age'] <= 49)]['churn'].mean() * 100, 2),\n",
    "    '\\nотток в группе 50 - 60 (отток):',\n",
    "    round(bank[(bank['age'] >= 50) & (bank['age'] <= 60)]['churn'].mean() * 100, 2),\n",
    "    '\\nотток в группе > 60:',\n",
    "    round(bank[bank['age'] > 60]['churn'].mean() * 100, 2))"
   ]
  },
  {
   "cell_type": "code",
   "execution_count": 46,
   "id": "e88f210b",
   "metadata": {},
   "outputs": [
    {
     "name": "stdout",
     "output_type": "stream",
     "text": [
      "score \n",
      "отток в группе < 820: 10.74 \n",
      "отток в группе 820 - 906 (отток): 24.25 \n",
      "отток в группе 907 - 917: 16.83 \n",
      "отток в группе 918 - 942 (отток): 20.54 \n",
      "отток в группе > 942: 12.19\n"
     ]
    }
   ],
   "source": [
    "print(\\\n",
    "    'score', '\\nотток в группе < 820:',\n",
    "    round(bank[bank['score'] < 820]['churn'].mean() * 100, 2),\n",
    "    '\\nотток в группе 820 - 906 (отток):',\n",
    "    round(bank[(bank['score'] >= 820) & (bank['score'] <= 906)]['churn'].mean() * 100, 2),\n",
    "    '\\nотток в группе 907 - 917:',\n",
    "    round(bank[(bank['score'] >= 907) & (bank['score'] <= 917)]['churn'].mean() * 100, 2),\n",
    "    '\\nотток в группе 918 - 942 (отток):',\n",
    "    round(bank[(bank['score'] >= 918) & (bank['score'] <= 942)]['churn'].mean() * 100, 2),\n",
    "    '\\nотток в группе > 942:',\n",
    "    round(bank[bank['score'] > 942]['churn'].mean() * 100, 2))"
   ]
  },
  {
   "cell_type": "code",
   "execution_count": 47,
   "id": "e18db751",
   "metadata": {},
   "outputs": [
    {
     "name": "stdout",
     "output_type": "stream",
     "text": [
      "est_salary \n",
      "отток в группе < 95 000: 15.81 \n",
      "отток в группе >= 95 000: 19.62\n"
     ]
    }
   ],
   "source": [
    "print(\\\n",
    "      'est_salary', '\\nотток в группе < 95 000:',\n",
    "      round(bank[bank['est_salary'] < 95000]['churn'].mean() * 100, 2),\n",
    "      '\\nотток в группе >= 95 000:',\n",
    "      round(bank[bank['est_salary'] >= 95000]['churn'].mean() * 100, 2))"
   ]
  },
  {
   "cell_type": "code",
   "execution_count": 48,
   "id": "6d0e9266",
   "metadata": {},
   "outputs": [
    {
     "name": "stdout",
     "output_type": "stream",
     "text": [
      "balance \n",
      "отток в группе < 750 000: 16.58 \n",
      "отток в группе >= 750 000: 34.84\n"
     ]
    }
   ],
   "source": [
    "print(\\\n",
    "      'balance', '\\nотток в группе < 750 000:',\n",
    "      round(bank[bank['balance'] < 750000]['churn'].mean() * 100, 2),\n",
    "      '\\nотток в группе >= 750 000:',\n",
    "      round(bank[bank['balance'] >= 750000]['churn'].mean() * 100, 2))"
   ]
  },
  {
   "cell_type": "markdown",
   "id": "149dec64",
   "metadata": {},
   "source": [
    "Дополнительно - разобьем баланс на отрезки, посчитаем отток на каждом отрезке и визуализируем результат. "
   ]
  },
  {
   "cell_type": "code",
   "execution_count": 49,
   "id": "1b0c0d59",
   "metadata": {},
   "outputs": [],
   "source": [
    "b_cut_labels = ['0 - 250 000', '250 000 - 500 000', '500 000 - 750 000', '750 000 - 1 000 000', \n",
    "                '1 000 000 - 1 250 000',  '1 250 000 - 1 500 000', '> 1 500 000']\n",
    "\n",
    "bank['balance_cut'] = pd.cut(x=bank['balance'], \n",
    "                             bins=[0, 250000, 500000, 750000, 1000000, 1250000, 1500000, bank['balance'].max()],\n",
    "                            labels=b_cut_labels)"
   ]
  },
  {
   "cell_type": "code",
   "execution_count": 50,
   "id": "bf9b5ab6",
   "metadata": {},
   "outputs": [],
   "source": [
    "balance_cut_value_counts =\\\n",
    "    [[cut, round(bank[bank['balance_cut'] == cut]['churn'].mean() * 100, 2)] for cut in b_cut_labels]\n",
    "\n",
    "balance_cut_churn_perc = pd.DataFrame(balance_cut_value_counts).dropna()\n",
    "balance_cut_churn_perc.columns = ['balance_cut', 'churn_perc']\n",
    "balance_cut_churn_perc.set_index('balance_cut', inplace=True)"
   ]
  },
  {
   "cell_type": "code",
   "execution_count": 70,
   "id": "dc3bc784",
   "metadata": {},
   "outputs": [
    {
     "data": {
      "image/png": "[encoded data removed]",
      "text/plain": [
       "<Figure size 1152x288 with 1 Axes>"
      ]
     },
     "metadata": {
      "needs_background": "light"
     },
     "output_type": "display_data"
    }
   ],
   "source": [
    "balance_cut_churn_perc.plot(kind = 'bar', rot=0, title='баланс - отток по отрезкам', \n",
    "                                         ylabel='отток', figsize=(16,4))\n",
    "plt.axhline(y=bank_churn_mean, linestyle='--', color='r', label='уровень оттока по банку')\n",
    "plt.legend()\n",
    "plt.show()"
   ]
  },
  {
   "cell_type": "markdown",
   "id": "cc9917f8",
   "metadata": {},
   "source": [
    "Наши предположения подтвердились - отток растет с ростом баланса клиентов, максимальный отток - у клиентов с самым высоким балансом."
   ]
  },
  {
   "cell_type": "markdown",
   "id": "c96e7586",
   "metadata": {},
   "source": [
    "<b>Потенциальные признаки отточных клиентов.</b>\n",
    "\n",
    "Изучив данные, мы обнаружили, что:\n",
    "- самый высокий уровень оттока в группе пользователей, которые заявляли о своем желание уйти,\n",
    "- мужчины чаще покидают банк чем женщины,\n",
    "- пользователи из Ярославля наиболее многочисленные, отток по городам примерно одинаковый,\n",
    "- чаще уходят клиенты с кредитным рейтингом ~820-906 и ~918-942,\n",
    "- с зарпалатой больше 95 000,\n",
    "- с балансом более 750 000,\n",
    "- чаще отточными становятся клиенты, имеющие четыре банковских продукта,\n",
    "- наиболее отточные возрастные группы - 24-36 и 50-60.\n",
    "- банк реже покидают владельцы кредитных карт,\n",
    "- с ростом количества недвижимости растет процент оттока.\n",
    "\n",
    "Вопросы вызывает переменная balance - мы заполняли пропуски в столбце средними значениями по группам, полностью доверятся этим данным нельзя. \n",
    "\n",
    "Посчитаем разницу значений признаков между двумя категориями - отточными и неотточными."
   ]
  },
  {
   "cell_type": "markdown",
   "id": "ae0e7c0a",
   "metadata": {},
   "source": [
    "# Исследование портретов отточных и неотточных клиентов (средние и медианы)"
   ]
  },
  {
   "cell_type": "code",
   "execution_count": 59,
   "id": "64899540",
   "metadata": {},
   "outputs": [],
   "source": [
    "bank_columns = ['score', 'age', 'equity', 'balance', 'products', 'credit_card', 'last_activity', \n",
    "                'est_salary', 'city_rybinsk', 'city_yaroslavl', 'gender_m']"
   ]
  },
  {
   "cell_type": "code",
   "execution_count": 60,
   "id": "d88d001a",
   "metadata": {},
   "outputs": [],
   "source": [
    "# посчитаем средние значения переменных в разрезе факта оттока\n",
    "# так же - разницу в двух группах (diff_mean) и модуль разницу (diff_mean_abs)\n",
    "\n",
    "churn_mean = pd.concat([pd.DataFrame(bank[bank['churn'] == 0][bank_columns].mean())\\\n",
    "                                .rename(columns={0: 'churn_0_mean'}).round(2),\n",
    "                        pd.DataFrame(bank[bank['churn'] == 1][bank_columns].mean())\\\n",
    "                                .rename(columns={0: 'churn_1_mean'}).round(2)],\n",
    "                              axis=1)\n",
    "\n",
    "\n",
    "bank_mean = pd.concat([pd.DataFrame(bank[bank_columns].mean())\\\n",
    "                                .rename(columns={0: 'bank_mean'}).round(2),\n",
    "                             churn_mean],\n",
    "                             axis=1)\n",
    "\n",
    "\n",
    "bank_mean['diff_mean'] = (bank_mean['churn_1_mean'] / bank_mean['churn_0_mean'] * 100 - 100).round(2)\n",
    "bank_mean['diff_mean_abs'] = bank_mean['diff_mean'].abs()"
   ]
  },
  {
   "cell_type": "code",
   "execution_count": 61,
   "id": "fdd69748",
   "metadata": {},
   "outputs": [],
   "source": [
    "# посчитаем медиану в разрезе факта оттока\n",
    "# так же - разницу в двух группах (diff_median) и модуль разницу (diff_median_abs)\n",
    "\n",
    "#churn_median = pd.concat([pd.DataFrame(bank[bank['churn'] == 0][bank_columns].median())\\\n",
    "#                                .rename(columns={0: 'churn_0_median'}).round(2),\n",
    "#                        pd.DataFrame(bank[bank['churn'] == 1][bank_columns].median())\\\n",
    "#                                .rename(columns={0: 'churn_1_median'}).round(2)],\n",
    "#                              axis=1)\n",
    "\n",
    "\n",
    "#bank_median = pd.concat([pd.DataFrame(bank[bank_columns].median())\\\n",
    "#                                .rename(columns={0: 'bank_median'}).round(2),\n",
    "#                             churn_median],\n",
    "#                             axis=1)\n",
    "\n",
    "\n",
    "#bank_median['diff_median'] = (bank_median['churn_1_median'] / bank_median['churn_0_median'] * 100 - 100).round(2)\n",
    "#bank_median['diff_median_abs'] = bank_median['diff_median'].abs()\n",
    "\n",
    "#bank_median.fillna(0, inplace=True)\n",
    "#bank_median.replace([np.inf, -np.inf], 0, inplace=True)\n",
    "\n",
    "# bank_median"
   ]
  },
  {
   "cell_type": "code",
   "execution_count": 62,
   "id": "de0c6524",
   "metadata": {},
   "outputs": [
    {
     "name": "stdout",
     "output_type": "stream",
     "text": [
      "портреты клиентов - средние значения:\n"
     ]
    },
    {
     "data": {
      "text/html": [
       "<div>\n",
       "<style scoped>\n",
       "    .dataframe tbody tr th:only-of-type {\n",
       "        vertical-align: middle;\n",
       "    }\n",
       "\n",
       "    .dataframe tbody tr th {\n",
       "        vertical-align: top;\n",
       "    }\n",
       "\n",
       "    .dataframe thead th {\n",
       "        text-align: right;\n",
       "    }\n",
       "</style>\n",
       "<table border=\"1\" class=\"dataframe\">\n",
       "  <thead>\n",
       "    <tr style=\"text-align: right;\">\n",
       "      <th></th>\n",
       "      <th>bank_mean</th>\n",
       "      <th>churn_0_mean</th>\n",
       "      <th>churn_1_mean</th>\n",
       "      <th>diff_mean</th>\n",
       "      <th>diff_mean_abs</th>\n",
       "    </tr>\n",
       "  </thead>\n",
       "  <tbody>\n",
       "    <tr>\n",
       "      <th>balance</th>\n",
       "      <td>806503.29</td>\n",
       "      <td>709613.61</td>\n",
       "      <td>1134458.21</td>\n",
       "      <td>59.87</td>\n",
       "      <td>59.87</td>\n",
       "    </tr>\n",
       "    <tr>\n",
       "      <th>equity</th>\n",
       "      <td>2.63</td>\n",
       "      <td>2.38</td>\n",
       "      <td>3.76</td>\n",
       "      <td>57.98</td>\n",
       "      <td>57.98</td>\n",
       "    </tr>\n",
       "    <tr>\n",
       "      <th>last_activity</th>\n",
       "      <td>0.52</td>\n",
       "      <td>0.48</td>\n",
       "      <td>0.70</td>\n",
       "      <td>45.83</td>\n",
       "      <td>45.83</td>\n",
       "    </tr>\n",
       "    <tr>\n",
       "      <th>gender_m</th>\n",
       "      <td>0.50</td>\n",
       "      <td>0.47</td>\n",
       "      <td>0.65</td>\n",
       "      <td>38.30</td>\n",
       "      <td>38.30</td>\n",
       "    </tr>\n",
       "    <tr>\n",
       "      <th>products</th>\n",
       "      <td>1.87</td>\n",
       "      <td>1.76</td>\n",
       "      <td>2.38</td>\n",
       "      <td>35.23</td>\n",
       "      <td>35.23</td>\n",
       "    </tr>\n",
       "    <tr>\n",
       "      <th>credit_card</th>\n",
       "      <td>0.68</td>\n",
       "      <td>0.71</td>\n",
       "      <td>0.55</td>\n",
       "      <td>-22.54</td>\n",
       "      <td>22.54</td>\n",
       "    </tr>\n",
       "    <tr>\n",
       "      <th>city_rybinsk</th>\n",
       "      <td>0.27</td>\n",
       "      <td>0.28</td>\n",
       "      <td>0.24</td>\n",
       "      <td>-14.29</td>\n",
       "      <td>14.29</td>\n",
       "    </tr>\n",
       "    <tr>\n",
       "      <th>city_yaroslavl</th>\n",
       "      <td>0.59</td>\n",
       "      <td>0.58</td>\n",
       "      <td>0.61</td>\n",
       "      <td>5.17</td>\n",
       "      <td>5.17</td>\n",
       "    </tr>\n",
       "    <tr>\n",
       "      <th>age</th>\n",
       "      <td>42.73</td>\n",
       "      <td>43.02</td>\n",
       "      <td>41.45</td>\n",
       "      <td>-3.65</td>\n",
       "      <td>3.65</td>\n",
       "    </tr>\n",
       "    <tr>\n",
       "      <th>score</th>\n",
       "      <td>848.68</td>\n",
       "      <td>845.40</td>\n",
       "      <td>863.42</td>\n",
       "      <td>2.13</td>\n",
       "      <td>2.13</td>\n",
       "    </tr>\n",
       "    <tr>\n",
       "      <th>est_salary</th>\n",
       "      <td>147786.81</td>\n",
       "      <td>147674.64</td>\n",
       "      <td>148289.70</td>\n",
       "      <td>0.42</td>\n",
       "      <td>0.42</td>\n",
       "    </tr>\n",
       "  </tbody>\n",
       "</table>\n",
       "</div>"
      ],
      "text/plain": [
       "                bank_mean  churn_0_mean  churn_1_mean  diff_mean  \\\n",
       "balance         806503.29     709613.61    1134458.21      59.87   \n",
       "equity               2.63          2.38          3.76      57.98   \n",
       "last_activity        0.52          0.48          0.70      45.83   \n",
       "gender_m             0.50          0.47          0.65      38.30   \n",
       "products             1.87          1.76          2.38      35.23   \n",
       "credit_card          0.68          0.71          0.55     -22.54   \n",
       "city_rybinsk         0.27          0.28          0.24     -14.29   \n",
       "city_yaroslavl       0.59          0.58          0.61       5.17   \n",
       "age                 42.73         43.02         41.45      -3.65   \n",
       "score              848.68        845.40        863.42       2.13   \n",
       "est_salary      147786.81     147674.64     148289.70       0.42   \n",
       "\n",
       "                diff_mean_abs  \n",
       "balance                 59.87  \n",
       "equity                  57.98  \n",
       "last_activity           45.83  \n",
       "gender_m                38.30  \n",
       "products                35.23  \n",
       "credit_card             22.54  \n",
       "city_rybinsk            14.29  \n",
       "city_yaroslavl           5.17  \n",
       "age                      3.65  \n",
       "score                    2.13  \n",
       "est_salary               0.42  "
      ]
     },
     "execution_count": 62,
     "metadata": {},
     "output_type": "execute_result"
    }
   ],
   "source": [
    "print('портреты клиентов - средние значения:')\n",
    "bank_mean.sort_values(by='diff_mean_abs', ascending=False)"
   ]
  },
  {
   "cell_type": "code",
   "execution_count": 69,
   "id": "6d70b1a7",
   "metadata": {},
   "outputs": [
    {
     "data": {
      "image/png": "[encoded data removed]",
      "text/plain": [
       "<Figure size 936x288 with 1 Axes>"
      ]
     },
     "metadata": {
      "needs_background": "light"
     },
     "output_type": "display_data"
    }
   ],
   "source": [
    "# визуализируем процентнуб разницу в двух группах - отточных и неотточных\n",
    "# горизонтальной линией отметим 10% - максимально допустимый отток по банку\n",
    "\n",
    "plt.figure(figsize=(13,4))\n",
    "\n",
    "bank_mean['diff_mean_abs'].sort_values(ascending=False).plot(kind = 'bar', rot=0, \n",
    "                                                             title='разница между отточными и неотточными')\n",
    "plt.axhline(y=bank_churn_mean, linestyle='--', c='r')\n",
    "plt.legend(['допустимый отток', 'абсолютные значения'], loc='upper right')\n",
    "\n",
    "\n",
    "plt.show()"
   ]
  },
  {
   "cell_type": "markdown",
   "id": "3f10b780",
   "metadata": {},
   "source": [
    "Сравнив абсолютные значения разницы переменных в двух группах (отточные и неотточные), мы можем сегментировать наших клиентов по:\n",
    "- балансу,\n",
    "- количеству баллов недвижимости,\n",
    "- отметке об активности,\n",
    "- полу\n",
    "- и количеству продуктов."
   ]
  },
  {
   "cell_type": "markdown",
   "id": "8d7c2971",
   "metadata": {},
   "source": [
    "<a id=\"subtotal\"> </a>\n",
    "# Промежуточный итог."
   ]
  },
  {
   "cell_type": "markdown",
   "id": "cd1610b9",
   "metadata": {},
   "source": [
    "Соберем в одну таблицу значения корреляции, портретную разницу, отточные интервалы, обнаруженные на графиках, и вынесем вердикт, какие переменные мы будем использовать в качестве сегментации."
   ]
  },
  {
   "cell_type": "code",
   "execution_count": 57,
   "id": "d1269cbc",
   "metadata": {},
   "outputs": [],
   "source": [
    "df_list = [bank_phik['churn'], bank_mean['diff_mean_abs']]\n",
    "\n",
    "\n",
    "eda_summarize = pd.concat(df_list, axis=1).set_axis(['phik_corr', 'diff_mean_abs'], axis=1)\\\n",
    "                                          .sort_values(by='diff_mean_abs', ascending=False)\n",
    "\n",
    "eda_summarize.dropna(inplace=True)"
   ]
  },
  {
   "cell_type": "code",
   "execution_count": 58,
   "id": "11b04801",
   "metadata": {
    "scrolled": true
   },
   "outputs": [
    {
     "data": {
      "text/html": [
       "<div>\n",
       "<style scoped>\n",
       "    .dataframe tbody tr th:only-of-type {\n",
       "        vertical-align: middle;\n",
       "    }\n",
       "\n",
       "    .dataframe tbody tr th {\n",
       "        vertical-align: top;\n",
       "    }\n",
       "\n",
       "    .dataframe thead th {\n",
       "        text-align: right;\n",
       "    }\n",
       "</style>\n",
       "<table border=\"1\" class=\"dataframe\">\n",
       "  <thead>\n",
       "    <tr style=\"text-align: right;\">\n",
       "      <th></th>\n",
       "      <th>phik_corr</th>\n",
       "      <th>diff_mean_abs</th>\n",
       "      <th>корреляция_с_целевой</th>\n",
       "      <th>отточный_интервал</th>\n",
       "      <th>сравнение портретов</th>\n",
       "      <th>вердикт</th>\n",
       "    </tr>\n",
       "  </thead>\n",
       "  <tbody>\n",
       "    <tr>\n",
       "      <th>balance</th>\n",
       "      <td>0.03</td>\n",
       "      <td>59.87</td>\n",
       "      <td>есть связь</td>\n",
       "      <td>&gt; 750 000</td>\n",
       "      <td>есть связь</td>\n",
       "      <td>используем</td>\n",
       "    </tr>\n",
       "    <tr>\n",
       "      <th>equity</th>\n",
       "      <td>0.35</td>\n",
       "      <td>57.98</td>\n",
       "      <td>есть связь</td>\n",
       "      <td>&gt; 2 - растет с увеличением количества</td>\n",
       "      <td>есть связь</td>\n",
       "      <td>используем</td>\n",
       "    </tr>\n",
       "    <tr>\n",
       "      <th>last_activity</th>\n",
       "      <td>0.26</td>\n",
       "      <td>45.83</td>\n",
       "      <td>есть связь</td>\n",
       "      <td>активный клиент (1)</td>\n",
       "      <td>есть связь</td>\n",
       "      <td>используем</td>\n",
       "    </tr>\n",
       "    <tr>\n",
       "      <th>gender_m</th>\n",
       "      <td>0.22</td>\n",
       "      <td>38.30</td>\n",
       "      <td>есть связь</td>\n",
       "      <td>пол = мужской</td>\n",
       "      <td>есть связь</td>\n",
       "      <td>не используем</td>\n",
       "    </tr>\n",
       "    <tr>\n",
       "      <th>products</th>\n",
       "      <td>0.44</td>\n",
       "      <td>35.23</td>\n",
       "      <td>есть связь</td>\n",
       "      <td>4 продукта</td>\n",
       "      <td>есть связь</td>\n",
       "      <td>используем</td>\n",
       "    </tr>\n",
       "    <tr>\n",
       "      <th>credit_card</th>\n",
       "      <td>0.20</td>\n",
       "      <td>22.54</td>\n",
       "      <td>есть связь</td>\n",
       "      <td>нет кредитки (0)</td>\n",
       "      <td>есть связь</td>\n",
       "      <td>используем</td>\n",
       "    </tr>\n",
       "    <tr>\n",
       "      <th>city_rybinsk</th>\n",
       "      <td>0.04</td>\n",
       "      <td>14.29</td>\n",
       "      <td>нет связи</td>\n",
       "      <td>-</td>\n",
       "      <td>есть связь</td>\n",
       "      <td>не используем</td>\n",
       "    </tr>\n",
       "    <tr>\n",
       "      <th>city_yaroslavl</th>\n",
       "      <td>0.03</td>\n",
       "      <td>5.17</td>\n",
       "      <td>нет связи</td>\n",
       "      <td>-</td>\n",
       "      <td>нет связи</td>\n",
       "      <td>не используем</td>\n",
       "    </tr>\n",
       "    <tr>\n",
       "      <th>age</th>\n",
       "      <td>0.18</td>\n",
       "      <td>3.65</td>\n",
       "      <td>есть связь</td>\n",
       "      <td>24-36 и 50-60</td>\n",
       "      <td>нет связи</td>\n",
       "      <td>под вопросом</td>\n",
       "    </tr>\n",
       "    <tr>\n",
       "      <th>score</th>\n",
       "      <td>0.23</td>\n",
       "      <td>2.13</td>\n",
       "      <td>есть связь</td>\n",
       "      <td>820-906 и 918-942 баллов</td>\n",
       "      <td>нет связи</td>\n",
       "      <td>под вопросом</td>\n",
       "    </tr>\n",
       "    <tr>\n",
       "      <th>est_salary</th>\n",
       "      <td>0.05</td>\n",
       "      <td>0.42</td>\n",
       "      <td>нет связи</td>\n",
       "      <td>&lt; 95 000</td>\n",
       "      <td>нет связи</td>\n",
       "      <td>не используем</td>\n",
       "    </tr>\n",
       "  </tbody>\n",
       "</table>\n",
       "</div>"
      ],
      "text/plain": [
       "                phik_corr  diff_mean_abs корреляция_с_целевой  \\\n",
       "balance              0.03          59.87           есть связь   \n",
       "equity               0.35          57.98           есть связь   \n",
       "last_activity        0.26          45.83           есть связь   \n",
       "gender_m             0.22          38.30           есть связь   \n",
       "products             0.44          35.23           есть связь   \n",
       "credit_card          0.20          22.54           есть связь   \n",
       "city_rybinsk         0.04          14.29            нет связи   \n",
       "city_yaroslavl       0.03           5.17            нет связи   \n",
       "age                  0.18           3.65           есть связь   \n",
       "score                0.23           2.13           есть связь   \n",
       "est_salary           0.05           0.42            нет связи   \n",
       "\n",
       "                                    отточный_интервал сравнение портретов  \\\n",
       "balance                                     > 750 000          есть связь   \n",
       "equity          > 2 - растет с увеличением количества          есть связь   \n",
       "last_activity                     активный клиент (1)          есть связь   \n",
       "gender_m                                пол = мужской          есть связь   \n",
       "products                                   4 продукта          есть связь   \n",
       "credit_card                          нет кредитки (0)          есть связь   \n",
       "city_rybinsk                                        -          есть связь   \n",
       "city_yaroslavl                                      -           нет связи   \n",
       "age                                     24-36 и 50-60           нет связи   \n",
       "score                        820-906 и 918-942 баллов           нет связи   \n",
       "est_salary                                   < 95 000           нет связи   \n",
       "\n",
       "                      вердикт  \n",
       "balance            используем  \n",
       "equity             используем  \n",
       "last_activity      используем  \n",
       "gender_m        не используем  \n",
       "products           используем  \n",
       "credit_card        используем  \n",
       "city_rybinsk    не используем  \n",
       "city_yaroslavl  не используем  \n",
       "age              под вопросом  \n",
       "score            под вопросом  \n",
       "est_salary      не используем  "
      ]
     },
     "execution_count": 58,
     "metadata": {},
     "output_type": "execute_result"
    }
   ],
   "source": [
    "linear_connection = ['есть связь', 'есть связь', 'есть связь', 'есть связь', 'есть связь',\\\n",
    "                     'есть связь', 'нет связи', 'нет связи', 'есть связь', 'есть связь', 'нет связи']\n",
    "\n",
    "churn_interval = ['> 750 000', '> 2 - растет с увеличением количества', 'активный клиент (1)', 'пол = мужской',\n",
    "                  '4 продукта', 'нет кредитки (0)', '-', '-', '24-36 и 50-60', '820-906 и 918-942 баллов',\n",
    "                  '< 95 000']\n",
    "\n",
    "client_portrait = ['есть связь', 'есть связь', 'есть связь', 'есть связь', 'есть связь',\\\n",
    "                   'есть связь', 'есть связь', 'нет связи', 'нет связи', 'нет связи', 'нет связи']\n",
    "\n",
    "verdict = ['используем', 'используем', 'используем', 'не используем', 'используем', 'используем', 'не используем',\n",
    "           'не используем', 'под вопросом', 'под вопросом', 'не используем']\n",
    "\n",
    "eda_summarize.insert(loc=2 , column='корреляция_с_целевой', value=linear_connection)\n",
    "eda_summarize.insert(loc=3 , column='отточный_интервал', value=churn_interval)\n",
    "eda_summarize.insert(loc=4 , column='сравнение портретов', value=client_portrait)\n",
    "eda_summarize.insert(loc=5 , column='вердикт', value=verdict)\n",
    "\n",
    "eda_summarize"
   ]
  },
  {
   "cell_type": "markdown",
   "id": "6ca56b7b",
   "metadata": {},
   "source": [
    "Для сегментации нам подоходят переменные balance, equity, last_activity, products и credit_card.\n",
    "\n",
    "Перспективным кажутся переменные score и age, мы обнаружили корреляцию с целевой переменной, но не обнаружили разницу между портретами - можно проверить ее дополнительно."
   ]
  },
  {
   "cell_type": "markdown",
   "id": "d65330be",
   "metadata": {},
   "source": [
    "<a id=\"segment\"> </a>\n",
    "# 3. Сегментация на основе стратегических показателей."
   ]
  },
  {
   "cell_type": "code",
   "execution_count": 59,
   "id": "ac252251",
   "metadata": {},
   "outputs": [],
   "source": [
    "# создадим словарь с значениями отточных интервалов\n",
    "\n",
    "segment_dict = {'last_activity == 1': 'last_activity == 1', \n",
    "                'gender == М': 'gender == \"М\"', \n",
    "                'balance < 750 000': 'balance <750000',\n",
    "                'est_salary >= 95 000': 'est_salary >= 95000', \n",
    "                'products == 4': 'products == 4', \n",
    "                'credit_card == 0': 'credit_card == 0',\n",
    "                'equity >= 2': 'equity >= 2', \n",
    "                'age - 24-36': '24 <= age <= 36', \n",
    "                'age - 50-60': '50 <= age <= 60',\n",
    "                'score - 820-906': '820 <= score <= 906',\n",
    "                'score - 918-942': '918 <= score <= 942'}"
   ]
  },
  {
   "cell_type": "code",
   "execution_count": 60,
   "id": "b2494029",
   "metadata": {},
   "outputs": [
    {
     "name": "stdout",
     "output_type": "stream",
     "text": [
      "количество комбинаций из 4 признаков: 55\n",
      "количество комбинаций из 5 признаков: 165\n"
     ]
    }
   ],
   "source": [
    "# получим неповторяющиеся комбинации отточных интервалов для сегментации\n",
    "\n",
    "comb_list_2 = list(itertools.combinations(segment_dict.items(), 2))\n",
    "comb_list_3 = list(itertools.combinations(segment_dict.items(), 3))\n",
    "\n",
    "print('количество комбинаций из 4 признаков:', len(comb_list_2))\n",
    "print('количество комбинаций из 5 признаков:', len(comb_list_3))"
   ]
  },
  {
   "cell_type": "code",
   "execution_count": 61,
   "id": "bdb80d60",
   "metadata": {},
   "outputs": [],
   "source": [
    "def churn_data(comb_list, data_churn):\n",
    "    \n",
    "    '''Функция принимает на вход список комбинаций из отточных признаков и столбец исходного датафрейма\n",
    "    с общим оттоком по банку.\n",
    "    Функция:\n",
    "    1. превращает комбинации отточных признаков в строку и использует ее в качестве среза по исходному датафрейму,\n",
    "    2. для каждого среза подсчитывает общее количество клиентов в сегменте, количество отточных клиентов,\n",
    "       процент оттока по сегменту, дополнительно - создает столбцы с маркировкой значений в зависимости от условий \n",
    "       и удаляет строки с сегментами, в которые не вошло ни одного клиента.\n",
    "    \n",
    "    Возвращает:\n",
    "    - датафрейм с подсчитанным оттоком по всем комбинациям признаков,\n",
    "    - датафрейм с комбинациями с самым высоким оттоком, с оптимальным размером сегмента и большим количеством \n",
    "      отточных клиентов  (топ-5).'''\n",
    "    \n",
    "    \n",
    "    string_query = []\n",
    "    data = []\n",
    "    \n",
    "    for i in range(0, len(comb_list)):\n",
    "        if len(comb_list[0]) == 2:\n",
    "            string = comb_list[i][0][1] + ' & ' + comb_list[i][1][1]\n",
    "            string_query.append(string)\n",
    "        if len(comb_list[0]) == 3:\n",
    "            string = comb_list[i][0][1] + ' & ' + comb_list[i][1][1] + ' & ' + comb_list[i][2][1]\n",
    "            string_query.append(string)\n",
    "    \n",
    "    for q in string_query:\n",
    "        total_in_segment_count = bank.query(q).shape[0]\n",
    "        churn_in_segment_count = round(bank.query(q))['churn'].sum()\n",
    "        churn_in_segment = round(bank.query(q)['churn'].mean() * 100, 2)\n",
    "        data.append([q, total_in_segment_count, churn_in_segment_count, churn_in_segment])\n",
    "        \n",
    "    df = pd.DataFrame(data, columns=['features', 'total_count', 'churn_count', \n",
    "                                     'churn_perc'])\n",
    "    df.dropna(inplace=True)\n",
    "    \n",
    "    def churn_rating(row):\n",
    "        min_churn = data_churn.mean() * 1.5 * 100\n",
    "        medium_churn = data_churn.mean() * 2 * 100\n",
    "        max_churn = data_churn.mean() * 3 * 100\n",
    "\n",
    "        if row < min_churn:\n",
    "            return 'недостаточно отточный сегмент'\n",
    "        if min_churn <= row <= medium_churn:\n",
    "            return 'не высокоотточный сегмент'\n",
    "        else:\n",
    "            return 'высокоотточный сегмент'\n",
    "    \n",
    "    \n",
    "    def total_in_segment_rating(row):\n",
    "        if row >= 3000:\n",
    "            return 'слишком много клиентов - эффективность снизится'\n",
    "        if row < 1000:\n",
    "            return 'слишком мало клиентов'\n",
    "        else:\n",
    "            return 'оптимальный размер'\n",
    "    \n",
    "    \n",
    "    def churn_in_segment_rating(row):\n",
    "        share_catched = row / data_churn.mean()\n",
    "        if share_catched < 1/3:\n",
    "            return 'недостаточно отточных'\n",
    "        if 1/2 < share_catched < 2/3:\n",
    "            return 'достаточно отточных'\n",
    "        else:\n",
    "            return 'высокоотточный сегмент'\n",
    "    \n",
    "    \n",
    "    df['оценка оттока'] = df['churn_perc'].apply(churn_rating)   \n",
    "    df['количество отточных'] = df['churn_count'].apply(churn_in_segment_rating)   \n",
    "    df['размер сегмента'] = df['total_count'].apply(total_in_segment_rating)\n",
    "\n",
    "    best_features_comb = df[(df['размер сегмента'] == 'оптимальный размер') & \n",
    "                            (df['количество отточных'] == 'высокоотточный сегмент') &\n",
    "                            (df['оценка оттока'].isin(['не высокоотточный сегмент', 'высокоотточный сегмент']))]\\\n",
    "                        .iloc[0:, [0, 2, 3]]\\\n",
    "                        .sort_values(by='churn_perc', ascending=False).head(7).reset_index(drop=True)\n",
    "\n",
    "    return df, best_features_comb"
   ]
  },
  {
   "cell_type": "code",
   "execution_count": 62,
   "id": "0d50c187",
   "metadata": {},
   "outputs": [],
   "source": [
    "# применим функцию к комбинациям признаков \n",
    "# на выходе получим датафреймы с наилучшими комбинациями признаков и высоким уровнем оттока\n",
    "\n",
    "two_features_perc, two_features_best_comb = churn_data(comb_list_2, bank['churn'])\n",
    "\n",
    "three_features_perc, three_features_best_comb = churn_data(comb_list_3, bank['churn'])"
   ]
  },
  {
   "cell_type": "code",
   "execution_count": 63,
   "id": "c5d1b7c0",
   "metadata": {},
   "outputs": [
    {
     "name": "stdout",
     "output_type": "stream",
     "text": [
      "                                   features  churn_count  churn_perc\n",
      "0  last_activity == 1 & 820 <= score <= 906          833       36.11\n",
      "1     last_activity == 1 & credit_card == 0          612       35.07\n",
      "2          gender == \"М\" & credit_card == 0          457       35.07\n",
      "3             equity >= 2 & 50 <= age <= 60          417       34.29\n",
      "4    credit_card == 0 & 820 <= score <= 906          533       31.69\n",
      "5       gender == \"М\" & 820 <= score <= 906          688       31.03\n",
      "6            credit_card == 0 & equity >= 2          764       30.99\n"
     ]
    }
   ],
   "source": [
    "with option_context('display.max_colwidth', 70):\n",
    "    print(two_features_best_comb)"
   ]
  },
  {
   "cell_type": "code",
   "execution_count": 64,
   "id": "e73999ed",
   "metadata": {},
   "outputs": [
    {
     "name": "stdout",
     "output_type": "stream",
     "text": [
      "                                                         features  \\\n",
      "0          last_activity == 1 & equity >= 2 & 820 <= score <= 906   \n",
      "1        last_activity == 1 & gender == \"М\" & 820 <= score <= 906   \n",
      "2                last_activity == 1 & gender == \"М\" & equity >= 2   \n",
      "3          last_activity == 1 & est_salary >= 95000 & equity >= 2   \n",
      "4             last_activity == 1 & credit_card == 0 & equity >= 2   \n",
      "5              last_activity == 1 & equity >= 2 & 24 <= age <= 36   \n",
      "6  last_activity == 1 & est_salary >= 95000 & 820 <= score <= 906   \n",
      "\n",
      "   churn_count  churn_perc  \n",
      "0          788       44.57  \n",
      "1          476       44.03  \n",
      "2          714       43.59  \n",
      "3          836       43.07  \n",
      "4          580       42.71  \n",
      "5          535       42.33  \n",
      "6          575       41.76  \n"
     ]
    }
   ],
   "source": [
    "with option_context('display.max_colwidth', 70):\n",
    "    print(three_features_best_comb)"
   ]
  },
  {
   "cell_type": "markdown",
   "id": "63b8d3f4",
   "metadata": {},
   "source": [
    "Комбинации из трех признаков показали себя лучше, чем комбинации из двух. В обоих случаях мы выбирали комбиции удовлетворяющие двух условиям:\n",
    "- размер сегментов должен быть оптимальным (от 1 000 до 3 000 клиентов),\n",
    "- уровень оттока в этих сегментах минимум в 1.5 раза превышает общебанковский.\n",
    "\n",
    "Мы наблюдаем схожие черты во всех высооточных сегментах:\n",
    "- наиболее отточные клиенты сообщают о том, что они хотят покинуть банк (last_activity == 1),\n",
    "- скоринг отточных клиентов довольно высокий (820-906),\n",
    "- чаще всего нас покидают мужчины,\n",
    "- у части пользователей нет кредитной карты (особенно это заметно в комбинациях из двух признаков),\n",
    "- отточные клиенты владеют более 2 объектов недвижимости\n",
    "- и получают зарплалту более 95 000.\n",
    "\n",
    "Попробуем уплотнить несколько схожих топовых комбинаций из трех признаков:"
   ]
  },
  {
   "cell_type": "code",
   "execution_count": 65,
   "id": "0fe2bbbf",
   "metadata": {},
   "outputs": [
    {
     "data": {
      "text/plain": [
       "0.5640394088669951"
      ]
     },
     "execution_count": 65,
     "metadata": {},
     "output_type": "execute_result"
    }
   ],
   "source": [
    "bank.query('last_activity == 1 & equity >= 2 & 820 <= score <= 906 & gender == \"М\"')['churn'].mean()"
   ]
  },
  {
   "cell_type": "code",
   "execution_count": 66,
   "id": "bd2f8eb4",
   "metadata": {},
   "outputs": [
    {
     "data": {
      "text/plain": [
       "0.49700598802395207"
      ]
     },
     "execution_count": 66,
     "metadata": {},
     "output_type": "execute_result"
    }
   ],
   "source": [
    "bank.query('last_activity == 1 & gender == \"М\" & equity >= 2  & est_salary >= 95000')['churn'].mean()"
   ]
  },
  {
   "cell_type": "code",
   "execution_count": 67,
   "id": "27bc318a",
   "metadata": {},
   "outputs": [
    {
     "data": {
      "text/plain": [
       "0.5486725663716814"
      ]
     },
     "execution_count": 67,
     "metadata": {},
     "output_type": "execute_result"
    }
   ],
   "source": [
    "bank.query('last_activity == 1 & credit_card == 0 & equity >= 2 & 24 <= age <= 36')['churn'].mean()"
   ]
  },
  {
   "cell_type": "markdown",
   "id": "96d33964",
   "metadata": {},
   "source": [
    "# Портреты высокоотных сегментов:\n",
    "Мы можем выделить три наиболе отточных сегмента:\n",
    "\n",
    "<b>первый:</b>\n",
    "- клиенты сообщали о своем желании уйти,\n",
    "- клиенты владеют более 2 объектов недвижимости,\n",
    "- довольно высокий скоринг таких клиентов - 820 - 906,\n",
    "- опционально - если клиенты мужчины, то шанс, что они уйдут - повышается;\n",
    "\n",
    "<b>второй:</b>\n",
    "- клиенты сообщали о своем желании уйти,\n",
    "- клиенты владеют более 2 объектов недвижимости,\n",
    "- клиенты - мужчины\n",
    "- опционально - зарплата более 95 000 повышает шанс оттока;\n",
    "\n",
    "<b>третий:</b>\n",
    "- клиенты сообщали о своем желании уйти,\n",
    "- клиенты владеют более 2 объектов недвижимости,\n",
    "- клиенты не заводят кредитную карту,\n",
    "- опционально - клиенты молодого возраста (24 - 36)."
   ]
  },
  {
   "cell_type": "markdown",
   "id": "8b0e67b8",
   "metadata": {},
   "source": [
    "<a id=\"ml\"> </a>\n",
    "# 4. Машинное обучение."
   ]
  },
  {
   "cell_type": "markdown",
   "id": "ca8c80e5",
   "metadata": {},
   "source": [
    "Проведем подготовительную работу:\n",
    "- создадим функцию, которая будет выводить нам значения метрик,\n",
    "- выделим зависимую (целевую) переменную и независимые,\n",
    "- стандартизируем данные для построения модели логистической регрессии,\n",
    "- разобьем данные на train и test в пропорции 70 / 30."
   ]
  },
  {
   "cell_type": "code",
   "execution_count": 69,
   "id": "bc131baa",
   "metadata": {},
   "outputs": [],
   "source": [
    "def model_metrics(model, x_test, y_test, predictions):\n",
    "    \n",
    "    '''функция принимает на вход модель машинного обучения, значения x_test, y_test и предсказания\n",
    "    и печатает значения метрик (accuracy, precision, recall, F1 score, ROC AUC)'''\n",
    "    \n",
    "    model_probability = model.predict_proba(x_test)[:,1]\n",
    "    \n",
    "    print('Precision: {:.3f}'.format(precision_score(y_test, predictions)))\n",
    "    print('Recall: {:.3f}'.format(recall_score(y_test, predictions)))\n",
    "    print('F1 score: {:.3f}'.format(f1_score(y_test, predictions)))\n",
    "    print('ROC AUC: {:.3f}'.format(roc_auc_score(y_test, model_probability)))"
   ]
  },
  {
   "cell_type": "markdown",
   "id": "f43123f6",
   "metadata": {},
   "source": [
    "Поскольку нам важно правильно классифицировать объекты положительного класса, метрика precision станет для нас основной, recall скажет о том, какую долю объектов мы смогли детектировать. Так же будем обращать внимание на f1 score - метрика даст нам представление о точности и полноте алгоритма."
   ]
  },
  {
   "cell_type": "code",
   "execution_count": 70,
   "id": "ea8ec3a8",
   "metadata": {},
   "outputs": [],
   "source": [
    "# подготовим переменные\n",
    "\n",
    "x_y = bank.drop(columns=['user_id', 'city', 'gender', 'balance_with_na', 'balance_cut'], axis=1).dropna()\n",
    "\n",
    "X = x_y.drop(columns=['churn'], axis=1)\n",
    "y = x_y['churn']"
   ]
  },
  {
   "cell_type": "code",
   "execution_count": 71,
   "id": "ab84ba1e",
   "metadata": {},
   "outputs": [],
   "source": [
    "# разобьем данные на test и train\n",
    "\n",
    "X_train, X_test, y_train, y_test = train_test_split(X, y, test_size=0.3, random_state=42, stratify=y)"
   ]
  },
  {
   "cell_type": "code",
   "execution_count": 72,
   "id": "751396d6",
   "metadata": {},
   "outputs": [],
   "source": [
    "# стандартизируем данные для работы с логистической регрессией\n",
    "\n",
    "scaler = StandardScaler() \n",
    "\n",
    "scaler.fit(X_train)\n",
    "\n",
    "X_train_st = scaler.transform(X_train)\n",
    "X_test_st = scaler.transform(X_test)"
   ]
  },
  {
   "cell_type": "markdown",
   "id": "1567153b",
   "metadata": {},
   "source": [
    "# Логистическая регрессия."
   ]
  },
  {
   "cell_type": "code",
   "execution_count": 73,
   "id": "0c0e61b1",
   "metadata": {},
   "outputs": [],
   "source": [
    "# обучим модель логистической регрессии\n",
    "\n",
    "lr_model = LogisticRegression(penalty='l1', solver='liblinear', random_state=42)\n",
    "\n",
    "lr_model.fit(X_train_st, y_train)\n",
    "\n",
    "predictions_lr = lr_model.predict(X_test_st)"
   ]
  },
  {
   "cell_type": "code",
   "execution_count": 74,
   "id": "6938ebdf",
   "metadata": {},
   "outputs": [
    {
     "name": "stdout",
     "output_type": "stream",
     "text": [
      "LogisticRegression:\n",
      "Precision: 0.647\n",
      "Recall: 0.301\n",
      "F1 score: 0.411\n",
      "ROC AUC: 0.781\n"
     ]
    }
   ],
   "source": [
    "print('LogisticRegression:')\n",
    "\n",
    "model_metrics(lr_model, X_test_st, y_test, predictions_lr)"
   ]
  },
  {
   "cell_type": "markdown",
   "id": "d91d0eaf",
   "metadata": {},
   "source": [
    "Модель показала невысокие значения метрики - она смогла обнаружить только 28.6% объектов первого класса и правильно детектировала 68.6% из них."
   ]
  },
  {
   "cell_type": "code",
   "execution_count": 75,
   "id": "f644dee4",
   "metadata": {},
   "outputs": [],
   "source": [
    "annot_text = np.array(['true negative', 'false positive', 'false negative', 'true positive']).reshape(2, 2)"
   ]
  },
  {
   "cell_type": "code",
   "execution_count": 76,
   "id": "a544717d",
   "metadata": {},
   "outputs": [
    {
     "data": {
      "image/png": "[encoded data removed]",
      "text/plain": [
       "<Figure size 432x288 with 2 Axes>"
      ]
     },
     "metadata": {
      "needs_background": "light"
     },
     "output_type": "display_data"
    }
   ],
   "source": [
    "sns.heatmap(confusion_matrix(y_test, predictions_lr), \n",
    "            annot=annot_text, fmt=\"\")\n",
    "plt.show()"
   ]
  },
  {
   "cell_type": "code",
   "execution_count": 77,
   "id": "25fcb924",
   "metadata": {},
   "outputs": [
    {
     "data": {
      "text/html": [
       "<div>\n",
       "<style scoped>\n",
       "    .dataframe tbody tr th:only-of-type {\n",
       "        vertical-align: middle;\n",
       "    }\n",
       "\n",
       "    .dataframe tbody tr th {\n",
       "        vertical-align: top;\n",
       "    }\n",
       "\n",
       "    .dataframe thead th {\n",
       "        text-align: right;\n",
       "    }\n",
       "</style>\n",
       "<table border=\"1\" class=\"dataframe\">\n",
       "  <thead>\n",
       "    <tr style=\"text-align: right;\">\n",
       "      <th></th>\n",
       "      <th>coef_lr</th>\n",
       "    </tr>\n",
       "    <tr>\n",
       "      <th>features</th>\n",
       "      <th></th>\n",
       "    </tr>\n",
       "  </thead>\n",
       "  <tbody>\n",
       "    <tr>\n",
       "      <th>score</th>\n",
       "      <td>0.431207</td>\n",
       "    </tr>\n",
       "    <tr>\n",
       "      <th>age</th>\n",
       "      <td>-0.122848</td>\n",
       "    </tr>\n",
       "    <tr>\n",
       "      <th>equity</th>\n",
       "      <td>0.187236</td>\n",
       "    </tr>\n",
       "    <tr>\n",
       "      <th>balance</th>\n",
       "      <td>-0.001781</td>\n",
       "    </tr>\n",
       "    <tr>\n",
       "      <th>products</th>\n",
       "      <td>0.359908</td>\n",
       "    </tr>\n",
       "    <tr>\n",
       "      <th>credit_card</th>\n",
       "      <td>-0.198662</td>\n",
       "    </tr>\n",
       "    <tr>\n",
       "      <th>last_activity</th>\n",
       "      <td>0.569707</td>\n",
       "    </tr>\n",
       "    <tr>\n",
       "      <th>est_salary</th>\n",
       "      <td>0.046570</td>\n",
       "    </tr>\n",
       "    <tr>\n",
       "      <th>city_rybinsk</th>\n",
       "      <td>-0.068801</td>\n",
       "    </tr>\n",
       "    <tr>\n",
       "      <th>city_yaroslavl</th>\n",
       "      <td>0.043501</td>\n",
       "    </tr>\n",
       "    <tr>\n",
       "      <th>gender_m</th>\n",
       "      <td>0.494281</td>\n",
       "    </tr>\n",
       "  </tbody>\n",
       "</table>\n",
       "</div>"
      ],
      "text/plain": [
       "                 coef_lr\n",
       "features                \n",
       "score           0.431207\n",
       "age            -0.122848\n",
       "equity          0.187236\n",
       "balance        -0.001781\n",
       "products        0.359908\n",
       "credit_card    -0.198662\n",
       "last_activity   0.569707\n",
       "est_salary      0.046570\n",
       "city_rybinsk   -0.068801\n",
       "city_yaroslavl  0.043501\n",
       "gender_m        0.494281"
      ]
     },
     "execution_count": 77,
     "metadata": {},
     "output_type": "execute_result"
    }
   ],
   "source": [
    "# изучим коэффициенты, посмотрим, какие признаки модель посчитала неважными и занулила\n",
    "\n",
    "lr_model_coef = pd.concat([pd.DataFrame(lr_model.coef_).T, pd.DataFrame(X.columns)], axis=1)\n",
    "\n",
    "lr_model_coef.columns = ['coef_lr', 'features']\n",
    "lr_model_coef.set_index('features', inplace=True)\n",
    "lr_model_coef"
   ]
  },
  {
   "cell_type": "markdown",
   "id": "d02650c8",
   "metadata": {},
   "source": [
    "Модель посчитала неважными и занулила большую часть коэффициентов. Больше всего на предсказание влияют переменные last_activity,  gender_m, score и products - схожие результаты мы получили при помощи корреляции Спирмана."
   ]
  },
  {
   "cell_type": "markdown",
   "id": "6612eeb3",
   "metadata": {},
   "source": [
    "# Decision Tree - подбор параметров."
   ]
  },
  {
   "cell_type": "code",
   "execution_count": 78,
   "id": "a842972e",
   "metadata": {},
   "outputs": [],
   "source": [
    "best_dt_model = None\n",
    "best_dt_params = []\n",
    "best_dt_result = 0"
   ]
  },
  {
   "cell_type": "code",
   "execution_count": 79,
   "id": "c011435c",
   "metadata": {},
   "outputs": [
    {
     "name": "stdout",
     "output_type": "stream",
     "text": [
      "CPU times: user 22.1 s, sys: 79.2 ms, total: 22.2 s\n",
      "Wall time: 22.5 s\n"
     ]
    }
   ],
   "source": [
    "%%time\n",
    "\n",
    "# подберем параметры модели в цикле\n",
    "\n",
    "for depth in range(1, 10):\n",
    "    for samples_split in range(2, 10):\n",
    "        for samples_leaf in range(1, 10):\n",
    "            for crit in ['gini', 'entropy']:\n",
    "                dt_tree = DecisionTreeClassifier(random_state=42, \n",
    "                                                 max_depth=depth, \n",
    "                                                 criterion=crit,\n",
    "                                                 min_samples_split=samples_split, \n",
    "                                                 min_samples_leaf=samples_leaf)\n",
    "                dt_tree.fit(X_train, y_train)\n",
    "                predictions = dt_tree.predict(X_test)\n",
    "                \n",
    "                result = precision_score(y_test, predictions, zero_division=0)\n",
    "\n",
    "                if result > best_dt_result:\n",
    "                    best_dt_model = dt_tree\n",
    "                    best_dt_result = result\n",
    "                    best_dt_params = [depth, crit, samples_split, samples_leaf]"
   ]
  },
  {
   "cell_type": "code",
   "execution_count": 80,
   "id": "1d91b451",
   "metadata": {},
   "outputs": [
    {
     "name": "stdout",
     "output_type": "stream",
     "text": [
      "Decision Tree Classifier:\n",
      "precision наилучшей модели на тестовой выборке: 0.7864077669902912\n",
      "max_depth: 2\n",
      "criterion: gini\n",
      "min_samples_split: 2\n",
      "min_samples_leaf:  1\n"
     ]
    }
   ],
   "source": [
    "print('Decision Tree Classifier:')\n",
    "\n",
    "print(f'precision наилучшей модели на тестовой выборке: {best_dt_result}',\n",
    "      f'max_depth: {best_dt_params[0]}',\n",
    "      f'criterion: {best_dt_params[1]}',\n",
    "      f'min_samples_split: {best_dt_params[2]}',\n",
    "      f'min_samples_leaf:  {best_dt_params[3]}', sep='\\n')  "
   ]
  },
  {
   "cell_type": "code",
   "execution_count": 81,
   "id": "c8efa8fe",
   "metadata": {},
   "outputs": [
    {
     "data": {
      "image/png": "[encoded data removed]",
      "text/plain": [
       "<Figure size 648x432 with 1 Axes>"
      ]
     },
     "metadata": {
      "needs_background": "light"
     },
     "output_type": "display_data"
    }
   ],
   "source": [
    "# визуализируем дерево решений\n",
    "\n",
    "plt.figure(figsize=(9,6))\n",
    "plot_tree(best_dt_model)\n",
    "plt.show()"
   ]
  },
  {
   "cell_type": "code",
   "execution_count": 82,
   "id": "6259bdad",
   "metadata": {},
   "outputs": [
    {
     "name": "stdout",
     "output_type": "stream",
     "text": [
      "модель разделила пользователей по переменным: ['products', 'last_activity', 'est_salary']\n"
     ]
    }
   ],
   "source": [
    "print('модель разделила пользователей по переменным:', [X.columns[4], X.columns[6], X.columns[7]])"
   ]
  },
  {
   "cell_type": "code",
   "execution_count": 83,
   "id": "278fcbc4",
   "metadata": {},
   "outputs": [
    {
     "data": {
      "text/html": [
       "<div>\n",
       "<style scoped>\n",
       "    .dataframe tbody tr th:only-of-type {\n",
       "        vertical-align: middle;\n",
       "    }\n",
       "\n",
       "    .dataframe tbody tr th {\n",
       "        vertical-align: top;\n",
       "    }\n",
       "\n",
       "    .dataframe thead th {\n",
       "        text-align: right;\n",
       "    }\n",
       "</style>\n",
       "<table border=\"1\" class=\"dataframe\">\n",
       "  <thead>\n",
       "    <tr style=\"text-align: right;\">\n",
       "      <th></th>\n",
       "      <th>coef_dt</th>\n",
       "    </tr>\n",
       "    <tr>\n",
       "      <th>features</th>\n",
       "      <th></th>\n",
       "    </tr>\n",
       "  </thead>\n",
       "  <tbody>\n",
       "    <tr>\n",
       "      <th>score</th>\n",
       "      <td>0.000000</td>\n",
       "    </tr>\n",
       "    <tr>\n",
       "      <th>age</th>\n",
       "      <td>0.000000</td>\n",
       "    </tr>\n",
       "    <tr>\n",
       "      <th>equity</th>\n",
       "      <td>0.000000</td>\n",
       "    </tr>\n",
       "    <tr>\n",
       "      <th>balance</th>\n",
       "      <td>0.000000</td>\n",
       "    </tr>\n",
       "    <tr>\n",
       "      <th>products</th>\n",
       "      <td>0.492638</td>\n",
       "    </tr>\n",
       "    <tr>\n",
       "      <th>credit_card</th>\n",
       "      <td>0.000000</td>\n",
       "    </tr>\n",
       "    <tr>\n",
       "      <th>last_activity</th>\n",
       "      <td>0.351693</td>\n",
       "    </tr>\n",
       "    <tr>\n",
       "      <th>est_salary</th>\n",
       "      <td>0.155669</td>\n",
       "    </tr>\n",
       "    <tr>\n",
       "      <th>city_rybinsk</th>\n",
       "      <td>0.000000</td>\n",
       "    </tr>\n",
       "    <tr>\n",
       "      <th>city_yaroslavl</th>\n",
       "      <td>0.000000</td>\n",
       "    </tr>\n",
       "    <tr>\n",
       "      <th>gender_m</th>\n",
       "      <td>0.000000</td>\n",
       "    </tr>\n",
       "  </tbody>\n",
       "</table>\n",
       "</div>"
      ],
      "text/plain": [
       "                 coef_dt\n",
       "features                \n",
       "score           0.000000\n",
       "age             0.000000\n",
       "equity          0.000000\n",
       "balance         0.000000\n",
       "products        0.492638\n",
       "credit_card     0.000000\n",
       "last_activity   0.351693\n",
       "est_salary      0.155669\n",
       "city_rybinsk    0.000000\n",
       "city_yaroslavl  0.000000\n",
       "gender_m        0.000000"
      ]
     },
     "execution_count": 83,
     "metadata": {},
     "output_type": "execute_result"
    }
   ],
   "source": [
    "# сохраним коэффициенты\n",
    "\n",
    "best_dt_model_coef = pd.concat([pd.DataFrame(best_dt_model.feature_importances_), pd.DataFrame(X.columns)], axis=1)\n",
    "\n",
    "best_dt_model_coef.columns = ['coef_dt', 'features']\n",
    "best_dt_model_coef.set_index('features', inplace=True)\n",
    "best_dt_model_coef"
   ]
  },
  {
   "cell_type": "markdown",
   "id": "3eb65b3b",
   "metadata": {},
   "source": [
    "Дерево решений занулило большую часть коэффицентов."
   ]
  },
  {
   "cell_type": "code",
   "execution_count": 84,
   "id": "33620cbf",
   "metadata": {},
   "outputs": [
    {
     "name": "stdout",
     "output_type": "stream",
     "text": [
      "Precision: 0.786\n",
      "Recall: 0.149\n",
      "F1 score: 0.251\n",
      "ROC AUC: 0.686\n"
     ]
    }
   ],
   "source": [
    "best_dt_model.fit(X_train, y_train)\n",
    "\n",
    "best_dt_model_predictions = best_dt_model.predict(X_test)\n",
    "\n",
    "model_metrics(best_dt_model, X_test, y_test, best_dt_model_predictions)"
   ]
  },
  {
   "cell_type": "markdown",
   "id": "bc502788",
   "metadata": {},
   "source": [
    "precision выше, чем у логистической регрессии, но остальные метрики - хуже."
   ]
  },
  {
   "cell_type": "code",
   "execution_count": 85,
   "id": "0466f4e8",
   "metadata": {},
   "outputs": [
    {
     "data": {
      "image/png": "[encoded data removed]",
      "text/plain": [
       "<Figure size 432x288 with 2 Axes>"
      ]
     },
     "metadata": {
      "needs_background": "light"
     },
     "output_type": "display_data"
    }
   ],
   "source": [
    "sns.heatmap(confusion_matrix(y_test, best_dt_model_predictions), \n",
    "            annot=annot_text, fmt=\"\")\n",
    "plt.show()"
   ]
  },
  {
   "cell_type": "markdown",
   "id": "04ff7dda",
   "metadata": {},
   "source": [
    "# Random Forest - подбор параметров."
   ]
  },
  {
   "cell_type": "code",
   "execution_count": 86,
   "id": "1eba16e3",
   "metadata": {},
   "outputs": [],
   "source": [
    "best_rf_model = None\n",
    "best_rf_result = 0\n",
    "best_rf_params = []"
   ]
  },
  {
   "cell_type": "code",
   "execution_count": 87,
   "id": "51f9e65e",
   "metadata": {},
   "outputs": [
    {
     "name": "stdout",
     "output_type": "stream",
     "text": [
      "CPU times: user 5min 20s, sys: 1.82 s, total: 5min 22s\n",
      "Wall time: 5min 26s\n"
     ]
    }
   ],
   "source": [
    "%%time\n",
    "\n",
    "# подберем параметры модели в цикле\n",
    "\n",
    "for est in range(1, 10):\n",
    "    for depth in range(1, 10):\n",
    "        for samples_split in range(2, 10):\n",
    "            for samples_leaf in range(1, 10):\n",
    "                for crit in ['gini', 'entropy']:\n",
    "                    r_forest = RandomForestClassifier(random_state=42,\n",
    "                                                      n_estimators=est,\n",
    "                                                      max_depth=depth,\n",
    "                                                      criterion=crit,\n",
    "                                                      min_samples_split=samples_split,\n",
    "                                                      min_samples_leaf=samples_leaf)\n",
    "                    r_forest.fit(X_train, y_train)\n",
    "                    predictions = r_forest.predict(X_test)\n",
    "                    \n",
    "                    result = precision_score(y_test, predictions, zero_division=0)\n",
    "    \n",
    "                    if result > best_rf_result:\n",
    "                        best_rf_model = r_forest\n",
    "                        best_rf_result = result\n",
    "                        best_rf_params = [est, depth, crit, samples_split, samples_leaf]"
   ]
  },
  {
   "cell_type": "code",
   "execution_count": 88,
   "id": "1567eae7",
   "metadata": {},
   "outputs": [
    {
     "name": "stdout",
     "output_type": "stream",
     "text": [
      "Random Forest Classifier:\n",
      "precision наилучшей модели на тестовой выборке: 1.0\n",
      "n_estimators: 5\n",
      "max_depth: 2\n",
      "criterion: gini\n",
      "min_samples_split: 2\n",
      "min_samples_leaf:  1\n"
     ]
    }
   ],
   "source": [
    "print('Random Forest Classifier:')\n",
    "\n",
    "print(f'precision наилучшей модели на тестовой выборке: {best_rf_result}',\n",
    "      f'n_estimators: {best_rf_params[0]}',\n",
    "      f'max_depth: {best_rf_params[1]}',\n",
    "      f'criterion: {best_rf_params[2]}',\n",
    "      f'min_samples_split: {best_rf_params[3]}',\n",
    "      f'min_samples_leaf:  {best_rf_params[4]}', sep='\\n')  "
   ]
  },
  {
   "cell_type": "code",
   "execution_count": 89,
   "id": "35a1cb75",
   "metadata": {},
   "outputs": [
    {
     "data": {
      "text/html": [
       "<div>\n",
       "<style scoped>\n",
       "    .dataframe tbody tr th:only-of-type {\n",
       "        vertical-align: middle;\n",
       "    }\n",
       "\n",
       "    .dataframe tbody tr th {\n",
       "        vertical-align: top;\n",
       "    }\n",
       "\n",
       "    .dataframe thead th {\n",
       "        text-align: right;\n",
       "    }\n",
       "</style>\n",
       "<table border=\"1\" class=\"dataframe\">\n",
       "  <thead>\n",
       "    <tr style=\"text-align: right;\">\n",
       "      <th></th>\n",
       "      <th>coef_rf</th>\n",
       "    </tr>\n",
       "    <tr>\n",
       "      <th>features</th>\n",
       "      <th></th>\n",
       "    </tr>\n",
       "  </thead>\n",
       "  <tbody>\n",
       "    <tr>\n",
       "      <th>score</th>\n",
       "      <td>0.251938</td>\n",
       "    </tr>\n",
       "    <tr>\n",
       "      <th>age</th>\n",
       "      <td>0.050640</td>\n",
       "    </tr>\n",
       "    <tr>\n",
       "      <th>equity</th>\n",
       "      <td>0.047121</td>\n",
       "    </tr>\n",
       "    <tr>\n",
       "      <th>balance</th>\n",
       "      <td>0.244194</td>\n",
       "    </tr>\n",
       "    <tr>\n",
       "      <th>products</th>\n",
       "      <td>0.127415</td>\n",
       "    </tr>\n",
       "    <tr>\n",
       "      <th>credit_card</th>\n",
       "      <td>0.000000</td>\n",
       "    </tr>\n",
       "    <tr>\n",
       "      <th>last_activity</th>\n",
       "      <td>0.248196</td>\n",
       "    </tr>\n",
       "    <tr>\n",
       "      <th>est_salary</th>\n",
       "      <td>0.000000</td>\n",
       "    </tr>\n",
       "    <tr>\n",
       "      <th>city_rybinsk</th>\n",
       "      <td>0.000000</td>\n",
       "    </tr>\n",
       "    <tr>\n",
       "      <th>city_yaroslavl</th>\n",
       "      <td>0.000089</td>\n",
       "    </tr>\n",
       "    <tr>\n",
       "      <th>gender_m</th>\n",
       "      <td>0.030406</td>\n",
       "    </tr>\n",
       "  </tbody>\n",
       "</table>\n",
       "</div>"
      ],
      "text/plain": [
       "                 coef_rf\n",
       "features                \n",
       "score           0.251938\n",
       "age             0.050640\n",
       "equity          0.047121\n",
       "balance         0.244194\n",
       "products        0.127415\n",
       "credit_card     0.000000\n",
       "last_activity   0.248196\n",
       "est_salary      0.000000\n",
       "city_rybinsk    0.000000\n",
       "city_yaroslavl  0.000089\n",
       "gender_m        0.030406"
      ]
     },
     "execution_count": 89,
     "metadata": {},
     "output_type": "execute_result"
    }
   ],
   "source": [
    "# сохраним коэффициенты модели\n",
    "\n",
    "best_rf_model_coef = pd.concat([pd.DataFrame(best_rf_model.feature_importances_), pd.DataFrame(X.columns)], axis=1)\n",
    "\n",
    "best_rf_model_coef.columns = ['coef_rf', 'features']\n",
    "best_rf_model_coef.set_index('features', inplace=True)\n",
    "best_rf_model_coef"
   ]
  },
  {
   "cell_type": "markdown",
   "id": "d8fc9826",
   "metadata": {},
   "source": [
    "Бо́льший вес получили переменные: score, last_activity, products и balance, меньший - age, gender_m, credit_card, est_salary и equity. Модель занулила переменные, связанные с городом."
   ]
  },
  {
   "cell_type": "code",
   "execution_count": 90,
   "id": "23aba243",
   "metadata": {},
   "outputs": [],
   "source": [
    "# обучим модель, получим предсказания\n",
    "\n",
    "best_rf_model.fit(X_train_st, y_train)\n",
    "\n",
    "best_rf_model_predictions = best_rf_model.predict(X_test_st)"
   ]
  },
  {
   "cell_type": "code",
   "execution_count": 91,
   "id": "6bc6914c",
   "metadata": {},
   "outputs": [
    {
     "name": "stdout",
     "output_type": "stream",
     "text": [
      "Random Forest Classifier:\n",
      "Precision: 1.000\n",
      "Recall: 0.011\n",
      "F1 score: 0.022\n",
      "ROC AUC: 0.770\n"
     ]
    }
   ],
   "source": [
    "print('Random Forest Classifier:')\n",
    "\n",
    "model_metrics(best_rf_model, X_test_st, y_test, best_rf_model_predictions)"
   ]
  },
  {
   "cell_type": "markdown",
   "id": "068d950e",
   "metadata": {},
   "source": [
    "Из трех моделей, лес показал себя лучше остальных - precision и roc auc - выше, чем у остальных моделей."
   ]
  },
  {
   "cell_type": "code",
   "execution_count": 92,
   "id": "d2e6a401",
   "metadata": {},
   "outputs": [
    {
     "data": {
      "image/png": "[encoded data removed]",
      "text/plain": [
       "<Figure size 432x288 with 2 Axes>"
      ]
     },
     "metadata": {
      "needs_background": "light"
     },
     "output_type": "display_data"
    }
   ],
   "source": [
    "sns.heatmap(confusion_matrix(y_test, best_rf_model_predictions), \n",
    "            annot=annot_text, fmt=\"\")\n",
    "plt.show()"
   ]
  },
  {
   "cell_type": "markdown",
   "id": "8313c5ed",
   "metadata": {},
   "source": [
    "# Изучим коэффициенты, полученные в результате работы трех моделей"
   ]
  },
  {
   "cell_type": "code",
   "execution_count": 93,
   "id": "232bb225",
   "metadata": {},
   "outputs": [
    {
     "data": {
      "text/html": [
       "<div>\n",
       "<style scoped>\n",
       "    .dataframe tbody tr th:only-of-type {\n",
       "        vertical-align: middle;\n",
       "    }\n",
       "\n",
       "    .dataframe tbody tr th {\n",
       "        vertical-align: top;\n",
       "    }\n",
       "\n",
       "    .dataframe thead th {\n",
       "        text-align: right;\n",
       "    }\n",
       "</style>\n",
       "<table border=\"1\" class=\"dataframe\">\n",
       "  <thead>\n",
       "    <tr style=\"text-align: right;\">\n",
       "      <th></th>\n",
       "      <th>coef_rf</th>\n",
       "      <th>coef_dt</th>\n",
       "      <th>coef_lr</th>\n",
       "    </tr>\n",
       "    <tr>\n",
       "      <th>features</th>\n",
       "      <th></th>\n",
       "      <th></th>\n",
       "      <th></th>\n",
       "    </tr>\n",
       "  </thead>\n",
       "  <tbody>\n",
       "    <tr>\n",
       "      <th>score</th>\n",
       "      <td>0.251938</td>\n",
       "      <td>0.000000</td>\n",
       "      <td>0.431207</td>\n",
       "    </tr>\n",
       "    <tr>\n",
       "      <th>age</th>\n",
       "      <td>0.050640</td>\n",
       "      <td>0.000000</td>\n",
       "      <td>-0.122848</td>\n",
       "    </tr>\n",
       "    <tr>\n",
       "      <th>equity</th>\n",
       "      <td>0.047121</td>\n",
       "      <td>0.000000</td>\n",
       "      <td>0.187236</td>\n",
       "    </tr>\n",
       "    <tr>\n",
       "      <th>balance</th>\n",
       "      <td>0.244194</td>\n",
       "      <td>0.000000</td>\n",
       "      <td>-0.001781</td>\n",
       "    </tr>\n",
       "    <tr>\n",
       "      <th>products</th>\n",
       "      <td>0.127415</td>\n",
       "      <td>0.492638</td>\n",
       "      <td>0.359908</td>\n",
       "    </tr>\n",
       "    <tr>\n",
       "      <th>credit_card</th>\n",
       "      <td>0.000000</td>\n",
       "      <td>0.000000</td>\n",
       "      <td>-0.198662</td>\n",
       "    </tr>\n",
       "    <tr>\n",
       "      <th>last_activity</th>\n",
       "      <td>0.248196</td>\n",
       "      <td>0.351693</td>\n",
       "      <td>0.569707</td>\n",
       "    </tr>\n",
       "    <tr>\n",
       "      <th>est_salary</th>\n",
       "      <td>0.000000</td>\n",
       "      <td>0.155669</td>\n",
       "      <td>0.046570</td>\n",
       "    </tr>\n",
       "    <tr>\n",
       "      <th>city_rybinsk</th>\n",
       "      <td>0.000000</td>\n",
       "      <td>0.000000</td>\n",
       "      <td>-0.068801</td>\n",
       "    </tr>\n",
       "    <tr>\n",
       "      <th>city_yaroslavl</th>\n",
       "      <td>0.000089</td>\n",
       "      <td>0.000000</td>\n",
       "      <td>0.043501</td>\n",
       "    </tr>\n",
       "    <tr>\n",
       "      <th>gender_m</th>\n",
       "      <td>0.030406</td>\n",
       "      <td>0.000000</td>\n",
       "      <td>0.494281</td>\n",
       "    </tr>\n",
       "  </tbody>\n",
       "</table>\n",
       "</div>"
      ],
      "text/plain": [
       "                 coef_rf   coef_dt   coef_lr\n",
       "features                                    \n",
       "score           0.251938  0.000000  0.431207\n",
       "age             0.050640  0.000000 -0.122848\n",
       "equity          0.047121  0.000000  0.187236\n",
       "balance         0.244194  0.000000 -0.001781\n",
       "products        0.127415  0.492638  0.359908\n",
       "credit_card     0.000000  0.000000 -0.198662\n",
       "last_activity   0.248196  0.351693  0.569707\n",
       "est_salary      0.000000  0.155669  0.046570\n",
       "city_rybinsk    0.000000  0.000000 -0.068801\n",
       "city_yaroslavl  0.000089  0.000000  0.043501\n",
       "gender_m        0.030406  0.000000  0.494281"
      ]
     },
     "execution_count": 93,
     "metadata": {},
     "output_type": "execute_result"
    }
   ],
   "source": [
    "model_list = [best_rf_model_coef, best_dt_model_coef, lr_model_coef]\n",
    "\n",
    "pd.concat(model_list, axis=1)"
   ]
  },
  {
   "cell_type": "markdown",
   "id": "b7979e4f",
   "metadata": {},
   "source": [
    "Все три модели однозначно посчитали, что перменные products и last_activity - важны для прогноза. Регрессиия и лес посчитали важными score, а решающее дерево выбрало важным переменную est_salary.\n",
    "\n",
    "Полученные коэффициенты перекликаются с нашими результатами, полученными графически и при помощи корреляции."
   ]
  },
  {
   "cell_type": "markdown",
   "id": "e12ecfa4",
   "metadata": {},
   "source": [
    "<a id=\"stat\"> </a>\n",
    "# 5. Формулирование и проверка статистических гипотез."
   ]
  },
  {
   "cell_type": "markdown",
   "id": "3273aaba",
   "metadata": {},
   "source": [
    "t-тест сравнивает средние значения двух выборок и сообщает, отличаются они или нет. Нас интересует значение p-value, которое покажет вероятность того, что отличия в двух выборках случайны. Чем меньше это значение и ближе к нулю - тем лучше.\n",
    "\n",
    "Требования t-теста:\n",
    "- нормальное распределение данных (строгое требование),\n",
    "- дисперсия двух выборок равна,\n",
    "- данные являются независимыми и непрерывными."
   ]
  },
  {
   "cell_type": "markdown",
   "id": "53a09885",
   "metadata": {},
   "source": [
    "Критерий Манна-Уитни не такой строгий, но он не проверяет ничего, кроме равенства распределений. Этот критерий не подходит для сравнения средних или медиан. "
   ]
  },
  {
   "cell_type": "markdown",
   "id": "c9a4ada8",
   "metadata": {},
   "source": [
    "<b>Гипотеза 1 - \"проверьте гипотезу различия доходов между теми клиентами, которые ушли и теми, которые остались\".</b>\n",
    "\n",
    "<b>H0:</b> различий дохода между двумя группами нет.\n",
    "\n",
    "<b>Н1:</b> доход в группах ушедших клиентов и оставшихся различается."
   ]
  },
  {
   "cell_type": "code",
   "execution_count": 94,
   "id": "75b314c6",
   "metadata": {},
   "outputs": [],
   "source": [
    "# установим уровень статзначимости\n",
    "\n",
    "alpha = 0.05"
   ]
  },
  {
   "cell_type": "code",
   "execution_count": 95,
   "id": "9d4a66e0",
   "metadata": {},
   "outputs": [
    {
     "name": "stdout",
     "output_type": "stream",
     "text": [
      "дисперсия \n",
      "churn=0: 20358839437.94 | churn=1: 15112316536.37\n"
     ]
    },
    {
     "data": {
      "image/png": "[encoded data removed]",
      "text/plain": [
       "<Figure size 1080x216 with 2 Axes>"
      ]
     },
     "metadata": {
      "needs_background": "light"
     },
     "output_type": "display_data"
    }
   ],
   "source": [
    "print('дисперсия', '\\nchurn=0:', round(bank[bank['churn'] == 0]['est_salary'].var(), 2), '|'\n",
    "      ' churn=1:', round(bank[bank['churn'] == 1]['est_salary'].var(), 2))\n",
    "\n",
    "plt.figure(figsize=(15,3))\n",
    "\n",
    "ax1 = plt.subplot(1, 2, 1)\n",
    "plt.title('переменная est_salary (churn = 0)')\n",
    "bank[bank['churn'] == 0]['est_salary'].hist()\n",
    "\n",
    "ax2 = plt.subplot(1, 2, 2)\n",
    "plt.title('переменная est_salary (churn = 1)')\n",
    "bank[bank['churn'] == 1]['est_salary'].hist()\n",
    "\n",
    "plt.show()"
   ]
  },
  {
   "cell_type": "code",
   "execution_count": 96,
   "id": "a1c4acab",
   "metadata": {},
   "outputs": [
    {
     "name": "stdout",
     "output_type": "stream",
     "text": [
      "ttest : различий дохода между двумя группами нет.\n",
      "p-value: 0.8515799588935961\n",
      "mannwhitneyu : отвергаем нулевую гипотезу - доход в группах ушедших клиентов и оставшихся различается.\n",
      "p-value: 0.0001941125216825749\n"
     ]
    }
   ],
   "source": [
    "# посчитаем p-value двумя тестами\n",
    "# сравним с уровнем стат. значимости\n",
    "\n",
    "ttest_balance = ttest_ind(bank[bank['churn'] == 0]['est_salary'], bank[bank['churn'] == 1]['est_salary'], \n",
    "                          equal_var=False, alternative='two-sided')\n",
    "\n",
    "mannwhitneyu_balance = mannwhitneyu(bank[bank['churn'] == 0]['est_salary'], bank[bank['churn'] == 1]['est_salary'])\n",
    "\n",
    "\n",
    "pval_balance = {'ttest': ttest_balance.pvalue, 'mannwhitneyu': mannwhitneyu_balance.pvalue}\n",
    "\n",
    "\n",
    "for key, value in pval_balance.items():\n",
    "    if value < alpha:\n",
    "        print(key, ': отвергаем нулевую гипотезу - доход в группах ушедших клиентов и оставшихся различается.')\n",
    "        print('p-value:', value)\n",
    "    else:\n",
    "        print(key, ': различий дохода между двумя группами нет.')\n",
    "        print('p-value:', value)"
   ]
  },
  {
   "cell_type": "markdown",
   "id": "999fb392",
   "metadata": {},
   "source": [
    "Графически, при помощи корреляции и при помощи моделей мы установили связь скоринга с целевой переменной, но при сравнении портретов мы не смогли обнаружить различий. "
   ]
  },
  {
   "cell_type": "markdown",
   "id": "7cc9760a",
   "metadata": {},
   "source": [
    "Проверим наше предположение о различии скоринга при помощи статистических тестов."
   ]
  },
  {
   "cell_type": "markdown",
   "id": "7cb77467",
   "metadata": {},
   "source": [
    "<b>Гипотеза 2 - \"проверьте гипотезу различия скоринга между теми клиентами, которые ушли и теми, которые остались\".</b>\n",
    "\n",
    "<b>H0:</b> различий скоринга между двумя группами нет.\n",
    "\n",
    "<b>Н1:</b> скоринг в группах ушедших клиентов и оставшихся различается."
   ]
  },
  {
   "cell_type": "code",
   "execution_count": 97,
   "id": "0564d47c",
   "metadata": {
    "scrolled": true
   },
   "outputs": [
    {
     "name": "stdout",
     "output_type": "stream",
     "text": [
      "дисперсия \n",
      "churn=0: 4623.06 | churn=1: 2462.24\n"
     ]
    },
    {
     "data": {
      "image/png": "[encoded data removed]",
      "text/plain": [
       "<Figure size 1080x216 with 2 Axes>"
      ]
     },
     "metadata": {
      "needs_background": "light"
     },
     "output_type": "display_data"
    }
   ],
   "source": [
    "print('дисперсия', '\\nchurn=0:', round(bank[bank['churn'] == 0]['score'].var(), 2), '|'\n",
    "      ' churn=1:', round(bank[bank['churn'] == 1]['score'].var(), 2))\n",
    "\n",
    "plt.figure(figsize=(15,3))\n",
    "\n",
    "ax1 = plt.subplot(1, 2, 1)\n",
    "plt.title('переменная score (churn = 0)')\n",
    "bank[bank['churn'] == 0]['score'].hist()\n",
    "\n",
    "ax2 = plt.subplot(1, 2, 2)\n",
    "plt.title('переменная score (churn = 1)')\n",
    "bank[bank['churn'] == 1]['score'].hist()\n",
    "\n",
    "plt.show()"
   ]
  },
  {
   "cell_type": "code",
   "execution_count": 98,
   "id": "c51bad4e",
   "metadata": {},
   "outputs": [
    {
     "name": "stdout",
     "output_type": "stream",
     "text": [
      "ttest : отвергаем нулевую гипотезу - скоринг в группах ушедших клиентов и оставшихся различается.\n",
      "p-value: 8.60332714629934e-38\n",
      "mannwhitneyu : отвергаем нулевую гипотезу - скоринг в группах ушедших клиентов и оставшихся различается.\n",
      "p-value: 3.3106768801060834e-22\n"
     ]
    }
   ],
   "source": [
    "ttest_score = ttest_ind(bank[bank['churn'] == 0]['score'], bank[bank['churn'] == 1]['score'], \n",
    "                          equal_var=False, alternative='two-sided')\n",
    "\n",
    "mannwhitneyu_score = mannwhitneyu(bank[bank['churn'] == 0]['score'], bank[bank['churn'] == 1]['score'])\n",
    "\n",
    "\n",
    "pval_score = {'ttest': ttest_score.pvalue, 'mannwhitneyu': mannwhitneyu_score.pvalue}\n",
    "\n",
    "\n",
    "for key, value in pval_score.items():\n",
    "    if value < alpha:\n",
    "        print(key, ': отвергаем нулевую гипотезу - скоринг в группах ушедших клиентов и оставшихся различается.')\n",
    "        print('p-value:', value)\n",
    "    else:\n",
    "        print(key, ': различий скоринга между двумя группами нет.')\n",
    "        print('p-value:', value)"
   ]
  },
  {
   "cell_type": "markdown",
   "id": "67bdeb83",
   "metadata": {},
   "source": [
    "Мы проверили две гипотезы - о различиях скоринга и различиях доходов в двух группах клиентов. Мы смогли подветрдить только гипотезу о равенстве доходов в двух группах."
   ]
  },
  {
   "cell_type": "markdown",
   "id": "b47cbb6a",
   "metadata": {},
   "source": [
    "<a id=\"conclusion\"> </a>\n",
    "# Выводы и рекомендации для заказчика будут даны в презентации."
   ]
  }
 ],
 "metadata": {
  "ExecuteTimeLog": [
   {
    "duration": 3279,
    "start_time": "2023-08-03T14:01:32.391Z"
   },
   {
    "duration": 2099,
    "start_time": "2023-08-03T14:01:35.672Z"
   },
   {
    "duration": 342,
    "start_time": "2023-08-03T14:01:37.773Z"
   },
   {
    "duration": 16,
    "start_time": "2023-08-03T14:01:39.315Z"
   },
   {
    "duration": 6,
    "start_time": "2023-08-03T14:01:40.115Z"
   },
   {
    "duration": 32,
    "start_time": "2023-08-03T14:01:40.296Z"
   },
   {
    "duration": 11,
    "start_time": "2023-08-03T14:01:40.514Z"
   },
   {
    "duration": 4,
    "start_time": "2023-08-03T14:01:41.293Z"
   },
   {
    "duration": 11,
    "start_time": "2023-08-03T14:01:41.452Z"
   },
   {
    "duration": 800,
    "start_time": "2023-08-03T14:01:41.921Z"
   },
   {
    "duration": 18,
    "start_time": "2023-08-03T14:01:42.723Z"
   },
   {
    "duration": 45,
    "start_time": "2023-08-03T14:01:42.743Z"
   },
   {
    "duration": 105,
    "start_time": "2023-08-03T14:01:42.857Z"
   },
   {
    "duration": 17,
    "start_time": "2023-08-03T14:01:43.019Z"
   },
   {
    "duration": 470,
    "start_time": "2023-08-03T14:01:43.186Z"
   },
   {
    "duration": 7,
    "start_time": "2023-08-03T14:01:43.713Z"
   },
   {
    "duration": 8,
    "start_time": "2023-08-03T14:01:44.442Z"
   },
   {
    "duration": 10,
    "start_time": "2023-08-03T14:01:44.831Z"
   },
   {
    "duration": 4,
    "start_time": "2023-08-03T14:01:45.286Z"
   },
   {
    "duration": 12,
    "start_time": "2023-08-03T14:01:45.533Z"
   },
   {
    "duration": 3,
    "start_time": "2023-08-03T14:01:45.786Z"
   },
   {
    "duration": 18,
    "start_time": "2023-08-03T14:01:46.519Z"
   },
   {
    "duration": 15,
    "start_time": "2023-08-03T14:01:46.695Z"
   },
   {
    "duration": 668,
    "start_time": "2023-08-03T14:01:47.348Z"
   },
   {
    "duration": 762,
    "start_time": "2023-08-03T14:01:48.018Z"
   },
   {
    "duration": 1000,
    "start_time": "2023-08-03T14:01:48.782Z"
   },
   {
    "duration": 8,
    "start_time": "2023-08-03T14:01:49.785Z"
   },
   {
    "duration": 40,
    "start_time": "2023-08-03T14:01:49.795Z"
   },
   {
    "duration": 709,
    "start_time": "2023-08-03T14:01:49.838Z"
   },
   {
    "duration": 592,
    "start_time": "2023-08-03T14:01:50.549Z"
   },
   {
    "duration": 426,
    "start_time": "2023-08-03T14:01:51.143Z"
   },
   {
    "duration": 42,
    "start_time": "2023-08-03T14:01:51.571Z"
   },
   {
    "duration": 21,
    "start_time": "2023-08-03T14:01:51.617Z"
   },
   {
    "duration": 23,
    "start_time": "2023-08-03T14:01:51.640Z"
   },
   {
    "duration": 19,
    "start_time": "2023-08-03T14:01:51.664Z"
   },
   {
    "duration": 16,
    "start_time": "2023-08-03T14:01:51.706Z"
   },
   {
    "duration": 739,
    "start_time": "2023-08-03T14:01:52.085Z"
   },
   {
    "duration": 149,
    "start_time": "2023-08-03T14:01:52.826Z"
   },
   {
    "duration": 13,
    "start_time": "2023-08-03T14:01:53.048Z"
   },
   {
    "duration": 11,
    "start_time": "2023-08-03T14:01:53.429Z"
   },
   {
    "duration": 12,
    "start_time": "2023-08-03T14:01:53.660Z"
   },
   {
    "duration": 4,
    "start_time": "2023-08-03T14:01:54.419Z"
   },
   {
    "duration": 24,
    "start_time": "2023-08-03T14:01:54.890Z"
   },
   {
    "duration": 35,
    "start_time": "2023-08-03T14:01:55.029Z"
   },
   {
    "duration": 14,
    "start_time": "2023-08-03T14:01:55.181Z"
   },
   {
    "duration": 332,
    "start_time": "2023-08-03T14:01:55.348Z"
   },
   {
    "duration": 21,
    "start_time": "2023-08-03T14:01:56.092Z"
   },
   {
    "duration": 30,
    "start_time": "2023-08-03T14:01:56.290Z"
   },
   {
    "duration": 12,
    "start_time": "2023-08-03T14:01:56.834Z"
   },
   {
    "duration": 5,
    "start_time": "2023-08-03T14:01:57.049Z"
   },
   {
    "duration": 789,
    "start_time": "2023-08-03T14:01:57.294Z"
   },
   {
    "duration": 40,
    "start_time": "2023-08-03T14:01:58.085Z"
   },
   {
    "duration": 1112,
    "start_time": "2023-08-03T14:01:58.127Z"
   },
   {
    "duration": 20,
    "start_time": "2023-08-03T14:01:59.241Z"
   },
   {
    "duration": 4,
    "start_time": "2023-08-03T14:01:59.263Z"
   },
   {
    "duration": 4,
    "start_time": "2023-08-03T14:01:59.927Z"
   },
   {
    "duration": 8,
    "start_time": "2023-08-03T14:02:00.319Z"
   },
   {
    "duration": 26,
    "start_time": "2023-08-03T14:02:00.687Z"
   },
   {
    "duration": 21,
    "start_time": "2023-08-03T14:02:01.442Z"
   },
   {
    "duration": 26,
    "start_time": "2023-08-03T14:02:01.787Z"
   },
   {
    "duration": 19,
    "start_time": "2023-08-03T14:02:02.419Z"
   },
   {
    "duration": 3,
    "start_time": "2023-08-03T14:02:03.387Z"
   },
   {
    "duration": 21653,
    "start_time": "2023-08-03T14:02:03.685Z"
   },
   {
    "duration": 4,
    "start_time": "2023-08-03T14:02:25.340Z"
   },
   {
    "duration": 298,
    "start_time": "2023-08-03T14:02:25.347Z"
   },
   {
    "duration": 3,
    "start_time": "2023-08-03T14:02:25.647Z"
   },
   {
    "duration": 18,
    "start_time": "2023-08-03T14:02:25.652Z"
   },
   {
    "duration": 46,
    "start_time": "2023-08-03T14:02:25.672Z"
   },
   {
    "duration": 3,
    "start_time": "2023-08-03T14:02:25.720Z"
   },
   {
    "duration": 300912,
    "start_time": "2023-08-03T14:02:25.725Z"
   },
   {
    "duration": 4,
    "start_time": "2023-08-03T14:07:26.638Z"
   },
   {
    "duration": 28,
    "start_time": "2023-08-03T14:07:26.645Z"
   },
   {
    "duration": 72,
    "start_time": "2023-08-03T14:07:26.675Z"
   },
   {
    "duration": 15,
    "start_time": "2023-08-03T14:07:26.748Z"
   },
   {
    "duration": 44,
    "start_time": "2023-08-03T14:07:26.765Z"
   },
   {
    "duration": 18,
    "start_time": "2023-08-03T14:07:26.810Z"
   },
   {
    "duration": 258,
    "start_time": "2023-08-03T14:07:26.830Z"
   },
   {
    "duration": 25,
    "start_time": "2023-08-03T14:07:27.089Z"
   },
   {
    "duration": 251,
    "start_time": "2023-08-03T14:07:27.116Z"
   },
   {
    "duration": 15,
    "start_time": "2023-08-03T14:07:27.369Z"
   },
   {
    "duration": 3604,
    "start_time": "2023-08-04T11:30:47.572Z"
   },
   {
    "duration": 3407,
    "start_time": "2023-08-04T11:30:51.180Z"
   },
   {
    "duration": 96,
    "start_time": "2023-08-04T11:30:54.589Z"
   },
   {
    "duration": 20,
    "start_time": "2023-08-04T11:30:54.689Z"
   },
   {
    "duration": 59,
    "start_time": "2023-08-04T11:30:54.711Z"
   },
   {
    "duration": 18,
    "start_time": "2023-08-04T11:30:54.776Z"
   },
   {
    "duration": 105,
    "start_time": "2023-08-04T11:37:53.437Z"
   },
   {
    "duration": 24,
    "start_time": "2023-08-04T11:43:30.211Z"
   },
   {
    "duration": 153,
    "start_time": "2023-08-04T11:44:18.711Z"
   },
   {
    "duration": 195,
    "start_time": "2023-08-04T11:45:19.271Z"
   },
   {
    "duration": 38,
    "start_time": "2023-08-04T11:45:23.882Z"
   },
   {
    "duration": 34,
    "start_time": "2023-08-04T11:49:05.786Z"
   },
   {
    "duration": 24,
    "start_time": "2023-08-04T11:49:16.326Z"
   },
   {
    "duration": 47,
    "start_time": "2023-08-04T11:49:22.920Z"
   },
   {
    "duration": 484,
    "start_time": "2023-08-04T11:50:18.926Z"
   },
   {
    "duration": 454,
    "start_time": "2023-08-04T11:50:38.064Z"
   },
   {
    "duration": 385,
    "start_time": "2023-08-04T11:51:41.757Z"
   },
   {
    "duration": 655,
    "start_time": "2023-08-04T11:53:23.732Z"
   },
   {
    "duration": 557,
    "start_time": "2023-08-04T11:53:46.777Z"
   },
   {
    "duration": 521,
    "start_time": "2023-08-04T11:54:04.020Z"
   },
   {
    "duration": 7,
    "start_time": "2023-08-04T11:55:26.899Z"
   },
   {
    "duration": 2273,
    "start_time": "2023-08-04T11:55:36.542Z"
   },
   {
    "duration": 6,
    "start_time": "2023-08-04T11:55:38.818Z"
   },
   {
    "duration": 107,
    "start_time": "2023-08-04T11:55:38.825Z"
   },
   {
    "duration": 19,
    "start_time": "2023-08-04T11:55:38.934Z"
   },
   {
    "duration": 9,
    "start_time": "2023-08-04T11:55:38.954Z"
   },
   {
    "duration": 20,
    "start_time": "2023-08-04T11:55:38.965Z"
   },
   {
    "duration": 42,
    "start_time": "2023-08-04T11:55:38.988Z"
   },
   {
    "duration": 11,
    "start_time": "2023-08-04T11:55:39.032Z"
   },
   {
    "duration": 13,
    "start_time": "2023-08-04T11:55:39.045Z"
   },
   {
    "duration": 18,
    "start_time": "2023-08-04T11:55:39.073Z"
   },
   {
    "duration": 935,
    "start_time": "2023-08-04T11:55:39.092Z"
   },
   {
    "duration": 43,
    "start_time": "2023-08-04T11:55:40.029Z"
   },
   {
    "duration": 80,
    "start_time": "2023-08-04T11:55:40.078Z"
   },
   {
    "duration": 649,
    "start_time": "2023-08-04T11:55:40.160Z"
   },
   {
    "duration": 283,
    "start_time": "2023-08-04T11:55:40.811Z"
   },
   {
    "duration": 21,
    "start_time": "2023-08-04T11:55:41.097Z"
   },
   {
    "duration": 634,
    "start_time": "2023-08-04T11:55:41.120Z"
   },
   {
    "duration": 19,
    "start_time": "2023-08-04T11:55:41.756Z"
   },
   {
    "duration": 12,
    "start_time": "2023-08-04T11:55:41.777Z"
   },
   {
    "duration": 16,
    "start_time": "2023-08-04T11:55:41.791Z"
   },
   {
    "duration": 18,
    "start_time": "2023-08-04T11:55:41.809Z"
   },
   {
    "duration": 28,
    "start_time": "2023-08-04T11:55:41.830Z"
   },
   {
    "duration": 8,
    "start_time": "2023-08-04T11:55:41.860Z"
   },
   {
    "duration": 21,
    "start_time": "2023-08-04T11:55:41.870Z"
   },
   {
    "duration": 2168,
    "start_time": "2023-08-04T12:32:08.616Z"
   },
   {
    "duration": 1878,
    "start_time": "2023-08-04T12:32:10.786Z"
   },
   {
    "duration": 235,
    "start_time": "2023-08-04T12:32:12.666Z"
   },
   {
    "duration": 20,
    "start_time": "2023-08-04T12:32:12.903Z"
   },
   {
    "duration": 9,
    "start_time": "2023-08-04T12:32:12.925Z"
   },
   {
    "duration": 14,
    "start_time": "2023-08-04T12:32:12.935Z"
   },
   {
    "duration": 35,
    "start_time": "2023-08-04T12:32:12.951Z"
   },
   {
    "duration": 25,
    "start_time": "2023-08-04T12:32:12.988Z"
   },
   {
    "duration": 47,
    "start_time": "2023-08-04T12:32:13.015Z"
   },
   {
    "duration": 56,
    "start_time": "2023-08-04T12:32:13.066Z"
   },
   {
    "duration": 1009,
    "start_time": "2023-08-04T12:32:13.124Z"
   },
   {
    "duration": 21,
    "start_time": "2023-08-04T12:32:14.134Z"
   },
   {
    "duration": 39,
    "start_time": "2023-08-04T12:32:14.156Z"
   },
   {
    "duration": 541,
    "start_time": "2023-08-04T12:32:14.197Z"
   },
   {
    "duration": 83,
    "start_time": "2023-08-04T12:32:14.740Z"
   },
   {
    "duration": 20,
    "start_time": "2023-08-04T12:32:14.825Z"
   },
   {
    "duration": 552,
    "start_time": "2023-08-04T12:32:14.847Z"
   },
   {
    "duration": 5,
    "start_time": "2023-08-04T12:32:15.401Z"
   },
   {
    "duration": 31,
    "start_time": "2023-08-04T12:32:15.408Z"
   },
   {
    "duration": 34,
    "start_time": "2023-08-04T12:32:15.442Z"
   },
   {
    "duration": 25,
    "start_time": "2023-08-04T12:32:15.478Z"
   },
   {
    "duration": 36,
    "start_time": "2023-08-04T12:32:15.506Z"
   },
   {
    "duration": 15,
    "start_time": "2023-08-04T12:32:15.545Z"
   },
   {
    "duration": 34,
    "start_time": "2023-08-04T12:32:15.561Z"
   },
   {
    "duration": 10,
    "start_time": "2023-08-04T12:32:15.597Z"
   },
   {
    "duration": 676,
    "start_time": "2023-08-04T12:32:15.609Z"
   },
   {
    "duration": 867,
    "start_time": "2023-08-04T12:32:16.287Z"
   },
   {
    "duration": 953,
    "start_time": "2023-08-04T12:32:17.167Z"
   },
   {
    "duration": 8,
    "start_time": "2023-08-04T12:32:18.122Z"
   },
   {
    "duration": 9,
    "start_time": "2023-08-04T12:32:18.132Z"
   },
   {
    "duration": 619,
    "start_time": "2023-08-04T12:32:18.143Z"
   },
   {
    "duration": 583,
    "start_time": "2023-08-04T12:32:18.764Z"
   },
   {
    "duration": 401,
    "start_time": "2023-08-04T12:32:19.349Z"
   },
   {
    "duration": 23,
    "start_time": "2023-08-04T12:32:19.752Z"
   },
   {
    "duration": 16,
    "start_time": "2023-08-04T12:32:19.777Z"
   },
   {
    "duration": 25,
    "start_time": "2023-08-04T12:32:19.794Z"
   },
   {
    "duration": 17,
    "start_time": "2023-08-04T12:32:19.821Z"
   },
   {
    "duration": 41,
    "start_time": "2023-08-04T12:32:19.840Z"
   },
   {
    "duration": 935,
    "start_time": "2023-08-04T12:32:19.884Z"
   },
   {
    "duration": 17,
    "start_time": "2023-08-04T12:32:20.821Z"
   },
   {
    "duration": 251,
    "start_time": "2023-08-04T12:32:20.840Z"
   },
   {
    "duration": 32,
    "start_time": "2023-08-04T12:32:21.093Z"
   },
   {
    "duration": 23,
    "start_time": "2023-08-04T12:32:21.127Z"
   },
   {
    "duration": 29,
    "start_time": "2023-08-04T12:32:21.152Z"
   },
   {
    "duration": 48,
    "start_time": "2023-08-04T12:32:21.183Z"
   },
   {
    "duration": 36,
    "start_time": "2023-08-04T12:32:21.233Z"
   },
   {
    "duration": 39,
    "start_time": "2023-08-04T12:32:21.272Z"
   },
   {
    "duration": 336,
    "start_time": "2023-08-04T12:32:21.313Z"
   },
   {
    "duration": 16,
    "start_time": "2023-08-04T12:32:21.651Z"
   },
   {
    "duration": 81,
    "start_time": "2023-08-04T12:32:21.669Z"
   },
   {
    "duration": 58,
    "start_time": "2023-08-04T12:32:21.752Z"
   },
   {
    "duration": 22,
    "start_time": "2023-08-04T12:32:21.812Z"
   },
   {
    "duration": 758,
    "start_time": "2023-08-04T12:32:21.836Z"
   },
   {
    "duration": 23,
    "start_time": "2023-08-04T12:32:22.596Z"
   },
   {
    "duration": 1245,
    "start_time": "2023-08-04T12:32:22.622Z"
   },
   {
    "duration": 27,
    "start_time": "2023-08-04T12:32:23.869Z"
   },
   {
    "duration": 222,
    "start_time": "2023-08-04T12:32:23.898Z"
   },
   {
    "duration": 0,
    "start_time": "2023-08-04T12:32:24.122Z"
   },
   {
    "duration": 0,
    "start_time": "2023-08-04T12:32:24.124Z"
   },
   {
    "duration": 0,
    "start_time": "2023-08-04T12:32:24.125Z"
   },
   {
    "duration": 0,
    "start_time": "2023-08-04T12:32:24.126Z"
   },
   {
    "duration": 0,
    "start_time": "2023-08-04T12:32:24.127Z"
   },
   {
    "duration": 0,
    "start_time": "2023-08-04T12:32:24.128Z"
   },
   {
    "duration": 0,
    "start_time": "2023-08-04T12:32:24.130Z"
   },
   {
    "duration": 0,
    "start_time": "2023-08-04T12:32:24.131Z"
   },
   {
    "duration": 0,
    "start_time": "2023-08-04T12:32:24.132Z"
   },
   {
    "duration": 0,
    "start_time": "2023-08-04T12:32:24.134Z"
   },
   {
    "duration": 0,
    "start_time": "2023-08-04T12:32:24.135Z"
   },
   {
    "duration": 0,
    "start_time": "2023-08-04T12:32:24.167Z"
   },
   {
    "duration": 0,
    "start_time": "2023-08-04T12:32:24.169Z"
   },
   {
    "duration": 0,
    "start_time": "2023-08-04T12:32:24.170Z"
   },
   {
    "duration": 0,
    "start_time": "2023-08-04T12:32:24.171Z"
   },
   {
    "duration": 0,
    "start_time": "2023-08-04T12:32:24.172Z"
   },
   {
    "duration": 0,
    "start_time": "2023-08-04T12:32:24.174Z"
   },
   {
    "duration": 0,
    "start_time": "2023-08-04T12:32:24.175Z"
   },
   {
    "duration": 0,
    "start_time": "2023-08-04T12:32:24.176Z"
   },
   {
    "duration": 0,
    "start_time": "2023-08-04T12:32:24.178Z"
   },
   {
    "duration": 0,
    "start_time": "2023-08-04T12:32:24.179Z"
   },
   {
    "duration": 0,
    "start_time": "2023-08-04T12:32:24.180Z"
   },
   {
    "duration": 0,
    "start_time": "2023-08-04T12:32:24.181Z"
   },
   {
    "duration": 0,
    "start_time": "2023-08-04T12:32:24.182Z"
   },
   {
    "duration": 0,
    "start_time": "2023-08-04T12:32:24.185Z"
   },
   {
    "duration": 0,
    "start_time": "2023-08-04T12:32:24.185Z"
   },
   {
    "duration": 86,
    "start_time": "2023-08-04T12:33:29.687Z"
   },
   {
    "duration": 52,
    "start_time": "2023-08-04T12:35:48.438Z"
   },
   {
    "duration": 49,
    "start_time": "2023-08-04T12:35:57.682Z"
   },
   {
    "duration": 62,
    "start_time": "2023-08-04T12:36:23.248Z"
   },
   {
    "duration": 58,
    "start_time": "2023-08-04T12:36:30.338Z"
   },
   {
    "duration": 49,
    "start_time": "2023-08-04T12:36:35.999Z"
   },
   {
    "duration": 4,
    "start_time": "2023-08-04T12:37:03.112Z"
   },
   {
    "duration": 18,
    "start_time": "2023-08-04T12:37:03.119Z"
   },
   {
    "duration": 24,
    "start_time": "2023-08-04T12:37:03.140Z"
   },
   {
    "duration": 16,
    "start_time": "2023-08-04T12:37:03.168Z"
   },
   {
    "duration": 21,
    "start_time": "2023-08-04T12:37:03.186Z"
   },
   {
    "duration": 169,
    "start_time": "2023-08-04T12:37:03.208Z"
   },
   {
    "duration": 99,
    "start_time": "2023-08-04T12:37:03.380Z"
   },
   {
    "duration": 4,
    "start_time": "2023-08-04T12:37:03.481Z"
   },
   {
    "duration": 21392,
    "start_time": "2023-08-04T12:37:03.487Z"
   },
   {
    "duration": 5,
    "start_time": "2023-08-04T12:37:24.885Z"
   },
   {
    "duration": 359,
    "start_time": "2023-08-04T12:37:24.894Z"
   },
   {
    "duration": 20,
    "start_time": "2023-08-04T12:37:25.255Z"
   },
   {
    "duration": 12,
    "start_time": "2023-08-04T12:37:25.277Z"
   },
   {
    "duration": 45,
    "start_time": "2023-08-04T12:37:25.292Z"
   },
   {
    "duration": 3,
    "start_time": "2023-08-04T12:37:25.338Z"
   },
   {
    "duration": 316747,
    "start_time": "2023-08-04T12:37:25.343Z"
   },
   {
    "duration": 4,
    "start_time": "2023-08-04T12:42:42.092Z"
   },
   {
    "duration": 18,
    "start_time": "2023-08-04T12:42:42.098Z"
   },
   {
    "duration": 35,
    "start_time": "2023-08-04T12:42:42.117Z"
   },
   {
    "duration": 17,
    "start_time": "2023-08-04T12:42:42.173Z"
   },
   {
    "duration": 11,
    "start_time": "2023-08-04T12:42:42.192Z"
   },
   {
    "duration": 13,
    "start_time": "2023-08-04T12:42:42.205Z"
   },
   {
    "duration": 314,
    "start_time": "2023-08-04T12:42:42.220Z"
   },
   {
    "duration": 17,
    "start_time": "2023-08-04T12:42:42.536Z"
   },
   {
    "duration": 296,
    "start_time": "2023-08-04T12:42:42.554Z"
   },
   {
    "duration": 30,
    "start_time": "2023-08-04T12:42:42.852Z"
   },
   {
    "duration": 143,
    "start_time": "2023-08-04T12:42:42.889Z"
   },
   {
    "duration": 4,
    "start_time": "2023-08-04T12:46:03.589Z"
   },
   {
    "duration": 11,
    "start_time": "2023-08-04T12:47:15.833Z"
   },
   {
    "duration": 12,
    "start_time": "2023-08-04T12:48:21.206Z"
   },
   {
    "duration": 3229,
    "start_time": "2023-08-07T08:28:23.198Z"
   },
   {
    "duration": 1556,
    "start_time": "2023-08-07T08:28:26.429Z"
   },
   {
    "duration": 58,
    "start_time": "2023-08-07T08:28:27.987Z"
   },
   {
    "duration": 15,
    "start_time": "2023-08-07T08:28:28.264Z"
   },
   {
    "duration": 4,
    "start_time": "2023-08-07T08:28:28.774Z"
   },
   {
    "duration": 3,
    "start_time": "2023-08-07T08:28:32.492Z"
   },
   {
    "duration": 22,
    "start_time": "2023-08-07T08:28:33.071Z"
   },
   {
    "duration": 8,
    "start_time": "2023-08-07T08:28:33.639Z"
   },
   {
    "duration": 879,
    "start_time": "2023-08-07T08:29:14.917Z"
   },
   {
    "duration": 18,
    "start_time": "2023-08-07T08:29:29.191Z"
   },
   {
    "duration": 30,
    "start_time": "2023-08-07T08:29:29.601Z"
   },
   {
    "duration": 11,
    "start_time": "2023-08-07T08:31:51.894Z"
   },
   {
    "duration": 11,
    "start_time": "2023-08-07T08:32:56.227Z"
   },
   {
    "duration": 14,
    "start_time": "2023-08-07T08:33:05.315Z"
   },
   {
    "duration": 117,
    "start_time": "2023-08-07T08:33:14.512Z"
   },
   {
    "duration": 13,
    "start_time": "2023-08-07T08:33:20.386Z"
   },
   {
    "duration": 80,
    "start_time": "2023-08-07T08:33:32.492Z"
   },
   {
    "duration": 56,
    "start_time": "2023-08-07T08:33:35.832Z"
   },
   {
    "duration": 777,
    "start_time": "2023-08-07T08:33:44.322Z"
   },
   {
    "duration": 23,
    "start_time": "2023-08-07T08:33:48.865Z"
   },
   {
    "duration": 5,
    "start_time": "2023-08-07T08:33:57.450Z"
   },
   {
    "duration": 7,
    "start_time": "2023-08-07T08:34:04.878Z"
   },
   {
    "duration": 6,
    "start_time": "2023-08-07T08:34:31.489Z"
   },
   {
    "duration": 10,
    "start_time": "2023-08-07T08:34:34.912Z"
   },
   {
    "duration": 5,
    "start_time": "2023-08-07T08:34:38.817Z"
   },
   {
    "duration": 11,
    "start_time": "2023-08-07T08:39:49.016Z"
   },
   {
    "duration": 11,
    "start_time": "2023-08-07T08:40:27.466Z"
   },
   {
    "duration": 10,
    "start_time": "2023-08-07T08:40:48.241Z"
   },
   {
    "duration": 14,
    "start_time": "2023-08-07T08:41:51.767Z"
   },
   {
    "duration": 9,
    "start_time": "2023-08-07T08:42:16.974Z"
   },
   {
    "duration": 10,
    "start_time": "2023-08-07T08:42:25.025Z"
   },
   {
    "duration": 23,
    "start_time": "2023-08-07T08:46:18.301Z"
   },
   {
    "duration": 20,
    "start_time": "2023-08-07T08:47:09.728Z"
   },
   {
    "duration": 29982,
    "start_time": "2023-08-07T08:48:29.336Z"
   },
   {
    "duration": 2324,
    "start_time": "2023-08-07T08:49:30.109Z"
   },
   {
    "duration": 1640,
    "start_time": "2023-08-07T08:49:32.435Z"
   },
   {
    "duration": 80,
    "start_time": "2023-08-07T08:49:34.077Z"
   },
   {
    "duration": 16,
    "start_time": "2023-08-07T08:49:34.159Z"
   },
   {
    "duration": 25,
    "start_time": "2023-08-07T08:49:34.177Z"
   },
   {
    "duration": 23,
    "start_time": "2023-08-07T08:49:34.203Z"
   },
   {
    "duration": 28,
    "start_time": "2023-08-07T08:49:34.449Z"
   },
   {
    "duration": 11,
    "start_time": "2023-08-07T08:49:34.896Z"
   },
   {
    "duration": 3,
    "start_time": "2023-08-07T08:49:37.237Z"
   },
   {
    "duration": 835,
    "start_time": "2023-08-07T08:49:41.035Z"
   },
   {
    "duration": 19,
    "start_time": "2023-08-07T08:49:44.152Z"
   },
   {
    "duration": 33,
    "start_time": "2023-08-07T08:49:44.736Z"
   },
   {
    "duration": 12,
    "start_time": "2023-08-07T08:49:46.835Z"
   },
   {
    "duration": 870,
    "start_time": "2023-08-07T08:49:47.381Z"
   },
   {
    "duration": 12,
    "start_time": "2023-08-07T08:49:51.006Z"
   },
   {
    "duration": 594,
    "start_time": "2023-08-07T08:49:55.256Z"
   },
   {
    "duration": 20,
    "start_time": "2023-08-07T08:49:57.757Z"
   },
   {
    "duration": 80,
    "start_time": "2023-08-07T08:49:59.149Z"
   },
   {
    "duration": 73513,
    "start_time": "2023-08-07T08:50:03.925Z"
   },
   {
    "duration": 3210,
    "start_time": "2023-08-08T10:27:37.932Z"
   },
   {
    "duration": 1751,
    "start_time": "2023-08-08T10:27:41.144Z"
   },
   {
    "duration": 71,
    "start_time": "2023-08-08T10:27:46.610Z"
   },
   {
    "duration": 18,
    "start_time": "2023-08-08T10:27:47.085Z"
   },
   {
    "duration": 5,
    "start_time": "2023-08-08T10:27:48.062Z"
   },
   {
    "duration": 4,
    "start_time": "2023-08-08T10:27:49.240Z"
   },
   {
    "duration": 28,
    "start_time": "2023-08-08T10:27:49.910Z"
   },
   {
    "duration": 10,
    "start_time": "2023-08-08T10:27:50.727Z"
   },
   {
    "duration": 4,
    "start_time": "2023-08-08T10:27:54.186Z"
   },
   {
    "duration": 921,
    "start_time": "2023-08-08T10:27:55.223Z"
   },
   {
    "duration": 20,
    "start_time": "2023-08-08T10:27:57.826Z"
   },
   {
    "duration": 32,
    "start_time": "2023-08-08T10:27:58.508Z"
   },
   {
    "duration": 6,
    "start_time": "2023-08-08T10:28:01.027Z"
   },
   {
    "duration": 12,
    "start_time": "2023-08-08T10:28:03.663Z"
   },
   {
    "duration": 633,
    "start_time": "2023-08-08T10:28:04.627Z"
   },
   {
    "duration": 609,
    "start_time": "2023-08-08T10:28:10.416Z"
   },
   {
    "duration": 9,
    "start_time": "2023-08-08T10:28:11.028Z"
   },
   {
    "duration": 13,
    "start_time": "2023-08-08T10:28:12.945Z"
   },
   {
    "duration": 866,
    "start_time": "2023-08-08T10:28:13.381Z"
   },
   {
    "duration": 37,
    "start_time": "2023-08-08T10:28:14.249Z"
   },
   {
    "duration": 29,
    "start_time": "2023-08-08T10:28:14.288Z"
   },
   {
    "duration": 508,
    "start_time": "2023-08-08T10:28:14.512Z"
   },
   {
    "duration": 5,
    "start_time": "2023-08-08T10:28:43.632Z"
   },
   {
    "duration": 8,
    "start_time": "2023-08-08T10:28:45.610Z"
   },
   {
    "duration": 4,
    "start_time": "2023-08-08T10:28:46.687Z"
   },
   {
    "duration": 4,
    "start_time": "2023-08-08T10:28:47.807Z"
   },
   {
    "duration": 22,
    "start_time": "2023-08-08T10:28:51.351Z"
   },
   {
    "duration": 12,
    "start_time": "2023-08-08T10:28:51.625Z"
   },
   {
    "duration": 544,
    "start_time": "2023-08-08T10:28:54.139Z"
   },
   {
    "duration": 1027,
    "start_time": "2023-08-08T10:28:54.911Z"
   },
   {
    "duration": 7,
    "start_time": "2023-08-08T10:28:57.842Z"
   },
   {
    "duration": 6,
    "start_time": "2023-08-08T10:29:01.396Z"
   },
   {
    "duration": 843,
    "start_time": "2023-08-08T10:29:01.992Z"
   },
   {
    "duration": 6,
    "start_time": "2023-08-08T10:29:16.187Z"
   },
   {
    "duration": 1552,
    "start_time": "2023-08-08T10:29:16.951Z"
   },
   {
    "duration": 354,
    "start_time": "2023-08-08T10:29:27.505Z"
   },
   {
    "duration": 18,
    "start_time": "2023-08-08T10:29:30.789Z"
   },
   {
    "duration": 15,
    "start_time": "2023-08-08T10:29:33.307Z"
   },
   {
    "duration": 18,
    "start_time": "2023-08-08T10:29:33.880Z"
   },
   {
    "duration": 9,
    "start_time": "2023-08-08T10:29:34.398Z"
   },
   {
    "duration": 22,
    "start_time": "2023-08-08T10:29:34.862Z"
   },
   {
    "duration": 19,
    "start_time": "2023-08-08T10:29:35.349Z"
   },
   {
    "duration": 1261,
    "start_time": "2023-08-08T10:29:44.074Z"
   },
   {
    "duration": 18,
    "start_time": "2023-08-08T10:29:48.267Z"
   },
   {
    "duration": 13,
    "start_time": "2023-08-08T10:29:48.692Z"
   },
   {
    "duration": 8,
    "start_time": "2023-08-08T10:29:49.079Z"
   },
   {
    "duration": 7,
    "start_time": "2023-08-08T10:29:49.417Z"
   },
   {
    "duration": 6,
    "start_time": "2023-08-08T10:29:50.634Z"
   },
   {
    "duration": 14,
    "start_time": "2023-08-08T10:29:54.388Z"
   },
   {
    "duration": 309,
    "start_time": "2023-08-08T10:29:54.935Z"
   },
   {
    "duration": 3,
    "start_time": "2023-08-08T10:30:09.549Z"
   },
   {
    "duration": 21,
    "start_time": "2023-08-08T10:30:13.656Z"
   },
   {
    "duration": 3,
    "start_time": "2023-08-08T10:30:14.776Z"
   },
   {
    "duration": 15,
    "start_time": "2023-08-08T10:30:15.228Z"
   },
   {
    "duration": 269,
    "start_time": "2023-08-08T10:30:15.882Z"
   },
   {
    "duration": 8,
    "start_time": "2023-08-08T10:30:19.775Z"
   },
   {
    "duration": 17,
    "start_time": "2023-08-08T10:30:20.786Z"
   },
   {
    "duration": 4,
    "start_time": "2023-08-08T10:30:29.526Z"
   },
   {
    "duration": 5,
    "start_time": "2023-08-08T10:30:31.173Z"
   },
   {
    "duration": 10,
    "start_time": "2023-08-08T10:30:32.145Z"
   },
   {
    "duration": 2610,
    "start_time": "2023-08-08T10:30:32.507Z"
   },
   {
    "duration": 7,
    "start_time": "2023-08-08T10:30:35.120Z"
   },
   {
    "duration": 56,
    "start_time": "2023-08-08T10:30:35.129Z"
   },
   {
    "duration": 11,
    "start_time": "2023-08-08T10:30:38.990Z"
   },
   {
    "duration": 13,
    "start_time": "2023-08-08T10:30:40.492Z"
   },
   {
    "duration": 11,
    "start_time": "2023-08-08T10:30:41.116Z"
   },
   {
    "duration": 287,
    "start_time": "2023-08-08T10:30:42.477Z"
   },
   {
    "duration": 4,
    "start_time": "2023-08-08T10:30:46.801Z"
   },
   {
    "duration": 8,
    "start_time": "2023-08-08T10:30:54.187Z"
   },
   {
    "duration": 8,
    "start_time": "2023-08-08T10:30:54.888Z"
   },
   {
    "duration": 11,
    "start_time": "2023-08-08T10:30:55.516Z"
   },
   {
    "duration": 12,
    "start_time": "2023-08-08T10:30:57.141Z"
   },
   {
    "duration": 96,
    "start_time": "2023-08-08T10:30:57.663Z"
   },
   {
    "duration": 3,
    "start_time": "2023-08-08T10:31:01.343Z"
   },
   {
    "duration": 243,
    "start_time": "2023-08-08T10:31:03.686Z"
   },
   {
    "duration": 11,
    "start_time": "2023-08-08T10:31:05.754Z"
   },
   {
    "duration": 3,
    "start_time": "2023-08-08T10:31:11.697Z"
   },
   {
    "duration": 21995,
    "start_time": "2023-08-08T10:31:12.595Z"
   },
   {
    "duration": 6,
    "start_time": "2023-08-08T10:31:39.242Z"
   },
   {
    "duration": 275,
    "start_time": "2023-08-08T10:31:40.011Z"
   },
   {
    "duration": 3,
    "start_time": "2023-08-08T10:31:54.252Z"
   },
   {
    "duration": 10,
    "start_time": "2023-08-08T10:32:00.336Z"
   },
   {
    "duration": 23,
    "start_time": "2023-08-08T10:32:04.045Z"
   },
   {
    "duration": 297,
    "start_time": "2023-08-08T10:32:06.597Z"
   },
   {
    "duration": 3,
    "start_time": "2023-08-08T10:32:09.137Z"
   },
   {
    "duration": 314034,
    "start_time": "2023-08-08T10:32:09.945Z"
   },
   {
    "duration": 5,
    "start_time": "2023-08-08T10:37:23.981Z"
   },
   {
    "duration": 34,
    "start_time": "2023-08-08T10:37:23.987Z"
   },
   {
    "duration": 32,
    "start_time": "2023-08-08T10:37:24.023Z"
   },
   {
    "duration": 15,
    "start_time": "2023-08-08T10:37:24.057Z"
   },
   {
    "duration": 269,
    "start_time": "2023-08-08T10:37:24.074Z"
   },
   {
    "duration": 16,
    "start_time": "2023-08-08T10:37:24.345Z"
   },
   {
    "duration": 3,
    "start_time": "2023-08-08T10:38:18.781Z"
   },
   {
    "duration": 278,
    "start_time": "2023-08-08T10:38:19.670Z"
   },
   {
    "duration": 20,
    "start_time": "2023-08-08T10:38:21.224Z"
   },
   {
    "duration": 3,
    "start_time": "2023-08-08T10:45:10.989Z"
   },
   {
    "duration": 277,
    "start_time": "2023-08-08T10:45:11.660Z"
   },
   {
    "duration": 20,
    "start_time": "2023-08-08T10:45:12.167Z"
   },
   {
    "duration": 215,
    "start_time": "2023-08-08T10:45:13.066Z"
   },
   {
    "duration": 286,
    "start_time": "2023-08-08T10:45:19.237Z"
   },
   {
    "duration": 19,
    "start_time": "2023-08-08T10:45:19.885Z"
   },
   {
    "duration": 163,
    "start_time": "2023-08-08T14:05:13.440Z"
   },
   {
    "duration": 2467,
    "start_time": "2023-08-08T14:08:32.579Z"
   },
   {
    "duration": 4215,
    "start_time": "2023-08-08T14:08:35.048Z"
   },
   {
    "duration": 256,
    "start_time": "2023-08-08T14:08:39.276Z"
   },
   {
    "duration": 16,
    "start_time": "2023-08-08T14:08:39.534Z"
   },
   {
    "duration": 12,
    "start_time": "2023-08-08T14:08:39.552Z"
   },
   {
    "duration": 16,
    "start_time": "2023-08-08T14:08:39.565Z"
   },
   {
    "duration": 50,
    "start_time": "2023-08-08T14:08:39.583Z"
   },
   {
    "duration": 9,
    "start_time": "2023-08-08T14:08:39.635Z"
   },
   {
    "duration": 21,
    "start_time": "2023-08-08T14:08:39.645Z"
   },
   {
    "duration": 982,
    "start_time": "2023-08-08T14:08:39.668Z"
   },
   {
    "duration": 34,
    "start_time": "2023-08-08T14:08:40.656Z"
   },
   {
    "duration": 33,
    "start_time": "2023-08-08T14:08:40.693Z"
   },
   {
    "duration": 6,
    "start_time": "2023-08-08T14:08:40.727Z"
   },
   {
    "duration": 41,
    "start_time": "2023-08-08T14:08:40.735Z"
   },
   {
    "duration": 721,
    "start_time": "2023-08-08T14:08:40.778Z"
   },
   {
    "duration": 614,
    "start_time": "2023-08-08T14:08:41.501Z"
   },
   {
    "duration": 8,
    "start_time": "2023-08-08T14:08:42.118Z"
   },
   {
    "duration": 35,
    "start_time": "2023-08-08T14:08:42.128Z"
   },
   {
    "duration": 982,
    "start_time": "2023-08-08T14:08:42.165Z"
   },
   {
    "duration": 42,
    "start_time": "2023-08-08T14:08:43.149Z"
   },
   {
    "duration": 6,
    "start_time": "2023-08-08T14:09:41.508Z"
   },
   {
    "duration": 134,
    "start_time": "2023-08-08T14:24:54.692Z"
   },
   {
    "duration": 2507,
    "start_time": "2023-08-08T14:26:26.785Z"
   },
   {
    "duration": 2234,
    "start_time": "2023-08-08T14:26:29.295Z"
   },
   {
    "duration": 185,
    "start_time": "2023-08-08T14:26:31.531Z"
   },
   {
    "duration": 19,
    "start_time": "2023-08-08T14:26:31.718Z"
   },
   {
    "duration": 49,
    "start_time": "2023-08-08T14:26:31.739Z"
   },
   {
    "duration": 49,
    "start_time": "2023-08-08T14:26:31.791Z"
   },
   {
    "duration": 80,
    "start_time": "2023-08-08T14:26:31.842Z"
   },
   {
    "duration": 8,
    "start_time": "2023-08-08T14:26:31.924Z"
   },
   {
    "duration": 35,
    "start_time": "2023-08-08T14:26:31.934Z"
   },
   {
    "duration": 1049,
    "start_time": "2023-08-08T14:26:31.971Z"
   },
   {
    "duration": 35,
    "start_time": "2023-08-08T14:26:33.022Z"
   },
   {
    "duration": 42,
    "start_time": "2023-08-08T14:26:33.060Z"
   },
   {
    "duration": 7,
    "start_time": "2023-08-08T14:26:33.104Z"
   },
   {
    "duration": 26,
    "start_time": "2023-08-08T14:26:33.114Z"
   },
   {
    "duration": 832,
    "start_time": "2023-08-08T14:26:33.157Z"
   },
   {
    "duration": 644,
    "start_time": "2023-08-08T14:26:33.991Z"
   },
   {
    "duration": 22,
    "start_time": "2023-08-08T14:26:34.637Z"
   },
   {
    "duration": 17,
    "start_time": "2023-08-08T14:26:34.666Z"
   },
   {
    "duration": 1052,
    "start_time": "2023-08-08T14:26:34.685Z"
   },
   {
    "duration": 6,
    "start_time": "2023-08-08T14:26:35.738Z"
   },
   {
    "duration": 65,
    "start_time": "2023-08-08T14:26:35.746Z"
   },
   {
    "duration": 10,
    "start_time": "2023-08-08T14:26:35.814Z"
   },
   {
    "duration": 608,
    "start_time": "2023-08-08T14:26:35.826Z"
   },
   {
    "duration": 5,
    "start_time": "2023-08-08T14:26:36.436Z"
   },
   {
    "duration": 21,
    "start_time": "2023-08-08T14:26:36.443Z"
   },
   {
    "duration": 13,
    "start_time": "2023-08-08T14:26:36.466Z"
   },
   {
    "duration": 13,
    "start_time": "2023-08-08T14:26:36.483Z"
   },
   {
    "duration": 26,
    "start_time": "2023-08-08T14:26:36.498Z"
   },
   {
    "duration": 11,
    "start_time": "2023-08-08T14:26:36.526Z"
   },
   {
    "duration": 642,
    "start_time": "2023-08-08T14:26:36.563Z"
   },
   {
    "duration": 1136,
    "start_time": "2023-08-08T14:26:37.208Z"
   },
   {
    "duration": 19,
    "start_time": "2023-08-08T14:26:38.346Z"
   },
   {
    "duration": 15,
    "start_time": "2023-08-08T14:26:38.367Z"
   },
   {
    "duration": 977,
    "start_time": "2023-08-08T14:26:38.385Z"
   },
   {
    "duration": 17,
    "start_time": "2023-08-08T14:26:39.367Z"
   },
   {
    "duration": 1568,
    "start_time": "2023-08-08T14:26:39.391Z"
   },
   {
    "duration": 403,
    "start_time": "2023-08-08T14:26:40.963Z"
   },
   {
    "duration": 26,
    "start_time": "2023-08-08T14:26:41.371Z"
   },
   {
    "duration": 15,
    "start_time": "2023-08-08T14:26:41.399Z"
   },
   {
    "duration": 17,
    "start_time": "2023-08-08T14:26:41.415Z"
   },
   {
    "duration": 39,
    "start_time": "2023-08-08T14:26:41.436Z"
   },
   {
    "duration": 23,
    "start_time": "2023-08-08T14:26:41.477Z"
   },
   {
    "duration": 18,
    "start_time": "2023-08-08T14:26:41.501Z"
   },
   {
    "duration": 1409,
    "start_time": "2023-08-08T14:26:41.521Z"
   },
   {
    "duration": 39,
    "start_time": "2023-08-08T14:26:42.932Z"
   },
   {
    "duration": 20,
    "start_time": "2023-08-08T14:26:42.972Z"
   },
   {
    "duration": 12,
    "start_time": "2023-08-08T14:26:42.998Z"
   },
   {
    "duration": 25,
    "start_time": "2023-08-08T14:26:43.012Z"
   },
   {
    "duration": 41,
    "start_time": "2023-08-08T14:26:43.039Z"
   },
   {
    "duration": 24,
    "start_time": "2023-08-08T14:26:43.089Z"
   },
   {
    "duration": 298,
    "start_time": "2023-08-08T14:26:43.115Z"
   },
   {
    "duration": 3,
    "start_time": "2023-08-08T14:26:43.415Z"
   },
   {
    "duration": 40,
    "start_time": "2023-08-08T14:26:43.420Z"
   },
   {
    "duration": 10,
    "start_time": "2023-08-08T14:26:43.463Z"
   },
   {
    "duration": 36,
    "start_time": "2023-08-08T14:26:43.475Z"
   },
   {
    "duration": 336,
    "start_time": "2023-08-08T14:26:43.512Z"
   },
   {
    "duration": 18,
    "start_time": "2023-08-08T14:26:43.851Z"
   },
   {
    "duration": 30,
    "start_time": "2023-08-08T14:26:43.873Z"
   },
   {
    "duration": 5,
    "start_time": "2023-08-08T14:26:43.906Z"
   },
   {
    "duration": 12,
    "start_time": "2023-08-08T14:26:43.914Z"
   },
   {
    "duration": 35,
    "start_time": "2023-08-08T14:26:43.929Z"
   },
   {
    "duration": 3060,
    "start_time": "2023-08-08T14:26:43.970Z"
   },
   {
    "duration": 6,
    "start_time": "2023-08-08T14:26:47.032Z"
   },
   {
    "duration": 27,
    "start_time": "2023-08-08T14:26:47.040Z"
   },
   {
    "duration": 28,
    "start_time": "2023-08-08T14:26:47.070Z"
   },
   {
    "duration": 10,
    "start_time": "2023-08-08T14:26:47.100Z"
   },
   {
    "duration": 14,
    "start_time": "2023-08-08T14:26:47.112Z"
   },
   {
    "duration": 412,
    "start_time": "2023-08-08T14:26:47.128Z"
   },
   {
    "duration": 4,
    "start_time": "2023-08-08T14:26:47.542Z"
   },
   {
    "duration": 23,
    "start_time": "2023-08-08T14:26:47.549Z"
   },
   {
    "duration": 14,
    "start_time": "2023-08-08T14:26:47.574Z"
   },
   {
    "duration": 20,
    "start_time": "2023-08-08T14:26:47.590Z"
   },
   {
    "duration": 19,
    "start_time": "2023-08-08T14:26:47.612Z"
   },
   {
    "duration": 113,
    "start_time": "2023-08-08T14:26:47.665Z"
   },
   {
    "duration": 12,
    "start_time": "2023-08-08T14:26:47.790Z"
   },
   {
    "duration": 281,
    "start_time": "2023-08-08T14:26:47.858Z"
   },
   {
    "duration": 37,
    "start_time": "2023-08-08T14:26:48.141Z"
   },
   {
    "duration": 4,
    "start_time": "2023-08-08T14:26:48.180Z"
   },
   {
    "duration": 24165,
    "start_time": "2023-08-08T14:26:48.186Z"
   },
   {
    "duration": 12,
    "start_time": "2023-08-08T14:27:12.357Z"
   },
   {
    "duration": 353,
    "start_time": "2023-08-08T14:27:12.374Z"
   },
   {
    "duration": 5,
    "start_time": "2023-08-08T14:27:12.729Z"
   },
   {
    "duration": 39,
    "start_time": "2023-08-08T14:27:12.736Z"
   },
   {
    "duration": 38,
    "start_time": "2023-08-08T14:27:12.777Z"
   },
   {
    "duration": 293,
    "start_time": "2023-08-08T14:27:12.817Z"
   },
   {
    "duration": 2,
    "start_time": "2023-08-08T14:27:13.112Z"
   },
   {
    "duration": 2341,
    "start_time": "2023-08-08T14:28:19.084Z"
   },
   {
    "duration": 2147,
    "start_time": "2023-08-08T14:28:21.428Z"
   },
   {
    "duration": 137,
    "start_time": "2023-08-08T14:28:23.577Z"
   },
   {
    "duration": 20,
    "start_time": "2023-08-08T14:28:23.716Z"
   },
   {
    "duration": 6,
    "start_time": "2023-08-08T14:28:23.738Z"
   },
   {
    "duration": 19,
    "start_time": "2023-08-08T14:28:23.746Z"
   },
   {
    "duration": 50,
    "start_time": "2023-08-08T14:28:23.766Z"
   },
   {
    "duration": 10,
    "start_time": "2023-08-08T14:28:23.817Z"
   },
   {
    "duration": 5,
    "start_time": "2023-08-08T14:28:23.829Z"
   },
   {
    "duration": 985,
    "start_time": "2023-08-08T14:28:23.837Z"
   },
   {
    "duration": 37,
    "start_time": "2023-08-08T14:28:24.824Z"
   },
   {
    "duration": 39,
    "start_time": "2023-08-08T14:28:24.872Z"
   },
   {
    "duration": 7,
    "start_time": "2023-08-08T14:28:24.913Z"
   },
   {
    "duration": 17,
    "start_time": "2023-08-08T14:28:24.921Z"
   },
   {
    "duration": 704,
    "start_time": "2023-08-08T14:28:24.939Z"
   },
   {
    "duration": 585,
    "start_time": "2023-08-08T14:28:25.645Z"
   },
   {
    "duration": 8,
    "start_time": "2023-08-08T14:28:26.232Z"
   },
   {
    "duration": 31,
    "start_time": "2023-08-08T14:28:26.241Z"
   },
   {
    "duration": 984,
    "start_time": "2023-08-08T14:28:26.278Z"
   },
   {
    "duration": 7,
    "start_time": "2023-08-08T14:28:27.265Z"
   },
   {
    "duration": 52,
    "start_time": "2023-08-08T14:28:27.279Z"
   },
   {
    "duration": 8,
    "start_time": "2023-08-08T14:28:27.333Z"
   },
   {
    "duration": 578,
    "start_time": "2023-08-08T14:28:27.343Z"
   },
   {
    "duration": 6,
    "start_time": "2023-08-08T14:28:27.923Z"
   },
   {
    "duration": 43,
    "start_time": "2023-08-08T14:28:27.930Z"
   },
   {
    "duration": 15,
    "start_time": "2023-08-08T14:28:27.977Z"
   },
   {
    "duration": 18,
    "start_time": "2023-08-08T14:28:27.994Z"
   },
   {
    "duration": 24,
    "start_time": "2023-08-08T14:28:28.016Z"
   },
   {
    "duration": 18,
    "start_time": "2023-08-08T14:28:28.042Z"
   },
   {
    "duration": 682,
    "start_time": "2023-08-08T14:28:28.062Z"
   },
   {
    "duration": 1149,
    "start_time": "2023-08-08T14:28:28.746Z"
   },
   {
    "duration": 7,
    "start_time": "2023-08-08T14:28:29.897Z"
   },
   {
    "duration": 6,
    "start_time": "2023-08-08T14:28:29.906Z"
   },
   {
    "duration": 901,
    "start_time": "2023-08-08T14:28:29.914Z"
   },
   {
    "duration": 7,
    "start_time": "2023-08-08T14:28:30.817Z"
   },
   {
    "duration": 1595,
    "start_time": "2023-08-08T14:28:30.826Z"
   },
   {
    "duration": 407,
    "start_time": "2023-08-08T14:28:32.424Z"
   },
   {
    "duration": 34,
    "start_time": "2023-08-08T14:28:32.833Z"
   },
   {
    "duration": 18,
    "start_time": "2023-08-08T14:28:32.872Z"
   },
   {
    "duration": 18,
    "start_time": "2023-08-08T14:28:32.892Z"
   },
   {
    "duration": 9,
    "start_time": "2023-08-08T14:28:32.912Z"
   },
   {
    "duration": 62,
    "start_time": "2023-08-08T14:28:32.923Z"
   },
   {
    "duration": 16,
    "start_time": "2023-08-08T14:28:32.990Z"
   },
   {
    "duration": 1560,
    "start_time": "2023-08-08T14:28:33.008Z"
   },
   {
    "duration": 17,
    "start_time": "2023-08-08T14:28:34.569Z"
   },
   {
    "duration": 19,
    "start_time": "2023-08-08T14:28:34.588Z"
   },
   {
    "duration": 11,
    "start_time": "2023-08-08T14:28:34.610Z"
   },
   {
    "duration": 11,
    "start_time": "2023-08-08T14:28:34.623Z"
   },
   {
    "duration": 25,
    "start_time": "2023-08-08T14:28:34.659Z"
   },
   {
    "duration": 24,
    "start_time": "2023-08-08T14:28:34.691Z"
   },
   {
    "duration": 380,
    "start_time": "2023-08-08T14:28:34.717Z"
   },
   {
    "duration": 3,
    "start_time": "2023-08-08T14:28:35.099Z"
   },
   {
    "duration": 25,
    "start_time": "2023-08-08T14:28:35.103Z"
   },
   {
    "duration": 3,
    "start_time": "2023-08-08T14:28:35.130Z"
   },
   {
    "duration": 43,
    "start_time": "2023-08-08T14:28:35.134Z"
   },
   {
    "duration": 320,
    "start_time": "2023-08-08T14:28:35.179Z"
   },
   {
    "duration": 8,
    "start_time": "2023-08-08T14:28:35.501Z"
   },
   {
    "duration": 23,
    "start_time": "2023-08-08T14:28:35.512Z"
   },
   {
    "duration": 25,
    "start_time": "2023-08-08T14:28:35.537Z"
   },
   {
    "duration": 9,
    "start_time": "2023-08-08T14:28:35.570Z"
   },
   {
    "duration": 18,
    "start_time": "2023-08-08T14:28:35.583Z"
   },
   {
    "duration": 3142,
    "start_time": "2023-08-08T14:28:35.602Z"
   },
   {
    "duration": 19,
    "start_time": "2023-08-08T14:28:38.745Z"
   },
   {
    "duration": 29,
    "start_time": "2023-08-08T14:28:38.772Z"
   },
   {
    "duration": 16,
    "start_time": "2023-08-08T14:28:38.804Z"
   },
   {
    "duration": 14,
    "start_time": "2023-08-08T14:28:38.822Z"
   },
   {
    "duration": 18,
    "start_time": "2023-08-08T14:28:38.840Z"
   },
   {
    "duration": 418,
    "start_time": "2023-08-08T14:28:38.864Z"
   },
   {
    "duration": 10,
    "start_time": "2023-08-08T14:28:39.284Z"
   },
   {
    "duration": 23,
    "start_time": "2023-08-08T14:28:39.306Z"
   },
   {
    "duration": 32,
    "start_time": "2023-08-08T14:28:39.331Z"
   },
   {
    "duration": 39,
    "start_time": "2023-08-08T14:28:39.365Z"
   },
   {
    "duration": 58,
    "start_time": "2023-08-08T14:28:39.407Z"
   },
   {
    "duration": 126,
    "start_time": "2023-08-08T14:28:39.470Z"
   },
   {
    "duration": 10,
    "start_time": "2023-08-08T14:28:39.602Z"
   },
   {
    "duration": 285,
    "start_time": "2023-08-08T14:28:39.657Z"
   },
   {
    "duration": 26,
    "start_time": "2023-08-08T14:28:39.944Z"
   },
   {
    "duration": 5,
    "start_time": "2023-08-08T14:28:39.974Z"
   },
   {
    "duration": 23825,
    "start_time": "2023-08-08T14:28:39.985Z"
   },
   {
    "duration": 6,
    "start_time": "2023-08-08T14:29:03.813Z"
   },
   {
    "duration": 389,
    "start_time": "2023-08-08T14:29:03.821Z"
   },
   {
    "duration": 5,
    "start_time": "2023-08-08T14:29:04.217Z"
   },
   {
    "duration": 23,
    "start_time": "2023-08-08T14:29:04.224Z"
   },
   {
    "duration": 40,
    "start_time": "2023-08-08T14:29:04.256Z"
   },
   {
    "duration": 269,
    "start_time": "2023-08-08T14:29:04.298Z"
   },
   {
    "duration": 4,
    "start_time": "2023-08-08T14:29:04.569Z"
   },
   {
    "duration": 328446,
    "start_time": "2023-08-08T14:29:04.575Z"
   },
   {
    "duration": 5,
    "start_time": "2023-08-08T14:34:33.023Z"
   },
   {
    "duration": 31,
    "start_time": "2023-08-08T14:34:33.029Z"
   },
   {
    "duration": 27,
    "start_time": "2023-08-08T14:34:33.065Z"
   },
   {
    "duration": 12,
    "start_time": "2023-08-08T14:34:33.094Z"
   },
   {
    "duration": 316,
    "start_time": "2023-08-08T14:34:33.108Z"
   },
   {
    "duration": 10,
    "start_time": "2023-08-08T14:34:33.426Z"
   },
   {
    "duration": 22,
    "start_time": "2023-08-08T14:34:33.438Z"
   },
   {
    "duration": 303,
    "start_time": "2023-08-08T14:34:33.462Z"
   },
   {
    "duration": 22,
    "start_time": "2023-08-08T14:34:33.772Z"
   },
   {
    "duration": 309,
    "start_time": "2023-08-08T14:34:33.797Z"
   },
   {
    "duration": 20,
    "start_time": "2023-08-08T14:34:34.108Z"
   },
   {
    "duration": 2256,
    "start_time": "2023-08-08T14:43:12.208Z"
   },
   {
    "duration": 2157,
    "start_time": "2023-08-08T14:43:14.466Z"
   },
   {
    "duration": 72,
    "start_time": "2023-08-08T14:43:16.625Z"
   },
   {
    "duration": 19,
    "start_time": "2023-08-08T14:43:16.700Z"
   },
   {
    "duration": 5,
    "start_time": "2023-08-08T14:43:16.721Z"
   },
   {
    "duration": 13,
    "start_time": "2023-08-08T14:43:16.727Z"
   },
   {
    "duration": 46,
    "start_time": "2023-08-08T14:43:16.742Z"
   },
   {
    "duration": 8,
    "start_time": "2023-08-08T14:43:16.790Z"
   },
   {
    "duration": 8,
    "start_time": "2023-08-08T14:43:16.799Z"
   },
   {
    "duration": 968,
    "start_time": "2023-08-08T14:43:16.809Z"
   },
   {
    "duration": 20,
    "start_time": "2023-08-08T14:43:17.779Z"
   },
   {
    "duration": 32,
    "start_time": "2023-08-08T14:43:17.801Z"
   },
   {
    "duration": 37,
    "start_time": "2023-08-08T14:43:17.835Z"
   },
   {
    "duration": 19,
    "start_time": "2023-08-08T14:43:17.874Z"
   },
   {
    "duration": 724,
    "start_time": "2023-08-08T14:43:17.896Z"
   },
   {
    "duration": 634,
    "start_time": "2023-08-08T14:43:18.622Z"
   },
   {
    "duration": 11,
    "start_time": "2023-08-08T14:43:19.258Z"
   },
   {
    "duration": 43,
    "start_time": "2023-08-08T14:43:19.272Z"
   },
   {
    "duration": 942,
    "start_time": "2023-08-08T14:43:19.318Z"
   },
   {
    "duration": 5,
    "start_time": "2023-08-08T14:43:20.262Z"
   },
   {
    "duration": 43,
    "start_time": "2023-08-08T14:43:20.268Z"
   },
   {
    "duration": 6,
    "start_time": "2023-08-08T14:43:20.313Z"
   },
   {
    "duration": 535,
    "start_time": "2023-08-08T14:43:20.321Z"
   },
   {
    "duration": 7,
    "start_time": "2023-08-08T14:43:20.862Z"
   },
   {
    "duration": 9,
    "start_time": "2023-08-08T14:43:20.872Z"
   },
   {
    "duration": 14,
    "start_time": "2023-08-08T14:43:20.882Z"
   },
   {
    "duration": 18,
    "start_time": "2023-08-08T14:43:20.897Z"
   },
   {
    "duration": 27,
    "start_time": "2023-08-08T14:43:20.919Z"
   },
   {
    "duration": 15,
    "start_time": "2023-08-08T14:43:20.968Z"
   },
   {
    "duration": 601,
    "start_time": "2023-08-08T14:43:20.985Z"
   },
   {
    "duration": 1005,
    "start_time": "2023-08-08T14:43:21.588Z"
   },
   {
    "duration": 7,
    "start_time": "2023-08-08T14:43:22.595Z"
   },
   {
    "duration": 16,
    "start_time": "2023-08-08T14:43:22.604Z"
   },
   {
    "duration": 869,
    "start_time": "2023-08-08T14:43:22.622Z"
   },
   {
    "duration": 6,
    "start_time": "2023-08-08T14:43:23.494Z"
   },
   {
    "duration": 1506,
    "start_time": "2023-08-08T14:43:23.502Z"
   },
   {
    "duration": 381,
    "start_time": "2023-08-08T14:43:25.010Z"
   },
   {
    "duration": 17,
    "start_time": "2023-08-08T14:43:25.394Z"
   },
   {
    "duration": 14,
    "start_time": "2023-08-08T14:43:25.413Z"
   },
   {
    "duration": 54,
    "start_time": "2023-08-08T14:43:25.429Z"
   },
   {
    "duration": 8,
    "start_time": "2023-08-08T14:43:25.485Z"
   },
   {
    "duration": 28,
    "start_time": "2023-08-08T14:43:25.494Z"
   },
   {
    "duration": 17,
    "start_time": "2023-08-08T14:43:25.524Z"
   },
   {
    "duration": 1421,
    "start_time": "2023-08-08T14:43:25.542Z"
   },
   {
    "duration": 14,
    "start_time": "2023-08-08T14:43:26.972Z"
   },
   {
    "duration": 13,
    "start_time": "2023-08-08T14:43:26.987Z"
   },
   {
    "duration": 8,
    "start_time": "2023-08-08T14:43:27.001Z"
   },
   {
    "duration": 9,
    "start_time": "2023-08-08T14:43:27.011Z"
   },
   {
    "duration": 41,
    "start_time": "2023-08-08T14:43:27.022Z"
   },
   {
    "duration": 20,
    "start_time": "2023-08-08T14:43:27.065Z"
   },
   {
    "duration": 293,
    "start_time": "2023-08-08T14:43:27.087Z"
   },
   {
    "duration": 3,
    "start_time": "2023-08-08T14:43:27.382Z"
   },
   {
    "duration": 25,
    "start_time": "2023-08-08T14:43:27.387Z"
   },
   {
    "duration": 4,
    "start_time": "2023-08-08T14:43:27.414Z"
   },
   {
    "duration": 42,
    "start_time": "2023-08-08T14:43:27.421Z"
   },
   {
    "duration": 322,
    "start_time": "2023-08-08T14:43:27.464Z"
   },
   {
    "duration": 8,
    "start_time": "2023-08-08T14:43:27.788Z"
   },
   {
    "duration": 23,
    "start_time": "2023-08-08T14:43:27.798Z"
   },
   {
    "duration": 8,
    "start_time": "2023-08-08T14:43:27.824Z"
   },
   {
    "duration": 33,
    "start_time": "2023-08-08T14:43:27.834Z"
   },
   {
    "duration": 17,
    "start_time": "2023-08-08T14:43:27.874Z"
   },
   {
    "duration": 2961,
    "start_time": "2023-08-08T14:43:27.893Z"
   },
   {
    "duration": 15,
    "start_time": "2023-08-08T14:43:30.856Z"
   },
   {
    "duration": 35,
    "start_time": "2023-08-08T14:43:30.875Z"
   },
   {
    "duration": 48,
    "start_time": "2023-08-08T14:43:30.912Z"
   },
   {
    "duration": 38,
    "start_time": "2023-08-08T14:43:30.965Z"
   },
   {
    "duration": 37,
    "start_time": "2023-08-08T14:43:31.005Z"
   },
   {
    "duration": 351,
    "start_time": "2023-08-08T14:43:31.044Z"
   },
   {
    "duration": 4,
    "start_time": "2023-08-08T14:43:31.398Z"
   },
   {
    "duration": 45,
    "start_time": "2023-08-08T14:43:31.404Z"
   },
   {
    "duration": 48,
    "start_time": "2023-08-08T14:43:31.451Z"
   },
   {
    "duration": 52,
    "start_time": "2023-08-08T14:43:31.500Z"
   },
   {
    "duration": 39,
    "start_time": "2023-08-08T14:43:31.554Z"
   },
   {
    "duration": 19,
    "start_time": "2023-08-08T14:43:31.661Z"
   },
   {
    "duration": 10,
    "start_time": "2023-08-08T14:43:31.760Z"
   },
   {
    "duration": 360,
    "start_time": "2023-08-08T14:43:31.772Z"
   },
   {
    "duration": 32,
    "start_time": "2023-08-08T14:43:32.134Z"
   },
   {
    "duration": 74,
    "start_time": "2023-08-08T14:43:32.172Z"
   },
   {
    "duration": 22525,
    "start_time": "2023-08-08T14:43:32.248Z"
   },
   {
    "duration": 5,
    "start_time": "2023-08-08T14:43:54.775Z"
   },
   {
    "duration": 309,
    "start_time": "2023-08-08T14:43:54.782Z"
   },
   {
    "duration": 4,
    "start_time": "2023-08-08T14:43:55.097Z"
   },
   {
    "duration": 12,
    "start_time": "2023-08-08T14:43:55.103Z"
   },
   {
    "duration": 40,
    "start_time": "2023-08-08T14:43:55.117Z"
   },
   {
    "duration": 284,
    "start_time": "2023-08-08T14:43:55.163Z"
   },
   {
    "duration": 9,
    "start_time": "2023-08-08T14:43:55.458Z"
   },
   {
    "duration": 326117,
    "start_time": "2023-08-08T14:43:55.475Z"
   },
   {
    "duration": 5,
    "start_time": "2023-08-08T14:49:21.594Z"
   },
   {
    "duration": 14,
    "start_time": "2023-08-08T14:49:21.600Z"
   },
   {
    "duration": 61,
    "start_time": "2023-08-08T14:49:21.616Z"
   },
   {
    "duration": 22,
    "start_time": "2023-08-08T14:49:21.679Z"
   },
   {
    "duration": 342,
    "start_time": "2023-08-08T14:49:21.704Z"
   },
   {
    "duration": 24,
    "start_time": "2023-08-08T14:49:22.049Z"
   },
   {
    "duration": 12,
    "start_time": "2023-08-08T14:49:22.075Z"
   },
   {
    "duration": 284,
    "start_time": "2023-08-08T14:49:22.089Z"
   },
   {
    "duration": 29,
    "start_time": "2023-08-08T14:49:22.378Z"
   },
   {
    "duration": 304,
    "start_time": "2023-08-08T14:49:22.409Z"
   },
   {
    "duration": 21,
    "start_time": "2023-08-08T14:49:22.716Z"
   },
   {
    "duration": 129,
    "start_time": "2023-08-08T15:10:44.674Z"
   },
   {
    "duration": 3239,
    "start_time": "2023-08-09T08:07:04.934Z"
   },
   {
    "duration": 1605,
    "start_time": "2023-08-09T08:07:08.175Z"
   },
   {
    "duration": 408,
    "start_time": "2023-08-09T08:07:09.782Z"
   },
   {
    "duration": 17,
    "start_time": "2023-08-09T08:07:10.192Z"
   },
   {
    "duration": 17,
    "start_time": "2023-08-09T08:07:10.210Z"
   },
   {
    "duration": 29,
    "start_time": "2023-08-09T08:07:10.229Z"
   },
   {
    "duration": 46,
    "start_time": "2023-08-09T08:07:10.259Z"
   },
   {
    "duration": 8,
    "start_time": "2023-08-09T08:07:10.307Z"
   },
   {
    "duration": 4,
    "start_time": "2023-08-09T08:07:10.805Z"
   },
   {
    "duration": 1024,
    "start_time": "2023-08-09T08:07:11.558Z"
   },
   {
    "duration": 20,
    "start_time": "2023-08-09T08:07:12.584Z"
   },
   {
    "duration": 38,
    "start_time": "2023-08-09T08:07:12.687Z"
   },
   {
    "duration": 7,
    "start_time": "2023-08-09T08:07:14.574Z"
   },
   {
    "duration": 10,
    "start_time": "2023-08-09T08:07:15.302Z"
   },
   {
    "duration": 626,
    "start_time": "2023-08-09T08:07:15.728Z"
   },
   {
    "duration": 608,
    "start_time": "2023-08-09T08:07:17.915Z"
   },
   {
    "duration": 8,
    "start_time": "2023-08-09T08:07:18.524Z"
   },
   {
    "duration": 12,
    "start_time": "2023-08-09T08:07:19.078Z"
   },
   {
    "duration": 778,
    "start_time": "2023-08-09T08:07:20.598Z"
   },
   {
    "duration": 5,
    "start_time": "2023-08-09T08:07:21.378Z"
   },
   {
    "duration": 31,
    "start_time": "2023-08-09T08:07:22.841Z"
   },
   {
    "duration": 5,
    "start_time": "2023-08-09T08:07:23.309Z"
   },
   {
    "duration": 492,
    "start_time": "2023-08-09T08:07:24.726Z"
   },
   {
    "duration": 5,
    "start_time": "2023-08-09T08:07:25.816Z"
   },
   {
    "duration": 7,
    "start_time": "2023-08-09T08:07:26.604Z"
   },
   {
    "duration": 4,
    "start_time": "2023-08-09T08:07:27.060Z"
   },
   {
    "duration": 3,
    "start_time": "2023-08-09T08:07:27.415Z"
   },
   {
    "duration": 21,
    "start_time": "2023-08-09T08:07:31.511Z"
   },
   {
    "duration": 10,
    "start_time": "2023-08-09T08:07:32.515Z"
   },
   {
    "duration": 592,
    "start_time": "2023-08-09T08:07:39.696Z"
   },
   {
    "duration": 1000,
    "start_time": "2023-08-09T08:07:40.376Z"
   },
   {
    "duration": 8,
    "start_time": "2023-08-09T08:07:42.213Z"
   },
   {
    "duration": 5,
    "start_time": "2023-08-09T08:07:48.681Z"
   },
   {
    "duration": 818,
    "start_time": "2023-08-09T08:07:49.091Z"
   },
   {
    "duration": 6,
    "start_time": "2023-08-09T08:08:00.596Z"
   },
   {
    "duration": 1430,
    "start_time": "2023-08-09T08:08:00.903Z"
   },
   {
    "duration": 388,
    "start_time": "2023-08-09T08:08:07.211Z"
   },
   {
    "duration": 17,
    "start_time": "2023-08-09T08:08:11.690Z"
   },
   {
    "duration": 15,
    "start_time": "2023-08-09T08:08:12.155Z"
   },
   {
    "duration": 17,
    "start_time": "2023-08-09T08:08:12.646Z"
   },
   {
    "duration": 9,
    "start_time": "2023-08-09T08:08:13.603Z"
   },
   {
    "duration": 20,
    "start_time": "2023-08-09T08:08:14.298Z"
   },
   {
    "duration": 17,
    "start_time": "2023-08-09T08:08:16.891Z"
   },
   {
    "duration": 1432,
    "start_time": "2023-08-09T08:08:45.283Z"
   },
   {
    "duration": 5,
    "start_time": "2023-08-09T08:09:19.578Z"
   },
   {
    "duration": 3,
    "start_time": "2023-08-09T08:09:39.217Z"
   },
   {
    "duration": 1230,
    "start_time": "2023-08-09T08:09:55.615Z"
   },
   {
    "duration": 1699,
    "start_time": "2023-08-09T08:10:40.470Z"
   },
   {
    "duration": 9,
    "start_time": "2023-08-09T08:21:54.679Z"
   },
   {
    "duration": 14,
    "start_time": "2023-08-09T08:21:55.907Z"
   },
   {
    "duration": 278,
    "start_time": "2023-08-09T08:21:56.238Z"
   },
   {
    "duration": 341,
    "start_time": "2023-08-09T08:22:05.028Z"
   },
   {
    "duration": 318,
    "start_time": "2023-08-09T08:22:12.672Z"
   },
   {
    "duration": 382,
    "start_time": "2023-08-09T08:22:22.332Z"
   },
   {
    "duration": 137,
    "start_time": "2023-08-09T08:22:46.882Z"
   },
   {
    "duration": 271,
    "start_time": "2023-08-09T08:22:54.995Z"
   },
   {
    "duration": 200,
    "start_time": "2023-08-09T08:23:21.783Z"
   },
   {
    "duration": 411,
    "start_time": "2023-08-09T08:23:33.778Z"
   },
   {
    "duration": 3,
    "start_time": "2023-08-09T08:27:04.547Z"
   },
   {
    "duration": 20,
    "start_time": "2023-08-09T08:27:05.587Z"
   },
   {
    "duration": 3,
    "start_time": "2023-08-09T08:27:06.389Z"
   },
   {
    "duration": 15,
    "start_time": "2023-08-09T08:27:06.819Z"
   },
   {
    "duration": 179,
    "start_time": "2023-08-09T08:27:08.227Z"
   },
   {
    "duration": 3,
    "start_time": "2023-08-09T08:27:29.237Z"
   },
   {
    "duration": 3,
    "start_time": "2023-08-09T08:27:31.488Z"
   },
   {
    "duration": 1402,
    "start_time": "2023-08-09T08:27:44.346Z"
   },
   {
    "duration": 310,
    "start_time": "2023-08-09T08:27:50.432Z"
   },
   {
    "duration": 287,
    "start_time": "2023-08-09T08:27:56.389Z"
   },
   {
    "duration": 323,
    "start_time": "2023-08-09T09:39:05.047Z"
   },
   {
    "duration": 362,
    "start_time": "2023-08-09T09:39:33.724Z"
   }
  ],
  "kernelspec": {
   "display_name": "Python 3",
   "language": "python",
   "name": "python3"
  },
  "language_info": {
   "codemirror_mode": {
    "name": "ipython",
    "version": 3
   },
   "file_extension": ".py",
   "mimetype": "text/x-python",
   "name": "python",
   "nbconvert_exporter": "python",
   "pygments_lexer": "ipython3",
   "version": "3.8.8"
  },
  "toc": {
   "base_numbering": 1,
   "nav_menu": {},
   "number_sections": true,
   "sideBar": true,
   "skip_h1_title": true,
   "title_cell": "Table of Contents",
   "title_sidebar": "Contents",
   "toc_cell": false,
   "toc_position": {},
   "toc_section_display": true,
   "toc_window_display": false
  }
 },
 "nbformat": 4,
 "nbformat_minor": 5
}
